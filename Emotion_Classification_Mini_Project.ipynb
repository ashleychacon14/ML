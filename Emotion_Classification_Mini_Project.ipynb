{
  "cells": [
    {
      "cell_type": "markdown",
      "metadata": {
        "id": "FE7KNzPPVrVV"
      },
      "source": [
        "# Emotion Classification Mini Project\n",
        "By Ashley Chacon"
      ]
    },
    {
      "cell_type": "markdown",
      "metadata": {
        "id": "KwQtSOz0VrVX"
      },
      "source": [
        "<table class=\"tfo-notebook-buttons\" align=\"left\">\n",
        "  <td>\n",
        "    <a target=\"_blank\" href=\"https://www.tensorflow.org/tutorials/images/classification\"><img src=\"https://www.tensorflow.org/images/tf_logo_32px.png\" />View on TensorFlow.org</a>\n",
        "  </td>\n",
        "  <td>\n",
        "    <a target=\"_blank\" href=\"https://colab.research.google.com/github/tensorflow/docs/blob/master/site/en/tutorials/images/classification.ipynb\"><img src=\"https://www.tensorflow.org/images/colab_logo_32px.png\" />Run in Google Colab</a>\n",
        "  </td>\n",
        "  <td>\n",
        "    <a target=\"_blank\" href=\"https://github.com/tensorflow/docs/blob/master/site/en/tutorials/images/classification.ipynb\"><img src=\"https://www.tensorflow.org/images/GitHub-Mark-32px.png\" />View source on GitHub</a>\n",
        "  </td>\n",
        "  <td>\n",
        "    <a href=\"https://storage.googleapis.com/tensorflow_docs/docs/site/en/tutorials/images/classification.ipynb\"><img src=\"https://www.tensorflow.org/images/download_logo_32px.png\" />Download notebook</a>\n",
        "  </td>\n",
        "</table>"
      ]
    },
    {
      "cell_type": "markdown",
      "metadata": {
        "id": "gN7G9GFmVrVY"
      },
      "source": [
        "This Google Collab is inspired by the CNN TensorFlow tutorial It creates an image classifier using a `tf.keras.Sequential` model, and loads data using `tf.keras.utils.image_dataset_from_directory`.\n",
        "\n",
        "This following is conducted in this project:\n",
        "\n",
        "1. Examine and understand data\n",
        "2. Build an input pipeline\n",
        "3. Build the model\n",
        "4. Train the model\n",
        "5. Test the model\n",
        "6. Improve the model and repeat the process\n",
        "\n"
      ]
    },
    {
      "cell_type": "markdown",
      "metadata": {
        "id": "zF9uvbXNVrVY"
      },
      "source": [
        "## Import TensorFlow and other libraries"
      ]
    },
    {
      "cell_type": "code",
      "execution_count": 1,
      "metadata": {
        "id": "L1WtoaOHVrVh"
      },
      "outputs": [],
      "source": [
        "import matplotlib.pyplot as plt\n",
        "import numpy as np\n",
        "import os\n",
        "import PIL\n",
        "import tensorflow as tf\n",
        "import pandas as pd\n",
        "import seaborn as sns\n",
        "import plotly.express as px\n",
        "\n",
        "from tensorflow import keras\n",
        "from tensorflow.keras import layers\n",
        "from tensorflow.keras.models import Sequential\n",
        "from tensorflow.keras.layers import Activation, Conv2D, MaxPooling2D, Dense, Flatten, Dropout, BatchNormalization\n",
        "\n",
        "from tensorflow.keras.preprocessing.image import ImageDataGenerator\n",
        "from tensorflow.keras.utils import to_categorical\n",
        "\n",
        "from sklearn.metrics import confusion_matrix , classification_report \n",
        "from sklearn.preprocessing import LabelBinarizer\n",
        "from sklearn.metrics import roc_curve, auc, roc_auc_score\n",
        "\n",
        "from IPython.display import clear_output\n",
        "import warnings\n",
        "warnings.filterwarnings('ignore')"
      ]
    },
    {
      "cell_type": "markdown",
      "metadata": {
        "id": "UZZI6lNkVrVm"
      },
      "source": [
        "## Download and explore the dataset"
      ]
    },
    {
      "cell_type": "markdown",
      "metadata": {
        "id": "o6k6ndZNuoND"
      },
      "source": [
        "Download the emotion detection dataset from Kaggle.com: https://www.kaggle.com/datasets/ananthu017/emotion-detection-fer\n",
        "\n",
        "After download, you will have to upload the dataset to this Google Collab. Select the files tab on the lefthand tool bar, and upload manually from your computer downloads."
      ]
    },
    {
      "cell_type": "markdown",
      "metadata": {
        "id": "VpmywIlsVrVx"
      },
      "source": [
        "After downloading, you should now have a copy of the dataset available. There are 28709 training images and 7178 testing images:"
      ]
    },
    {
      "cell_type": "code",
      "execution_count": 2,
      "metadata": {
        "id": "SbtTDYhOHZb6"
      },
      "outputs": [],
      "source": [
        "import pathlib\n",
        "import zipfile\n",
        "\n",
        "\n",
        "with zipfile.ZipFile('archive.zip', 'r') as zip_ref:\n",
        "    zip_ref.extractall()\n"
      ]
    },
    {
      "cell_type": "code",
      "execution_count": 3,
      "metadata": {
        "colab": {
          "base_uri": "https://localhost:8080/"
        },
        "id": "m5feMO0rQcam",
        "outputId": "9c919396-7a7c-4972-feb4-c35d6957af94"
      },
      "outputs": [
        {
          "output_type": "stream",
          "name": "stdout",
          "text": [
            "Number of training images: 28709\n",
            "Number of testing images: 7178\n"
          ]
        }
      ],
      "source": [
        "data_dir_train = \"./train\"\n",
        "data_dir_test = \"./test\"\n",
        "\n",
        "data_dir_train = pathlib.Path(data_dir_train)\n",
        "data_dir_test = pathlib.Path(data_dir_test)\n",
        "\n",
        "\n",
        "train_image_count = len(list(data_dir_train.glob('*/*.png')))\n",
        "print(\"Number of training images:\", train_image_count)\n",
        "\n",
        "test_image_count = len(list(data_dir_test.glob('*/*.png')))\n",
        "print(\"Number of testing images:\", test_image_count)\n"
      ]
    },
    {
      "cell_type": "markdown",
      "metadata": {
        "id": "PVmwkOSdHZ5A"
      },
      "source": [
        "To test that the data has been read, display images from the dataset folder:"
      ]
    },
    {
      "cell_type": "code",
      "execution_count": 4,
      "metadata": {
        "colab": {
          "base_uri": "https://localhost:8080/",
          "height": 113
        },
        "id": "N1loMlbYHeiJ",
        "outputId": "27851066-154e-49ef-c19e-a46766f774e2"
      },
      "outputs": [
        {
          "output_type": "display_data",
          "data": {
            "text/plain": [
              "<PIL.PngImagePlugin.PngImageFile image mode=L size=48x48 at 0x7FA847F08910>"
            ],
            "image/png": "[encoded data removed]"
          },
          "metadata": {}
        },
        {
          "output_type": "display_data",
          "data": {
            "text/plain": [
              "<PIL.PngImagePlugin.PngImageFile image mode=L size=48x48 at 0x7FA847BA9C10>"
            ],
            "image/png": "[encoded data removed]"
          },
          "metadata": {}
        }
      ],
      "source": [
        "happy_images = list(data_dir_train.glob('happy/*'))\n",
        "display(PIL.Image.open(str(happy_images[0])))\n",
        "\n",
        "surprised_images = list(data_dir_train.glob('surprised/*'))\n",
        "display(PIL.Image.open(str(surprised_images[0])))"
      ]
    },
    {
      "cell_type": "code",
      "execution_count": 5,
      "metadata": {
        "colab": {
          "base_uri": "https://localhost:8080/",
          "height": 64
        },
        "id": "RQbZBOTLHiUP",
        "outputId": "a3530c30-fc67-4ed6-c7bf-a699d84f0806"
      },
      "outputs": [
        {
          "output_type": "display_data",
          "data": {
            "text/plain": [
              "<PIL.PngImagePlugin.PngImageFile image mode=L size=48x48 at 0x7FA84796F250>"
            ],
            "image/png": "[encoded data removed]"
          },
          "metadata": {}
        }
      ],
      "source": [
        "display(PIL.Image.open(str(happy_images[73])))"
      ]
    },
    {
      "cell_type": "markdown",
      "metadata": {
        "id": "gIjgz7_JIo_m"
      },
      "source": [
        "# Load data using a Keras utility\n",
        "\n",
        "Let's load these images off disk using the helpful `tf.keras.utils.image_dataset_from_directory` utility. This will take you from a directory of images on disk to a `tf.data.Dataset` in just a couple lines of code."
      ]
    },
    {
      "cell_type": "markdown",
      "metadata": {
        "id": "xyDNn9MbIzfT"
      },
      "source": [
        "## Create a dataset"
      ]
    },
    {
      "cell_type": "markdown",
      "metadata": {
        "id": "anqiK_AGI086"
      },
      "source": [
        "Define some parameters for the loader:"
      ]
    },
    {
      "cell_type": "code",
      "execution_count": 6,
      "metadata": {
        "id": "H74l2DoDI2XD"
      },
      "outputs": [],
      "source": [
        "batch_size = 32\n",
        "img_height = 48\n",
        "img_width = 48"
      ]
    },
    {
      "cell_type": "markdown",
      "metadata": {
        "id": "pFBhRrrEI49z"
      },
      "source": [
        "Split your testing and training data to their designated space. "
      ]
    },
    {
      "cell_type": "code",
      "execution_count": 7,
      "metadata": {
        "colab": {
          "base_uri": "https://localhost:8080/"
        },
        "id": "fIR0kRZiI_AT",
        "outputId": "00df802e-c11d-4ee3-cf2d-f3fb4d0a27ed"
      },
      "outputs": [
        {
          "output_type": "stream",
          "name": "stdout",
          "text": [
            "Found 28709 files belonging to 7 classes.\n"
          ]
        }
      ],
      "source": [
        "train_ds = tf.keras.utils.image_dataset_from_directory(\n",
        "  data_dir_train,\n",
        "  image_size=(img_height, img_width),\n",
        "  batch_size=batch_size)"
      ]
    },
    {
      "cell_type": "code",
      "execution_count": 8,
      "metadata": {
        "colab": {
          "base_uri": "https://localhost:8080/"
        },
        "id": "iscU3UoVJBXj",
        "outputId": "97703293-3224-4766-8e8d-9f8c320515d2"
      },
      "outputs": [
        {
          "output_type": "stream",
          "name": "stdout",
          "text": [
            "Found 7178 files belonging to 7 classes.\n"
          ]
        }
      ],
      "source": [
        "val_ds = tf.keras.utils.image_dataset_from_directory(\n",
        "  data_dir_test,\n",
        "  image_size=(img_height, img_width),\n",
        "  batch_size=batch_size)"
      ]
    },
    {
      "cell_type": "markdown",
      "metadata": {
        "id": "WLQULyAvJC3X"
      },
      "source": [
        "You can find the class names in the `class_names` attribute on these datasets. These correspond to the directory names in alphabetical order."
      ]
    },
    {
      "cell_type": "code",
      "execution_count": 9,
      "metadata": {
        "colab": {
          "base_uri": "https://localhost:8080/"
        },
        "id": "ZHAxkHX5JD3k",
        "outputId": "ff2451fc-2456-4559-f240-987602661d9b"
      },
      "outputs": [
        {
          "output_type": "stream",
          "name": "stdout",
          "text": [
            "['angry', 'disgusted', 'fearful', 'happy', 'neutral', 'sad', 'surprised']\n"
          ]
        }
      ],
      "source": [
        "class_names = train_ds.class_names\n",
        "print(class_names)"
      ]
    },
    {
      "cell_type": "markdown",
      "metadata": {
        "id": "_uoVvxSLJW9m"
      },
      "source": [
        "## Visualize the data\n",
        "\n",
        "Here are the first nine images from the training dataset:"
      ]
    },
    {
      "cell_type": "code",
      "execution_count": 10,
      "metadata": {
        "colab": {
          "base_uri": "https://localhost:8080/",
          "height": 591
        },
        "id": "wBmEA9c0JYes",
        "outputId": "1bd08b68-f800-474a-884b-384dd36c1ab7"
      },
      "outputs": [
        {
          "output_type": "display_data",
          "data": {
            "text/plain": [
              "<Figure size 720x720 with 9 Axes>"
            ],
            "image/png": "[encoded data removed]"
          },
          "metadata": {
            "needs_background": "light"
          }
        }
      ],
      "source": [
        "import matplotlib.pyplot as plt\n",
        "\n",
        "plt.figure(figsize=(10, 10))\n",
        "for images, labels in train_ds.take(1):\n",
        "  for i in range(9):\n",
        "    ax = plt.subplot(3, 3, i + 1)\n",
        "    plt.imshow(images[i].numpy().astype(\"uint8\"))\n",
        "    plt.title(class_names[labels[i]])\n",
        "    plt.axis(\"off\")"
      ]
    },
    {
      "cell_type": "code",
      "execution_count": 11,
      "metadata": {
        "colab": {
          "base_uri": "https://localhost:8080/"
        },
        "id": "2-MfMoenJi8s",
        "outputId": "e52b9596-faed-4cc6-d99d-8b2da4ea34e0"
      },
      "outputs": [
        {
          "output_type": "stream",
          "name": "stdout",
          "text": [
            "(32, 48, 48, 3)\n",
            "(32,)\n"
          ]
        }
      ],
      "source": [
        "for image_batch, labels_batch in train_ds:\n",
        "  print(image_batch.shape)\n",
        "  print(labels_batch.shape)\n",
        "  break"
      ]
    },
    {
      "cell_type": "markdown",
      "metadata": {
        "id": "Wj4FrKxxJkoW"
      },
      "source": [
        "The `image_batch` is a tensor of the shape `(32, 48, 48, 3)`. This is a batch of 32 images of shape `48x48x3` (the last dimension refers to color channels RGB). The `label_batch` is a tensor of the shape `(32,)`, these are corresponding labels to the 32 images.\n"
      ]
    },
    {
      "cell_type": "markdown",
      "metadata": {
        "id": "4Dr0at41KcAU"
      },
      "source": [
        "## Configure the dataset for performance\n",
        "These are two important methods you should use when loading data so you can yield data from disk without having I/O become blocking:\n",
        "\n",
        "- `Dataset.cache` keeps the images in memory after they're loaded off disk during the first epoch. This will ensure the dataset does not become a bottleneck while training your model. If your dataset is too large to fit into memory, you can also use this method to create a performant on-disk cache.\n",
        "- `Dataset.prefetch` overlaps data preprocessing and model execution while training."
      ]
    },
    {
      "cell_type": "code",
      "execution_count": 12,
      "metadata": {
        "id": "nOjJSm7DKoZA"
      },
      "outputs": [],
      "source": [
        "AUTOTUNE = tf.data.AUTOTUNE\n",
        "\n",
        "train_ds = train_ds.cache().shuffle(1000).prefetch(buffer_size=AUTOTUNE)\n",
        "val_ds = val_ds.cache().prefetch(buffer_size=AUTOTUNE)"
      ]
    },
    {
      "cell_type": "markdown",
      "metadata": {
        "id": "8GUnmPF4JvEf"
      },
      "source": [
        "## Standardize the data"
      ]
    },
    {
      "cell_type": "markdown",
      "metadata": {
        "id": "e56VXHMWJxYT"
      },
      "source": [
        "The RGB channel values are in the `[0, 255]` range. This is not ideal for a neural network; in general you should seek to make your input values small.\n",
        "\n",
        "Here, you will standardize values to be in the `[0, 1]` range by using `tf.keras.layers.Rescaling`:"
      ]
    },
    {
      "cell_type": "code",
      "execution_count": 13,
      "metadata": {
        "id": "PEYxo2CTJvY9"
      },
      "outputs": [],
      "source": [
        "normalization_layer = layers.Rescaling(1./255)"
      ]
    },
    {
      "cell_type": "markdown",
      "metadata": {
        "id": "Bl4RmanbJ4g0"
      },
      "source": [
        "Applying layer to the dataset by calling `Dataset.map`:"
      ]
    },
    {
      "cell_type": "code",
      "execution_count": 14,
      "metadata": {
        "colab": {
          "base_uri": "https://localhost:8080/"
        },
        "id": "X9o9ESaJJ502",
        "outputId": "309afb6f-b646-4ff3-a8ac-3702edf2490d"
      },
      "outputs": [
        {
          "output_type": "stream",
          "name": "stdout",
          "text": [
            "0.003921569 1.0\n"
          ]
        }
      ],
      "source": [
        "normalized_ds = train_ds.map(lambda x, y: (normalization_layer(x), y))\n",
        "image_batch, labels_batch = next(iter(normalized_ds))\n",
        "first_image = image_batch[0]\n",
        "# Notice the pixel values are now in `[0,1]`.\n",
        "print(np.min(first_image), np.max(first_image)) "
      ]
    },
    {
      "cell_type": "markdown",
      "metadata": {
        "id": "wJRJ9R_I4lQw"
      },
      "source": [
        "# Original Data Findings\n",
        "Following is the exact data findings of SONYD4D."
      ]
    },
    {
      "cell_type": "code",
      "execution_count": null,
      "metadata": {
        "colab": {
          "base_uri": "https://localhost:8080/"
        },
        "id": "ItfpongE4wnJ",
        "outputId": "9221308c-7947-4af4-f8c1-ed35019262c1"
      },
      "outputs": [
        {
          "name": "stdout",
          "output_type": "stream",
          "text": [
            "Model: \"sequential\"\n",
            "_________________________________________________________________\n",
            " Layer (type)                Output Shape              Param #   \n",
            "=================================================================\n",
            " conv2d (Conv2D)             (None, 48, 48, 32)        896       \n",
            "                                                                 \n",
            " activation (Activation)     (None, 48, 48, 32)        0         \n",
            "                                                                 \n",
            " batch_normalization (BatchN  (None, 48, 48, 32)       128       \n",
            " ormalization)                                                   \n",
            "                                                                 \n",
            " conv2d_1 (Conv2D)           (None, 48, 48, 32)        9248      \n",
            "                                                                 \n",
            " activation_1 (Activation)   (None, 48, 48, 32)        0         \n",
            "                                                                 \n",
            " batch_normalization_1 (Batc  (None, 48, 48, 32)       128       \n",
            " hNormalization)                                                 \n",
            "                                                                 \n",
            " max_pooling2d (MaxPooling2D  (None, 24, 24, 32)       0         \n",
            " )                                                               \n",
            "                                                                 \n",
            " dropout (Dropout)           (None, 24, 24, 32)        0         \n",
            "                                                                 \n",
            " conv2d_2 (Conv2D)           (None, 24, 24, 64)        18496     \n",
            "                                                                 \n",
            " activation_2 (Activation)   (None, 24, 24, 64)        0         \n",
            "                                                                 \n",
            " batch_normalization_2 (Batc  (None, 24, 24, 64)       256       \n",
            " hNormalization)                                                 \n",
            "                                                                 \n",
            " conv2d_3 (Conv2D)           (None, 24, 24, 64)        36928     \n",
            "                                                                 \n",
            " activation_3 (Activation)   (None, 24, 24, 64)        0         \n",
            "                                                                 \n",
            " batch_normalization_3 (Batc  (None, 24, 24, 64)       256       \n",
            " hNormalization)                                                 \n",
            "                                                                 \n",
            " max_pooling2d_1 (MaxPooling  (None, 12, 12, 64)       0         \n",
            " 2D)                                                             \n",
            "                                                                 \n",
            " dropout_1 (Dropout)         (None, 12, 12, 64)        0         \n",
            "                                                                 \n",
            " conv2d_4 (Conv2D)           (None, 12, 12, 128)       73856     \n",
            "                                                                 \n",
            " activation_4 (Activation)   (None, 12, 12, 128)       0         \n",
            "                                                                 \n",
            " batch_normalization_4 (Batc  (None, 12, 12, 128)      512       \n",
            " hNormalization)                                                 \n",
            "                                                                 \n",
            " conv2d_5 (Conv2D)           (None, 12, 12, 128)       147584    \n",
            "                                                                 \n",
            " activation_5 (Activation)   (None, 12, 12, 128)       0         \n",
            "                                                                 \n",
            " batch_normalization_5 (Batc  (None, 12, 12, 128)      512       \n",
            " hNormalization)                                                 \n",
            "                                                                 \n",
            " max_pooling2d_2 (MaxPooling  (None, 6, 6, 128)        0         \n",
            " 2D)                                                             \n",
            "                                                                 \n",
            " dropout_2 (Dropout)         (None, 6, 6, 128)         0         \n",
            "                                                                 \n",
            " conv2d_6 (Conv2D)           (None, 6, 6, 256)         295168    \n",
            "                                                                 \n",
            " activation_6 (Activation)   (None, 6, 6, 256)         0         \n",
            "                                                                 \n",
            " batch_normalization_6 (Batc  (None, 6, 6, 256)        1024      \n",
            " hNormalization)                                                 \n",
            "                                                                 \n",
            " conv2d_7 (Conv2D)           (None, 6, 6, 256)         590080    \n",
            "                                                                 \n",
            " activation_7 (Activation)   (None, 6, 6, 256)         0         \n",
            "                                                                 \n",
            " batch_normalization_7 (Batc  (None, 6, 6, 256)        1024      \n",
            " hNormalization)                                                 \n",
            "                                                                 \n",
            " max_pooling2d_3 (MaxPooling  (None, 3, 3, 256)        0         \n",
            " 2D)                                                             \n",
            "                                                                 \n",
            " dropout_3 (Dropout)         (None, 3, 3, 256)         0         \n",
            "                                                                 \n",
            " flatten (Flatten)           (None, 2304)              0         \n",
            "                                                                 \n",
            " dense (Dense)               (None, 64)                147520    \n",
            "                                                                 \n",
            " activation_8 (Activation)   (None, 64)                0         \n",
            "                                                                 \n",
            " batch_normalization_8 (Batc  (None, 64)               256       \n",
            " hNormalization)                                                 \n",
            "                                                                 \n",
            " dropout_4 (Dropout)         (None, 64)                0         \n",
            "                                                                 \n",
            " dense_1 (Dense)             (None, 64)                4160      \n",
            "                                                                 \n",
            " activation_9 (Activation)   (None, 64)                0         \n",
            "                                                                 \n",
            " batch_normalization_9 (Batc  (None, 64)               256       \n",
            " hNormalization)                                                 \n",
            "                                                                 \n",
            " dropout_5 (Dropout)         (None, 64)                0         \n",
            "                                                                 \n",
            " dense_2 (Dense)             (None, 7)                 455       \n",
            "                                                                 \n",
            " activation_10 (Activation)  (None, 7)                 0         \n",
            "                                                                 \n",
            "=================================================================\n",
            "Total params: 1,328,743\n",
            "Trainable params: 1,326,567\n",
            "Non-trainable params: 2,176\n",
            "_________________________________________________________________\n"
          ]
        }
      ],
      "source": [
        "model = tf.keras.Sequential()\n",
        "\n",
        "model.add(Conv2D(32,(3,3),padding='same',kernel_initializer='he_normal',input_shape=(48,48,3)))\n",
        "model.add(Activation('relu'))\n",
        "model.add(BatchNormalization())\n",
        "model.add(Conv2D(32,(3,3),padding='same',kernel_initializer='he_normal',input_shape=(48,48,3)))\n",
        "model.add(Activation('relu'))\n",
        "model.add(BatchNormalization())\n",
        "model.add(MaxPooling2D(pool_size=(2,2)))\n",
        "model.add(Dropout(0.2))\n",
        "\n",
        "\n",
        "model.add(Conv2D(64,(3,3),padding='same',kernel_initializer='he_normal'))\n",
        "model.add(Activation('relu'))\n",
        "model.add(BatchNormalization())\n",
        "model.add(Conv2D(64,(3,3),padding='same',kernel_initializer='he_normal'))\n",
        "model.add(Activation('relu'))\n",
        "model.add(BatchNormalization())\n",
        "model.add(MaxPooling2D(pool_size=(2,2)))\n",
        "model.add(Dropout(0.2))\n",
        "\n",
        "\n",
        "model.add(Conv2D(128,(3,3),padding='same',kernel_initializer='he_normal'))\n",
        "model.add(Activation('relu'))\n",
        "model.add(BatchNormalization())\n",
        "model.add(Conv2D(128,(3,3),padding='same',kernel_initializer='he_normal'))\n",
        "model.add(Activation('relu'))\n",
        "model.add(BatchNormalization())\n",
        "model.add(MaxPooling2D(pool_size=(2,2)))\n",
        "model.add(Dropout(0.2))\n",
        "\n",
        "\n",
        "model.add(Conv2D(256,(3,3),padding='same',kernel_initializer='he_normal'))\n",
        "model.add(Activation('relu'))\n",
        "model.add(BatchNormalization())\n",
        "model.add(Conv2D(256,(3,3),padding='same',kernel_initializer='he_normal'))\n",
        "model.add(Activation('relu'))\n",
        "model.add(BatchNormalization())\n",
        "model.add(MaxPooling2D(pool_size=(2,2)))\n",
        "model.add(Dropout(0.2))\n",
        "\n",
        "model.add(Flatten())\n",
        "model.add(Dense(64,kernel_initializer='he_normal'))\n",
        "model.add(Activation('relu'))\n",
        "model.add(BatchNormalization())\n",
        "model.add(Dropout(0.5))\n",
        "\n",
        "\n",
        "model.add(Dense(64,kernel_initializer='he_normal'))\n",
        "model.add(Activation('relu'))\n",
        "model.add(BatchNormalization())\n",
        "model.add(Dropout(0.5))\n",
        "\n",
        "\n",
        "model.add(Dense(7,kernel_initializer='he_normal'))\n",
        "model.add(Activation('softmax'))\n",
        "\n",
        "model.summary()"
      ]
    },
    {
      "cell_type": "code",
      "execution_count": null,
      "metadata": {
        "id": "pB5b0ZV-5O1U"
      },
      "outputs": [],
      "source": [
        "optimizer = tf.keras.optimizers.Adam(learning_rate= 0.005)\n",
        "model.compile(optimizer='adam',\n",
        "              loss=tf.keras.losses.SparseCategoricalCrossentropy(from_logits=True),\n",
        "              metrics=['accuracy'])"
      ]
    },
    {
      "cell_type": "code",
      "execution_count": null,
      "metadata": {
        "colab": {
          "background_save": true,
          "base_uri": "https://localhost:8080/"
        },
        "id": "r6ipk4btPKNM",
        "outputId": "9d373fd7-2fcb-4b55-8169-8b0b7e72f4e6"
      },
      "outputs": [
        {
          "name": "stdout",
          "output_type": "stream",
          "text": [
            "Epoch 1/50\n"
          ]
        },
        {
          "name": "stderr",
          "output_type": "stream",
          "text": [
            "/usr/local/lib/python3.7/dist-packages/tensorflow/python/util/dispatch.py:1082: UserWarning: \"`sparse_categorical_crossentropy` received `from_logits=True`, but the `output` argument was produced by a sigmoid or softmax activation and thus does not represent logits. Was this intended?\"\n",
            "  return dispatch_target(*args, **kwargs)\n"
          ]
        },
        {
          "name": "stdout",
          "output_type": "stream",
          "text": [
            "898/898 [==============================] - 45s 38ms/step - loss: 2.1622 - accuracy: 0.2086 - val_loss: 1.7603 - val_accuracy: 0.2712\n",
            "Epoch 2/50\n",
            "898/898 [==============================] - 31s 35ms/step - loss: 1.6903 - accuracy: 0.3238 - val_loss: 1.5180 - val_accuracy: 0.3951\n",
            "Epoch 3/50\n",
            "898/898 [==============================] - 31s 35ms/step - loss: 1.4611 - accuracy: 0.4325 - val_loss: 1.3213 - val_accuracy: 0.4898\n",
            "Epoch 4/50\n",
            "898/898 [==============================] - 31s 35ms/step - loss: 1.3430 - accuracy: 0.4840 - val_loss: 1.2361 - val_accuracy: 0.5171\n",
            "Epoch 5/50\n",
            "898/898 [==============================] - 31s 35ms/step - loss: 1.2814 - accuracy: 0.5146 - val_loss: 1.1996 - val_accuracy: 0.5426\n",
            "Epoch 6/50\n",
            "898/898 [==============================] - 32s 35ms/step - loss: 1.2192 - accuracy: 0.5413 - val_loss: 1.1637 - val_accuracy: 0.5504\n",
            "Epoch 7/50\n",
            "898/898 [==============================] - 31s 35ms/step - loss: 1.1679 - accuracy: 0.5657 - val_loss: 1.1225 - val_accuracy: 0.5698\n",
            "Epoch 8/50\n",
            "898/898 [==============================] - 31s 35ms/step - loss: 1.1116 - accuracy: 0.5885 - val_loss: 1.1059 - val_accuracy: 0.5765\n",
            "Epoch 9/50\n",
            "898/898 [==============================] - 31s 35ms/step - loss: 1.0629 - accuracy: 0.6109 - val_loss: 1.0564 - val_accuracy: 0.5992\n",
            "Epoch 10/50\n",
            "898/898 [==============================] - 31s 35ms/step - loss: 1.0151 - accuracy: 0.6320 - val_loss: 1.0598 - val_accuracy: 0.6000\n",
            "Epoch 11/50\n",
            "898/898 [==============================] - 31s 35ms/step - loss: 0.9650 - accuracy: 0.6538 - val_loss: 1.0706 - val_accuracy: 0.6095\n",
            "Epoch 12/50\n",
            "898/898 [==============================] - 31s 35ms/step - loss: 0.9173 - accuracy: 0.6689 - val_loss: 1.0556 - val_accuracy: 0.6115\n",
            "Epoch 13/50\n",
            "898/898 [==============================] - 32s 35ms/step - loss: 0.8714 - accuracy: 0.6878 - val_loss: 1.0624 - val_accuracy: 0.6135\n",
            "Epoch 14/50\n",
            "898/898 [==============================] - 31s 35ms/step - loss: 0.8195 - accuracy: 0.7099 - val_loss: 1.0589 - val_accuracy: 0.6226\n",
            "Epoch 15/50\n",
            "898/898 [==============================] - 31s 35ms/step - loss: 0.7783 - accuracy: 0.7277 - val_loss: 1.0467 - val_accuracy: 0.6239\n",
            "Epoch 16/50\n",
            "898/898 [==============================] - 31s 35ms/step - loss: 0.7189 - accuracy: 0.7487 - val_loss: 1.0812 - val_accuracy: 0.6321\n",
            "Epoch 17/50\n",
            "898/898 [==============================] - 31s 35ms/step - loss: 0.6790 - accuracy: 0.7630 - val_loss: 1.1233 - val_accuracy: 0.6265\n",
            "Epoch 18/50\n",
            "898/898 [==============================] - 31s 35ms/step - loss: 0.6393 - accuracy: 0.7775 - val_loss: 1.1369 - val_accuracy: 0.6323\n",
            "Epoch 19/50\n",
            "898/898 [==============================] - 31s 35ms/step - loss: 0.5977 - accuracy: 0.7959 - val_loss: 1.1799 - val_accuracy: 0.6147\n",
            "Epoch 20/50\n",
            "898/898 [==============================] - 31s 35ms/step - loss: 0.5702 - accuracy: 0.8063 - val_loss: 1.1884 - val_accuracy: 0.6262\n",
            "Epoch 21/50\n",
            "898/898 [==============================] - 31s 35ms/step - loss: 0.5355 - accuracy: 0.8187 - val_loss: 1.1908 - val_accuracy: 0.6390\n",
            "Epoch 22/50\n",
            "898/898 [==============================] - 32s 35ms/step - loss: 0.4951 - accuracy: 0.8319 - val_loss: 1.2266 - val_accuracy: 0.6400\n",
            "Epoch 23/50\n",
            "898/898 [==============================] - 31s 35ms/step - loss: 0.4767 - accuracy: 0.8384 - val_loss: 1.2938 - val_accuracy: 0.6291\n",
            "Epoch 24/50\n",
            "898/898 [==============================] - 31s 35ms/step - loss: 0.4425 - accuracy: 0.8511 - val_loss: 1.3092 - val_accuracy: 0.6365\n",
            "Epoch 25/50\n",
            "898/898 [==============================] - 31s 35ms/step - loss: 0.4261 - accuracy: 0.8556 - val_loss: 1.3319 - val_accuracy: 0.6332\n",
            "Epoch 26/50\n",
            "898/898 [==============================] - 31s 35ms/step - loss: 0.4009 - accuracy: 0.8643 - val_loss: 1.3877 - val_accuracy: 0.6358\n",
            "Epoch 27/50\n",
            "898/898 [==============================] - 31s 34ms/step - loss: 0.3830 - accuracy: 0.8731 - val_loss: 1.3167 - val_accuracy: 0.6442\n",
            "Epoch 28/50\n",
            "898/898 [==============================] - 31s 34ms/step - loss: 0.3681 - accuracy: 0.8764 - val_loss: 1.3994 - val_accuracy: 0.6415\n",
            "Epoch 29/50\n",
            "898/898 [==============================] - 31s 35ms/step - loss: 0.3458 - accuracy: 0.8838 - val_loss: 1.4548 - val_accuracy: 0.6344\n",
            "Epoch 30/50\n",
            "898/898 [==============================] - 31s 34ms/step - loss: 0.3323 - accuracy: 0.8894 - val_loss: 1.4368 - val_accuracy: 0.6335\n",
            "Epoch 31/50\n",
            "898/898 [==============================] - 30s 34ms/step - loss: 0.3275 - accuracy: 0.8913 - val_loss: 1.5309 - val_accuracy: 0.6456\n",
            "Epoch 32/50\n",
            "898/898 [==============================] - 30s 34ms/step - loss: 0.3090 - accuracy: 0.8983 - val_loss: 1.4463 - val_accuracy: 0.6434\n",
            "Epoch 33/50\n",
            "898/898 [==============================] - 31s 34ms/step - loss: 0.3031 - accuracy: 0.8994 - val_loss: 1.5132 - val_accuracy: 0.6364\n",
            "Epoch 34/50\n",
            "898/898 [==============================] - 31s 34ms/step - loss: 0.2859 - accuracy: 0.9075 - val_loss: 1.4982 - val_accuracy: 0.6386\n",
            "Epoch 35/50\n",
            "898/898 [==============================] - 31s 34ms/step - loss: 0.2830 - accuracy: 0.9071 - val_loss: 1.5130 - val_accuracy: 0.6417\n",
            "Epoch 36/50\n",
            "898/898 [==============================] - 31s 34ms/step - loss: 0.2752 - accuracy: 0.9099 - val_loss: 1.5085 - val_accuracy: 0.6435\n",
            "Epoch 37/50\n",
            "898/898 [==============================] - 31s 34ms/step - loss: 0.2566 - accuracy: 0.9151 - val_loss: 1.5892 - val_accuracy: 0.6350\n",
            "Epoch 38/50\n",
            "898/898 [==============================] - 31s 34ms/step - loss: 0.2572 - accuracy: 0.9168 - val_loss: 1.6018 - val_accuracy: 0.6347\n",
            "Epoch 39/50\n",
            "898/898 [==============================] - 30s 34ms/step - loss: 0.2518 - accuracy: 0.9185 - val_loss: 1.5497 - val_accuracy: 0.6418\n",
            "Epoch 40/50\n",
            "898/898 [==============================] - 31s 35ms/step - loss: 0.2414 - accuracy: 0.9213 - val_loss: 1.6057 - val_accuracy: 0.6393\n",
            "Epoch 41/50\n",
            "898/898 [==============================] - 31s 34ms/step - loss: 0.2385 - accuracy: 0.9218 - val_loss: 1.5862 - val_accuracy: 0.6441\n",
            "Epoch 42/50\n",
            "898/898 [==============================] - 30s 34ms/step - loss: 0.2316 - accuracy: 0.9249 - val_loss: 1.6436 - val_accuracy: 0.6365\n",
            "Epoch 43/50\n",
            "898/898 [==============================] - 31s 35ms/step - loss: 0.2202 - accuracy: 0.9278 - val_loss: 1.6399 - val_accuracy: 0.6395\n",
            "Epoch 44/50\n",
            "898/898 [==============================] - 30s 34ms/step - loss: 0.2178 - accuracy: 0.9296 - val_loss: 1.6788 - val_accuracy: 0.6404\n",
            "Epoch 45/50\n",
            "898/898 [==============================] - 31s 35ms/step - loss: 0.2021 - accuracy: 0.9343 - val_loss: 1.7538 - val_accuracy: 0.6408\n",
            "Epoch 46/50\n",
            "898/898 [==============================] - 31s 35ms/step - loss: 0.2065 - accuracy: 0.9320 - val_loss: 1.7087 - val_accuracy: 0.6411\n",
            "Epoch 47/50\n",
            "898/898 [==============================] - 31s 35ms/step - loss: 0.2111 - accuracy: 0.9316 - val_loss: 1.7065 - val_accuracy: 0.6315\n",
            "Epoch 48/50\n",
            "898/898 [==============================] - 31s 35ms/step - loss: 0.1943 - accuracy: 0.9375 - val_loss: 1.6960 - val_accuracy: 0.6406\n",
            "Epoch 49/50\n",
            "898/898 [==============================] - 31s 35ms/step - loss: 0.2032 - accuracy: 0.9347 - val_loss: 1.7083 - val_accuracy: 0.6396\n",
            "Epoch 50/50\n",
            "898/898 [==============================] - 31s 35ms/step - loss: 0.1931 - accuracy: 0.9372 - val_loss: 1.7260 - val_accuracy: 0.6408\n"
          ]
        }
      ],
      "source": [
        "epochs = 50\n",
        "history = model.fit(\n",
        "  train_ds,\n",
        "  validation_data=val_ds,\n",
        "  epochs=epochs\n",
        ")"
      ]
    },
    {
      "cell_type": "markdown",
      "metadata": {
        "id": "vduL77ym5a1d"
      },
      "source": [
        "# Evaluation\n",
        "As seen, the data findings created by original code is slightly less efficient that the modified code developed. A reason may be because the modified code also includes data augumentation while the original does not."
      ]
    },
    {
      "cell_type": "code",
      "execution_count": null,
      "metadata": {
        "colab": {
          "background_save": true
        },
        "id": "P3lE7kdP5Sdv",
        "outputId": "c2c9abda-f7ee-4697-efc1-9b9033cb762c"
      },
      "outputs": [
        {
          "data": {
            "image/png": "[encoded data removed]",
            "text/plain": [
              "<Figure size 432x288 with 1 Axes>"
            ]
          },
          "metadata": {},
          "output_type": "display_data"
        }
      ],
      "source": [
        "plt.plot(history.history['accuracy'], label='Accuracy')\n",
        "plt.plot(history.history['val_accuracy'], label='Validation Accuracy')\n",
        "plt.title('CNN Metrices (Accuracy)')\n",
        "plt.ylabel('% value')\n",
        "plt.xlabel('Epoch')\n",
        "plt.legend(loc=\"upper left\")\n",
        "plt.show()"
      ]
    },
    {
      "cell_type": "code",
      "execution_count": null,
      "metadata": {
        "colab": {
          "background_save": true
        },
        "id": "nRIiAnNc5Uuz",
        "outputId": "1cb2cf25-fa98-430b-a1f3-34f082477953"
      },
      "outputs": [
        {
          "data": {
            "image/png": "[encoded data removed]",
            "text/plain": [
              "<Figure size 432x288 with 1 Axes>"
            ]
          },
          "metadata": {},
          "output_type": "display_data"
        }
      ],
      "source": [
        "plt.plot(history.history['loss'], label='Loss')\n",
        "plt.plot(history.history['val_loss'], label='Validation loss')\n",
        "plt.title('CNN Metrices(Loss)')\n",
        "plt.ylabel('% value')\n",
        "plt.xlabel('Epoch')\n",
        "plt.legend(loc=\"upper left\")\n",
        "plt.show()"
      ]
    },
    {
      "cell_type": "markdown",
      "metadata": {
        "id": "217UdLI95vMT"
      },
      "source": [
        "\n",
        "\n",
        "-----------------------------------------------------\n"
      ]
    },
    {
      "cell_type": "markdown",
      "metadata": {
        "id": "BDMfYqwmM1C-"
      },
      "source": [
        "## Data augmentation & Dropout"
      ]
    },
    {
      "cell_type": "markdown",
      "metadata": {
        "id": "GxYwix81M2YO"
      },
      "source": [
        "Data augmentation takes the approach of generating additional training data from your existing examples by augmenting them using random transformations that yield believable-looking images. This helps expose the model to more aspects of the data and generalize better. \n",
        "When you apply dropout to a layer, it randomly drops out (by setting the activation to zero) a number of output units from the layer during the training process.\n",
        "\n",
        "Implemented data augmentation and dropout using the following Keras preprocessing layers: `tf.keras.layers.RandomFlip`, `tf.keras.layers.RandomRotation`, and `tf.keras.layers.RandomZoom`, `tf.keras.layers.Dropout`."
      ]
    },
    {
      "cell_type": "code",
      "execution_count": 15,
      "metadata": {
        "id": "9J80BAbIMs21"
      },
      "outputs": [],
      "source": [
        "data_augmentation = keras.Sequential(\n",
        "  [\n",
        "    layers.RandomFlip(\"horizontal\",\n",
        "                      input_shape=(img_height,\n",
        "                                  img_width,\n",
        "                                  3)),\n",
        "    layers.RandomRotation(0.1),\n",
        "    layers.RandomZoom(0.1),\n",
        "  ]\n",
        ")"
      ]
    },
    {
      "cell_type": "markdown",
      "metadata": {
        "id": "PN4k1dK3S6eV"
      },
      "source": [
        "A few augmented examples look like by applying data augmentation to the same image several times:"
      ]
    },
    {
      "cell_type": "code",
      "execution_count": 16,
      "metadata": {
        "colab": {
          "base_uri": "https://localhost:8080/",
          "height": 574
        },
        "id": "7Z90k539S838",
        "outputId": "76d2965c-b110-4539-cc63-2b00f4cc75ee"
      },
      "outputs": [
        {
          "output_type": "display_data",
          "data": {
            "text/plain": [
              "<Figure size 720x720 with 9 Axes>"
            ],
            "image/png": "[encoded data removed]"
          },
          "metadata": {
            "needs_background": "light"
          }
        }
      ],
      "source": [
        "plt.figure(figsize=(10, 10))\n",
        "for images, _ in train_ds.take(1):\n",
        "  for i in range(9):\n",
        "    augmented_images = data_augmentation(images)\n",
        "    ax = plt.subplot(3, 3, i + 1)\n",
        "    plt.imshow(augmented_images[0].numpy().astype(\"uint8\"))\n",
        "    plt.axis(\"off\")"
      ]
    },
    {
      "cell_type": "markdown",
      "metadata": {
        "id": "kQMrBfIwtIG_"
      },
      "source": [
        "Implemented CNN is credited SONYD4D's post from Kaggle.com: https://www.kaggle.com/code/sonyd4d/cnn-for-emotion-detection\n",
        "\n"
      ]
    },
    {
      "cell_type": "code",
      "execution_count": 17,
      "metadata": {
        "id": "Vur39h6-C0JO"
      },
      "outputs": [],
      "source": [
        "num_classes = len(class_names)\n",
        "\n",
        "model = tf.keras.Sequential()\n",
        "model.add(data_augmentation)\n",
        "model.add(layers.Rescaling(1./255))\n",
        "model.add(Conv2D(32,(3,3),padding='same',kernel_initializer='he_normal',input_shape=(48,48,3)))\n",
        "model.add(Activation('relu'))\n",
        "model.add(BatchNormalization())\n",
        "model.add(Conv2D(32,(3,3),padding='same',kernel_initializer='he_normal',input_shape=(48,48,3)))\n",
        "model.add(Activation('relu'))\n",
        "model.add(BatchNormalization())\n",
        "model.add(MaxPooling2D(pool_size=(2,2)))\n",
        "model.add(Dropout(0.4))\n",
        "\n",
        "\n",
        "model.add(Conv2D(64,(3,3),padding='same',kernel_initializer='he_normal'))\n",
        "model.add(Activation('relu'))\n",
        "model.add(BatchNormalization())\n",
        "model.add(Conv2D(64,(3,3),padding='same',kernel_initializer='he_normal'))\n",
        "model.add(Activation('relu'))\n",
        "model.add(BatchNormalization())\n",
        "model.add(MaxPooling2D(pool_size=(2,2)))\n",
        "model.add(Dropout(0.4))\n",
        "\n",
        "\n",
        "model.add(Conv2D(128,(3,3),padding='same',kernel_initializer='he_normal'))\n",
        "model.add(Activation('relu'))\n",
        "model.add(BatchNormalization())\n",
        "model.add(Conv2D(128,(3,3),padding='same',kernel_initializer='he_normal'))\n",
        "model.add(Activation('relu'))\n",
        "model.add(BatchNormalization())\n",
        "model.add(MaxPooling2D(pool_size=(2,2)))\n",
        "model.add(Dropout(0.4))\n",
        "\n",
        "\n",
        "model.add(Conv2D(256,(3,3),padding='same',kernel_initializer='he_normal'))\n",
        "model.add(Activation('relu'))\n",
        "model.add(BatchNormalization())\n",
        "model.add(Conv2D(256,(3,3),padding='same',kernel_initializer='he_normal'))\n",
        "model.add(Activation('relu'))\n",
        "model.add(BatchNormalization())\n",
        "model.add(MaxPooling2D(pool_size=(2,2)))\n",
        "model.add(Dropout(0.4))\n",
        "\n",
        "\n",
        "model.add(Flatten())\n",
        "model.add(Dense(64,kernel_initializer='he_normal'))\n",
        "model.add(Activation('relu'))\n",
        "model.add(BatchNormalization())\n",
        "model.add(Dropout(0.4))\n",
        "\n",
        "\n",
        "model.add(Dense(64,kernel_initializer='he_normal'))\n",
        "model.add(Activation('relu'))\n",
        "model.add(BatchNormalization())\n",
        "model.add(Dropout(0.4))\n",
        "model.add(Dense(num_classes))"
      ]
    },
    {
      "cell_type": "markdown",
      "metadata": {
        "id": "L4nEcuqgZLbi"
      },
      "source": [
        "## Compile and train the model"
      ]
    },
    {
      "cell_type": "code",
      "execution_count": 18,
      "metadata": {
        "id": "EvyAINs9ZOmJ"
      },
      "outputs": [],
      "source": [
        "optimizer = tf.keras.optimizers.Adam(learning_rate= 0.005)\n",
        "model.compile(optimizer='adam',\n",
        "              loss=tf.keras.losses.SparseCategoricalCrossentropy(from_logits=True),\n",
        "              metrics=['accuracy'])"
      ]
    },
    {
      "cell_type": "code",
      "execution_count": 19,
      "metadata": {
        "colab": {
          "base_uri": "https://localhost:8080/"
        },
        "id": "wWLkKoKjZSoC",
        "outputId": "8f18d849-fd83-405a-9f9e-3deadf47a9d9"
      },
      "outputs": [
        {
          "output_type": "stream",
          "name": "stdout",
          "text": [
            "Model: \"sequential_1\"\n",
            "_________________________________________________________________\n",
            " Layer (type)                Output Shape              Param #   \n",
            "=================================================================\n",
            " sequential (Sequential)     (None, 48, 48, 3)         0         \n",
            "                                                                 \n",
            " rescaling_1 (Rescaling)     (None, 48, 48, 3)         0         \n",
            "                                                                 \n",
            " conv2d (Conv2D)             (None, 48, 48, 32)        896       \n",
            "                                                                 \n",
            " activation (Activation)     (None, 48, 48, 32)        0         \n",
            "                                                                 \n",
            " batch_normalization (BatchN  (None, 48, 48, 32)       128       \n",
            " ormalization)                                                   \n",
            "                                                                 \n",
            " conv2d_1 (Conv2D)           (None, 48, 48, 32)        9248      \n",
            "                                                                 \n",
            " activation_1 (Activation)   (None, 48, 48, 32)        0         \n",
            "                                                                 \n",
            " batch_normalization_1 (Batc  (None, 48, 48, 32)       128       \n",
            " hNormalization)                                                 \n",
            "                                                                 \n",
            " max_pooling2d (MaxPooling2D  (None, 24, 24, 32)       0         \n",
            " )                                                               \n",
            "                                                                 \n",
            " dropout (Dropout)           (None, 24, 24, 32)        0         \n",
            "                                                                 \n",
            " conv2d_2 (Conv2D)           (None, 24, 24, 64)        18496     \n",
            "                                                                 \n",
            " activation_2 (Activation)   (None, 24, 24, 64)        0         \n",
            "                                                                 \n",
            " batch_normalization_2 (Batc  (None, 24, 24, 64)       256       \n",
            " hNormalization)                                                 \n",
            "                                                                 \n",
            " conv2d_3 (Conv2D)           (None, 24, 24, 64)        36928     \n",
            "                                                                 \n",
            " activation_3 (Activation)   (None, 24, 24, 64)        0         \n",
            "                                                                 \n",
            " batch_normalization_3 (Batc  (None, 24, 24, 64)       256       \n",
            " hNormalization)                                                 \n",
            "                                                                 \n",
            " max_pooling2d_1 (MaxPooling  (None, 12, 12, 64)       0         \n",
            " 2D)                                                             \n",
            "                                                                 \n",
            " dropout_1 (Dropout)         (None, 12, 12, 64)        0         \n",
            "                                                                 \n",
            " conv2d_4 (Conv2D)           (None, 12, 12, 128)       73856     \n",
            "                                                                 \n",
            " activation_4 (Activation)   (None, 12, 12, 128)       0         \n",
            "                                                                 \n",
            " batch_normalization_4 (Batc  (None, 12, 12, 128)      512       \n",
            " hNormalization)                                                 \n",
            "                                                                 \n",
            " conv2d_5 (Conv2D)           (None, 12, 12, 128)       147584    \n",
            "                                                                 \n",
            " activation_5 (Activation)   (None, 12, 12, 128)       0         \n",
            "                                                                 \n",
            " batch_normalization_5 (Batc  (None, 12, 12, 128)      512       \n",
            " hNormalization)                                                 \n",
            "                                                                 \n",
            " max_pooling2d_2 (MaxPooling  (None, 6, 6, 128)        0         \n",
            " 2D)                                                             \n",
            "                                                                 \n",
            " dropout_2 (Dropout)         (None, 6, 6, 128)         0         \n",
            "                                                                 \n",
            " conv2d_6 (Conv2D)           (None, 6, 6, 256)         295168    \n",
            "                                                                 \n",
            " activation_6 (Activation)   (None, 6, 6, 256)         0         \n",
            "                                                                 \n",
            " batch_normalization_6 (Batc  (None, 6, 6, 256)        1024      \n",
            " hNormalization)                                                 \n",
            "                                                                 \n",
            " conv2d_7 (Conv2D)           (None, 6, 6, 256)         590080    \n",
            "                                                                 \n",
            " activation_7 (Activation)   (None, 6, 6, 256)         0         \n",
            "                                                                 \n",
            " batch_normalization_7 (Batc  (None, 6, 6, 256)        1024      \n",
            " hNormalization)                                                 \n",
            "                                                                 \n",
            " max_pooling2d_3 (MaxPooling  (None, 3, 3, 256)        0         \n",
            " 2D)                                                             \n",
            "                                                                 \n",
            " dropout_3 (Dropout)         (None, 3, 3, 256)         0         \n",
            "                                                                 \n",
            " flatten (Flatten)           (None, 2304)              0         \n",
            "                                                                 \n",
            " dense (Dense)               (None, 64)                147520    \n",
            "                                                                 \n",
            " activation_8 (Activation)   (None, 64)                0         \n",
            "                                                                 \n",
            " batch_normalization_8 (Batc  (None, 64)               256       \n",
            " hNormalization)                                                 \n",
            "                                                                 \n",
            " dropout_4 (Dropout)         (None, 64)                0         \n",
            "                                                                 \n",
            " dense_1 (Dense)             (None, 64)                4160      \n",
            "                                                                 \n",
            " activation_9 (Activation)   (None, 64)                0         \n",
            "                                                                 \n",
            " batch_normalization_9 (Batc  (None, 64)               256       \n",
            " hNormalization)                                                 \n",
            "                                                                 \n",
            " dropout_5 (Dropout)         (None, 64)                0         \n",
            "                                                                 \n",
            " dense_2 (Dense)             (None, 7)                 455       \n",
            "                                                                 \n",
            "=================================================================\n",
            "Total params: 1,328,743\n",
            "Trainable params: 1,326,567\n",
            "Non-trainable params: 2,176\n",
            "_________________________________________________________________\n"
          ]
        }
      ],
      "source": [
        "model.summary()"
      ]
    },
    {
      "cell_type": "code",
      "execution_count": null,
      "metadata": {
        "id": "LWS-vvNaZDag",
        "colab": {
          "base_uri": "https://localhost:8080/"
        },
        "outputId": "9d77c116-ad42-4bb7-f37f-acd81c194cad"
      },
      "outputs": [
        {
          "output_type": "stream",
          "name": "stdout",
          "text": [
            "Epoch 1/150\n",
            "898/898 [==============================] - 48s 40ms/step - loss: 2.0549 - accuracy: 0.2108 - val_loss: 1.7958 - val_accuracy: 0.2558\n",
            "Epoch 2/150\n",
            "898/898 [==============================] - 33s 37ms/step - loss: 1.7867 - accuracy: 0.2606 - val_loss: 1.7287 - val_accuracy: 0.2832\n",
            "Epoch 3/150\n",
            "898/898 [==============================] - 37s 41ms/step - loss: 1.6951 - accuracy: 0.3189 - val_loss: 1.7091 - val_accuracy: 0.3571\n",
            "Epoch 4/150\n",
            "898/898 [==============================] - 33s 36ms/step - loss: 1.5822 - accuracy: 0.3856 - val_loss: 1.4340 - val_accuracy: 0.4324\n",
            "Epoch 5/150\n",
            "898/898 [==============================] - 33s 36ms/step - loss: 1.4868 - accuracy: 0.4269 - val_loss: 1.3307 - val_accuracy: 0.4954\n",
            "Epoch 6/150\n",
            "898/898 [==============================] - 33s 37ms/step - loss: 1.4223 - accuracy: 0.4504 - val_loss: 1.3032 - val_accuracy: 0.4900\n",
            "Epoch 7/150\n",
            "898/898 [==============================] - 33s 37ms/step - loss: 1.3824 - accuracy: 0.4733 - val_loss: 1.2401 - val_accuracy: 0.5368\n",
            "Epoch 8/150\n",
            "898/898 [==============================] - 33s 37ms/step - loss: 1.3481 - accuracy: 0.4875 - val_loss: 1.2121 - val_accuracy: 0.5352\n",
            "Epoch 9/150\n",
            "898/898 [==============================] - 33s 37ms/step - loss: 1.3136 - accuracy: 0.5010 - val_loss: 1.1986 - val_accuracy: 0.5479\n",
            "Epoch 10/150\n",
            "898/898 [==============================] - 33s 37ms/step - loss: 1.2861 - accuracy: 0.5113 - val_loss: 1.1609 - val_accuracy: 0.5620\n",
            "Epoch 11/150\n",
            "898/898 [==============================] - 33s 36ms/step - loss: 1.2677 - accuracy: 0.5269 - val_loss: 1.1405 - val_accuracy: 0.5588\n",
            "Epoch 12/150\n",
            "898/898 [==============================] - 33s 37ms/step - loss: 1.2505 - accuracy: 0.5314 - val_loss: 1.1049 - val_accuracy: 0.5779\n",
            "Epoch 13/150\n",
            "898/898 [==============================] - 33s 37ms/step - loss: 1.2340 - accuracy: 0.5408 - val_loss: 1.0876 - val_accuracy: 0.5844\n",
            "Epoch 14/150\n",
            "898/898 [==============================] - 33s 37ms/step - loss: 1.2191 - accuracy: 0.5450 - val_loss: 1.1459 - val_accuracy: 0.5610\n",
            "Epoch 15/150\n",
            "898/898 [==============================] - 33s 37ms/step - loss: 1.2049 - accuracy: 0.5535 - val_loss: 1.0984 - val_accuracy: 0.5846\n",
            "Epoch 16/150\n",
            "898/898 [==============================] - 33s 36ms/step - loss: 1.1939 - accuracy: 0.5520 - val_loss: 1.0877 - val_accuracy: 0.5868\n",
            "Epoch 17/150\n",
            "898/898 [==============================] - 33s 36ms/step - loss: 1.1817 - accuracy: 0.5578 - val_loss: 1.0794 - val_accuracy: 0.5908\n",
            "Epoch 18/150\n",
            "898/898 [==============================] - 35s 39ms/step - loss: 1.1755 - accuracy: 0.5644 - val_loss: 1.1635 - val_accuracy: 0.5631\n",
            "Epoch 19/150\n",
            "898/898 [==============================] - 36s 40ms/step - loss: 1.1650 - accuracy: 0.5667 - val_loss: 1.0473 - val_accuracy: 0.6046\n",
            "Epoch 20/150\n",
            "898/898 [==============================] - 38s 42ms/step - loss: 1.1567 - accuracy: 0.5711 - val_loss: 1.0887 - val_accuracy: 0.5900\n",
            "Epoch 21/150\n",
            "898/898 [==============================] - 36s 40ms/step - loss: 1.1545 - accuracy: 0.5721 - val_loss: 1.0533 - val_accuracy: 0.6006\n",
            "Epoch 22/150\n",
            "898/898 [==============================] - 34s 38ms/step - loss: 1.1395 - accuracy: 0.5762 - val_loss: 1.0959 - val_accuracy: 0.5787\n",
            "Epoch 23/150\n",
            "898/898 [==============================] - 36s 40ms/step - loss: 1.1358 - accuracy: 0.5780 - val_loss: 1.0847 - val_accuracy: 0.5880\n",
            "Epoch 24/150\n",
            "898/898 [==============================] - 33s 37ms/step - loss: 1.1245 - accuracy: 0.5851 - val_loss: 1.1537 - val_accuracy: 0.5684\n",
            "Epoch 25/150\n",
            "898/898 [==============================] - 35s 38ms/step - loss: 1.1168 - accuracy: 0.5851 - val_loss: 1.0340 - val_accuracy: 0.6048\n",
            "Epoch 26/150\n",
            "898/898 [==============================] - 36s 40ms/step - loss: 1.1179 - accuracy: 0.5847 - val_loss: 1.0418 - val_accuracy: 0.6034\n",
            "Epoch 27/150\n",
            "898/898 [==============================] - 37s 41ms/step - loss: 1.1089 - accuracy: 0.5938 - val_loss: 1.0149 - val_accuracy: 0.6155\n",
            "Epoch 28/150\n",
            "898/898 [==============================] - 37s 41ms/step - loss: 1.1023 - accuracy: 0.5921 - val_loss: 1.0130 - val_accuracy: 0.6204\n",
            "Epoch 29/150\n",
            "898/898 [==============================] - 35s 38ms/step - loss: 1.0960 - accuracy: 0.5927 - val_loss: 1.0080 - val_accuracy: 0.6187\n",
            "Epoch 30/150\n",
            "898/898 [==============================] - 33s 36ms/step - loss: 1.0881 - accuracy: 0.5966 - val_loss: 0.9807 - val_accuracy: 0.6293\n",
            "Epoch 31/150\n",
            "898/898 [==============================] - 33s 37ms/step - loss: 1.0906 - accuracy: 0.5970 - val_loss: 1.0212 - val_accuracy: 0.6120\n",
            "Epoch 32/150\n",
            "898/898 [==============================] - 33s 36ms/step - loss: 1.0867 - accuracy: 0.5983 - val_loss: 1.0207 - val_accuracy: 0.6121\n",
            "Epoch 33/150\n",
            "898/898 [==============================] - 33s 36ms/step - loss: 1.0793 - accuracy: 0.6030 - val_loss: 1.0344 - val_accuracy: 0.6091\n",
            "Epoch 34/150\n",
            "898/898 [==============================] - 33s 37ms/step - loss: 1.0719 - accuracy: 0.6041 - val_loss: 0.9892 - val_accuracy: 0.6259\n",
            "Epoch 35/150\n",
            "898/898 [==============================] - 33s 36ms/step - loss: 1.0713 - accuracy: 0.6052 - val_loss: 1.0018 - val_accuracy: 0.6158\n",
            "Epoch 36/150\n",
            "898/898 [==============================] - 33s 36ms/step - loss: 1.0602 - accuracy: 0.6097 - val_loss: 1.0053 - val_accuracy: 0.6181\n",
            "Epoch 37/150\n",
            "898/898 [==============================] - 33s 37ms/step - loss: 1.0602 - accuracy: 0.6076 - val_loss: 0.9816 - val_accuracy: 0.6311\n",
            "Epoch 38/150\n",
            "898/898 [==============================] - 33s 36ms/step - loss: 1.0559 - accuracy: 0.6119 - val_loss: 0.9893 - val_accuracy: 0.6269\n",
            "Epoch 39/150\n",
            "898/898 [==============================] - 33s 36ms/step - loss: 1.0487 - accuracy: 0.6125 - val_loss: 0.9780 - val_accuracy: 0.6326\n",
            "Epoch 40/150\n",
            "898/898 [==============================] - 33s 36ms/step - loss: 1.0463 - accuracy: 0.6132 - val_loss: 0.9885 - val_accuracy: 0.6218\n",
            "Epoch 41/150\n",
            "898/898 [==============================] - 33s 37ms/step - loss: 1.0503 - accuracy: 0.6121 - val_loss: 0.9788 - val_accuracy: 0.6318\n",
            "Epoch 42/150\n",
            "898/898 [==============================] - 33s 36ms/step - loss: 1.0477 - accuracy: 0.6133 - val_loss: 0.9958 - val_accuracy: 0.6213\n",
            "Epoch 43/150\n",
            "898/898 [==============================] - 33s 36ms/step - loss: 1.0389 - accuracy: 0.6180 - val_loss: 0.9751 - val_accuracy: 0.6372\n",
            "Epoch 44/150\n",
            "898/898 [==============================] - 33s 36ms/step - loss: 1.0431 - accuracy: 0.6161 - val_loss: 0.9632 - val_accuracy: 0.6432\n",
            "Epoch 45/150\n",
            "898/898 [==============================] - 34s 37ms/step - loss: 1.0403 - accuracy: 0.6190 - val_loss: 0.9714 - val_accuracy: 0.6364\n",
            "Epoch 46/150\n",
            "898/898 [==============================] - 35s 39ms/step - loss: 1.0333 - accuracy: 0.6183 - val_loss: 0.9897 - val_accuracy: 0.6275\n",
            "Epoch 47/150\n",
            "898/898 [==============================] - 33s 36ms/step - loss: 1.0321 - accuracy: 0.6190 - val_loss: 0.9711 - val_accuracy: 0.6371\n",
            "Epoch 48/150\n",
            "898/898 [==============================] - 35s 39ms/step - loss: 1.0256 - accuracy: 0.6237 - val_loss: 0.9815 - val_accuracy: 0.6361\n",
            "Epoch 49/150\n",
            "898/898 [==============================] - 33s 37ms/step - loss: 1.0233 - accuracy: 0.6240 - val_loss: 0.9679 - val_accuracy: 0.6383\n",
            "Epoch 50/150\n",
            "898/898 [==============================] - 33s 37ms/step - loss: 1.0165 - accuracy: 0.6259 - val_loss: 0.9497 - val_accuracy: 0.6449\n",
            "Epoch 51/150\n",
            "898/898 [==============================] - 34s 38ms/step - loss: 1.0165 - accuracy: 0.6278 - val_loss: 0.9720 - val_accuracy: 0.6360\n",
            "Epoch 52/150\n",
            "898/898 [==============================] - 33s 37ms/step - loss: 1.0142 - accuracy: 0.6291 - val_loss: 0.9698 - val_accuracy: 0.6383\n",
            "Epoch 53/150\n",
            "898/898 [==============================] - 34s 38ms/step - loss: 1.0078 - accuracy: 0.6291 - val_loss: 0.9666 - val_accuracy: 0.6381\n",
            "Epoch 54/150\n",
            "898/898 [==============================] - 33s 37ms/step - loss: 1.0107 - accuracy: 0.6284 - val_loss: 0.9753 - val_accuracy: 0.6326\n",
            "Epoch 55/150\n",
            "898/898 [==============================] - 33s 37ms/step - loss: 1.0017 - accuracy: 0.6317 - val_loss: 0.9588 - val_accuracy: 0.6364\n",
            "Epoch 56/150\n",
            "898/898 [==============================] - 33s 36ms/step - loss: 0.9982 - accuracy: 0.6331 - val_loss: 0.9794 - val_accuracy: 0.6343\n",
            "Epoch 57/150\n",
            "898/898 [==============================] - 33s 36ms/step - loss: 1.0032 - accuracy: 0.6302 - val_loss: 0.9645 - val_accuracy: 0.6369\n",
            "Epoch 58/150\n",
            "898/898 [==============================] - 34s 38ms/step - loss: 0.9945 - accuracy: 0.6365 - val_loss: 0.9869 - val_accuracy: 0.6289\n",
            "Epoch 59/150\n",
            "898/898 [==============================] - 35s 39ms/step - loss: 0.9886 - accuracy: 0.6375 - val_loss: 0.9591 - val_accuracy: 0.6388\n",
            "Epoch 60/150\n",
            "898/898 [==============================] - 33s 36ms/step - loss: 0.9952 - accuracy: 0.6363 - val_loss: 0.9578 - val_accuracy: 0.6434\n",
            "Epoch 61/150\n",
            "639/898 [====================>.........] - ETA: 8s - loss: 0.9847 - accuracy: 0.6376"
          ]
        }
      ],
      "source": [
        "epochs = 150\n",
        "history = model.fit(\n",
        "  train_ds,\n",
        "  validation_data=val_ds,\n",
        "  epochs=epochs\n",
        ")"
      ]
    },
    {
      "cell_type": "markdown",
      "metadata": {
        "id": "Lkdl8VsBbZOu"
      },
      "source": [
        "## Visualize training results\n",
        "\n",
        "After applying data augmentation and dropout, here is a visual of how our test and training data did:"
      ]
    },
    {
      "cell_type": "code",
      "execution_count": null,
      "metadata": {
        "id": "dduoLfKsZVIA"
      },
      "outputs": [],
      "source": [
        "acc = history.history['accuracy']\n",
        "val_acc = history.history['val_accuracy']\n",
        "\n",
        "loss = history.history['loss']\n",
        "val_loss = history.history['val_loss']\n",
        "\n",
        "epochs_range = range(epochs)\n",
        "\n",
        "plt.figure(figsize=(8, 8))\n",
        "plt.subplot(1, 2, 1)\n",
        "plt.plot(epochs_range, acc, label='Training Accuracy')\n",
        "plt.plot(epochs_range, val_acc, label='Validation Accuracy')\n",
        "plt.legend(loc='lower right')\n",
        "plt.title('Training and Validation Accuracy')\n",
        "\n",
        "plt.subplot(1, 2, 2)\n",
        "plt.plot(epochs_range, loss, label='Training Loss')\n",
        "plt.plot(epochs_range, val_loss, label='Validation Loss')\n",
        "plt.legend(loc='upper right')\n",
        "plt.title('Training and Validation Loss')\n",
        "plt.show()"
      ]
    },
    {
      "cell_type": "markdown",
      "source": [
        "# Another implementation\n",
        "\n",
        "The following is another implementation from Shurui Wang on Kaggle.com. The following is a link to the source code: https://www.kaggle.com/code/jadenwsr/emotion-detection-with-inceptionv3.\n",
        "\n",
        "Wang uses inceptionV3 to pre-train the data to recognize emotion in facial expression. This implementation did slightly better than the above implementation."
      ],
      "metadata": {
        "id": "PHF8Q-KG_rrU"
      }
    },
    {
      "cell_type": "markdown",
      "source": [
        "Following hyper parameters are specific to this implementation of an InceptioV3 CNN. "
      ],
      "metadata": {
        "id": "gRFIscZLFJiM"
      }
    },
    {
      "cell_type": "code",
      "source": [
        "batch_size = 64 #?\n",
        "img_height = 139\n",
        "img_width = 139\n",
        "num_classes = 7\n",
        "EARLY_STOPPING_CRITERIA=3\n",
        "EPOCHS = 39\n",
        "FINE_TUNING_EPOCHS = 20\n",
        "CLASS_LABELS  = ['Anger', 'Disgust', 'Fear', 'Happy', 'Neutral', 'Sadness', \"Surprise\"]"
      ],
      "metadata": {
        "id": "3sFiNnvhB1iu"
      },
      "execution_count": null,
      "outputs": []
    },
    {
      "cell_type": "markdown",
      "source": [
        "# Data Loading and Preproccessing Data "
      ],
      "metadata": {
        "id": "vJMbTovDFqGs"
      }
    },
    {
      "cell_type": "code",
      "source": [
        "preprocess_fun = tf.keras.applications.inception_v3.preprocess_input\n",
        "\n",
        "train_datagen = ImageDataGenerator(horizontal_flip=True,\n",
        "                                   width_shift_range=0.1,\n",
        "                                   height_shift_range=0.05,\n",
        "                                   rescale = 1./255,\n",
        "                                   validation_split = 0.2,\n",
        "                                   preprocessing_function=preprocess_fun\n",
        "                                  )\n",
        "test_datagen = ImageDataGenerator(rescale = 1./255,\n",
        "                                  validation_split = 0.2,\n",
        "                                  preprocessing_function=preprocess_fun)\n",
        "\n",
        "train_generator = train_datagen.flow_from_directory(directory = data_dir_train,\n",
        "                                                    target_size = (img_height ,img_width),\n",
        "                                                    batch_size = batch_size,\n",
        "                                                    shuffle  = True , \n",
        "                                                    color_mode = \"rgb\",\n",
        "                                                    class_mode = \"categorical\",\n",
        "                                                    subset = \"training\",\n",
        "                                                    seed = 125\n",
        "                                                   )\n",
        "\n",
        "validation_generator = test_datagen.flow_from_directory(directory = data_dir_train,\n",
        "                                                         target_size = (img_height ,img_width),\n",
        "                                                         batch_size = batch_size,\n",
        "                                                         shuffle  = True , \n",
        "                                                         color_mode = \"rgb\",\n",
        "                                                         class_mode = \"categorical\",\n",
        "                                                         subset = \"validation\",\n",
        "                                                         seed = 125\n",
        "                                                        )\n",
        "\n",
        "test_generator = test_datagen.flow_from_directory(directory = data_dir_test,\n",
        "                                                   target_size = (img_height ,img_width),\n",
        "                                                    batch_size = batch_size,\n",
        "                                                    shuffle  = False , \n",
        "                                                    color_mode = \"rgb\",\n",
        "                                                    class_mode = \"categorical\",\n",
        "                                                    seed = 125\n",
        "                                                  )"
      ],
      "metadata": {
        "id": "uSIR6_zRCeNx"
      },
      "execution_count": null,
      "outputs": []
    },
    {
      "cell_type": "markdown",
      "source": [
        "# Splitting data into a training and validation dataset "
      ],
      "metadata": {
        "id": "j90W1lHNFxdZ"
      }
    },
    {
      "cell_type": "code",
      "source": [
        "train_ds = tf.keras.utils.image_dataset_from_directory(\n",
        "  data_dir_train,\n",
        "  image_size=(img_height, img_width),\n",
        "  batch_size=batch_size)"
      ],
      "metadata": {
        "id": "iKmBS5FsCiby"
      },
      "execution_count": null,
      "outputs": []
    },
    {
      "cell_type": "code",
      "source": [
        "val_ds = tf.keras.utils.image_dataset_from_directory(\n",
        "  data_dir_test,\n",
        "  image_size=(img_height, img_width),\n",
        "  batch_size=batch_size)"
      ],
      "metadata": {
        "id": "uWXbHUz9Cnqc"
      },
      "execution_count": null,
      "outputs": []
    },
    {
      "cell_type": "markdown",
      "source": [
        "# Configure the dataset for performance\n",
        "\n",
        "As mentioned earlier, the following two important methods are used when loading data so you can yield data from disk without having I/O blocking."
      ],
      "metadata": {
        "id": "F95nX3x0GDj5"
      }
    },
    {
      "cell_type": "code",
      "source": [
        "AUTOTUNE = tf.data.AUTOTUNE\n",
        "\n",
        "train_ds = train_ds.cache().shuffle(1000).prefetch(buffer_size=AUTOTUNE)\n",
        "val_ds = val_ds.cache().prefetch(buffer_size=AUTOTUNE)"
      ],
      "metadata": {
        "id": "yKCDjGcSC6jC"
      },
      "execution_count": null,
      "outputs": []
    },
    {
      "cell_type": "markdown",
      "source": [
        "# Standardize the data\n",
        "\n",
        "Again, as mentioned earlier, we standarize the data to be in the [0,1] range by using `tf.keras.layers.Rescaling`:"
      ],
      "metadata": {
        "id": "oO66h8LaGetg"
      }
    },
    {
      "cell_type": "code",
      "source": [
        "normalization_layer = layers.Rescaling(1./255)"
      ],
      "metadata": {
        "id": "f7iEYHV1C8ls"
      },
      "execution_count": null,
      "outputs": []
    },
    {
      "cell_type": "markdown",
      "source": [
        "Applying layer to the dataset by calling `Dataset.map`:"
      ],
      "metadata": {
        "id": "Br_jQp1HGual"
      }
    },
    {
      "cell_type": "code",
      "source": [
        "normalized_ds = train_ds.map(lambda x, y: (normalization_layer(x), y))\n",
        "image_batch, labels_batch = next(iter(normalized_ds))\n",
        "first_image = image_batch[0]\n",
        "# Notice the pixel values are now in `[0,1]`.\n",
        "print(np.min(first_image), np.max(first_image))"
      ],
      "metadata": {
        "id": "4eqRq0-NDALi"
      },
      "execution_count": null,
      "outputs": []
    },
    {
      "cell_type": "markdown",
      "source": [
        "# InceptionV3 Transfer Learning"
      ],
      "metadata": {
        "id": "Ma4E5WJgG_Zi"
      }
    },
    {
      "cell_type": "code",
      "source": [
        "def feature_extractor(inputs):\n",
        "    feature_extractor = tf.keras.applications.InceptionV3(input_shape=(img_height,img_width, 3),\n",
        "                                               include_top=False,\n",
        "                                               weights=\"imagenet\")(inputs)\n",
        "    \n",
        "    return feature_extractor\n",
        "\n",
        "def classifier(inputs):\n",
        "    x = tf.keras.layers.GlobalAveragePooling2D()(inputs)\n",
        "    #x = tf.keras.layers.Dense(256, activation=\"relu\", kernel_regularizer = tf.keras.regularizers.l2(0.01))(x)\n",
        "    #x = tf.keras.layers.Dropout(0.3)(x)\n",
        "    x = tf.keras.layers.Dense(1024, activation=\"relu\")(x)\n",
        "    #x = tf.keras.layers.Dropout(0.5)(x)\n",
        "    #x = tf.keras.layers.Dense(512, activation=\"relu\", kernel_regularizer = tf.keras.regularizers.l2(0.01))(x)\n",
        "    #x = tf.keras.layers.Dropout(0.5) (x)\n",
        "    x = tf.keras.layers.Dense(num_classes, activation=\"softmax\", name=\"classification\")(x)\n",
        "    \n",
        "    return x\n",
        "\n",
        "def final_model(inputs):\n",
        "    densenet_feature_extractor = feature_extractor(inputs)\n",
        "    classification_output = classifier(densenet_feature_extractor)\n",
        "    \n",
        "    return classification_output\n",
        "\n",
        "def define_compile_model():\n",
        "    \n",
        "    inputs = tf.keras.layers.Input(shape=(img_height ,img_width,3))\n",
        "    classification_output = final_model(inputs) \n",
        "    model = tf.keras.Model(inputs=inputs, outputs = classification_output)\n",
        "     \n",
        "    model.compile(optimizer=tf.keras.optimizers.SGD(0.1), \n",
        "                loss='categorical_crossentropy',\n",
        "                metrics = ['accuracy'])\n",
        "  \n",
        "    return model"
      ],
      "metadata": {
        "id": "Pgcad3jHDEbO"
      },
      "execution_count": null,
      "outputs": []
    },
    {
      "cell_type": "code",
      "source": [
        "model = define_compile_model()\n",
        "clear_output()\n",
        "\n",
        "# Feezing the feature extraction layers\n",
        "model.layers[1].trainable = False\n",
        "\n",
        "model.summary()"
      ],
      "metadata": {
        "id": "PnQJvTN9DHfY"
      },
      "execution_count": null,
      "outputs": []
    },
    {
      "cell_type": "markdown",
      "source": [
        "# Training and Fine-Tuning\n",
        "\n",
        "Training model with freezed layers of InceptionV3."
      ],
      "metadata": {
        "id": "b-dj12u0He5K"
      }
    },
    {
      "cell_type": "code",
      "source": [
        "earlyStoppingCallback = tf.keras.callbacks.EarlyStopping(monitor='val_loss', \n",
        "                                                         patience=EARLY_STOPPING_CRITERIA,\n",
        "                                                         verbose= 1 ,\n",
        "                                                         restore_best_weights=True\n",
        "                                                        )\n",
        "history = model.fit(x = train_generator,\n",
        "                    epochs = EPOCHS ,\n",
        "                    validation_data = validation_generator , \n",
        "                    callbacks= [earlyStoppingCallback])\n",
        "\n",
        "history = pd.DataFrame(history.history)"
      ],
      "metadata": {
        "id": "v7L0W2M1DKbU"
      },
      "execution_count": null,
      "outputs": []
    },
    {
      "cell_type": "markdown",
      "source": [
        "# Fine Tuning"
      ],
      "metadata": {
        "id": "EeqBs6pxHn7r"
      }
    },
    {
      "cell_type": "code",
      "source": [
        "# Un-Freezing the feature extraction layers for fine tuning \n",
        "model.layers[1].trainable = True\n",
        "\n",
        "model.compile(optimizer=tf.keras.optimizers.SGD(0.001), #lower learning rate\n",
        "                loss='categorical_crossentropy',\n",
        "                metrics = ['accuracy'])\n",
        "\n",
        "history_ = model.fit(x = train_generator,epochs = FINE_TUNING_EPOCHS ,validation_data = validation_generator)\n",
        "history = history.append(pd.DataFrame(history_.history) , ignore_index=True)"
      ],
      "metadata": {
        "id": "wA42ChRsDMwm"
      },
      "execution_count": null,
      "outputs": []
    },
    {
      "cell_type": "markdown",
      "source": [
        "# Visualizing results"
      ],
      "metadata": {
        "id": "40zTVxBAHshR"
      }
    },
    {
      "cell_type": "code",
      "source": [
        "plt.plot(history.history['accuracy'], label='Accuracy')\n",
        "plt.plot(history.history['val_accuracy'], label='Validation Accuracy')\n",
        "plt.title('CNN Metrices (Accuracy)')\n",
        "plt.ylabel('% value')\n",
        "plt.xlabel('Epoch')\n",
        "plt.legend(loc=\"upper left\")\n",
        "plt.show()"
      ],
      "metadata": {
        "id": "adjbgKAbDVSg"
      },
      "execution_count": null,
      "outputs": []
    },
    {
      "cell_type": "code",
      "source": [
        "plt.plot(history.history['loss'], label='Loss')\n",
        "plt.plot(history.history['val_loss'], label='Validation loss')\n",
        "plt.title('CNN Metrices(Loss)')\n",
        "plt.ylabel('% value')\n",
        "plt.xlabel('Epoch')\n",
        "plt.legend(loc=\"upper left\")\n",
        "plt.show()"
      ],
      "metadata": {
        "id": "tdf7x89-DbEt"
      },
      "execution_count": null,
      "outputs": []
    },
    {
      "cell_type": "markdown",
      "metadata": {
        "id": "dtv5VbaVb-3W"
      },
      "source": [
        "## Predict on new data"
      ]
    },
    {
      "cell_type": "markdown",
      "metadata": {
        "id": "10buWpJbcCQz"
      },
      "source": [
        "Finally, let's use our model to classify an image that wasn't included in the training or validation sets."
      ]
    },
    {
      "cell_type": "markdown",
      "metadata": {
        "id": "NKgMZ4bDcHf7"
      },
      "source": [
        "Note: Data augmentation and dropout layers are inactive at inference time."
      ]
    },
    {
      "cell_type": "code",
      "execution_count": null,
      "metadata": {
        "id": "dC40sRITBSsQ"
      },
      "outputs": [],
      "source": [
        "neutral_url = \"https://storage.googleapis.com/download.tensorflow.org/example_images/grace_hopper.jpg\"\n",
        "neutral_path = tf.keras.utils.get_file('grace_hopper', origin=neutral_url)\n",
        "\n",
        "img = tf.keras.utils.load_img(\n",
        "    neutral_path, target_size=(img_height, img_width)\n",
        ")\n",
        "img_array = tf.keras.utils.img_to_array(img)\n",
        "img_array = tf.expand_dims(img_array, 0) # Create a batch\n",
        "\n",
        "predictions = model.predict(img_array)\n",
        "score = tf.nn.softmax(predictions[0])\n",
        "\n",
        "print(\n",
        "    \"This image most likely belongs to {} with a {:.2f} percent confidence.\"\n",
        "    .format(class_names[np.argmax(score)], 100 * np.max(score))\n",
        ")"
      ]
    }
  ],
  "metadata": {
    "accelerator": "GPU",
    "colab": {
      "collapsed_sections": [],
      "machine_shape": "hm",
      "name": "Emotion Classification Mini Project.ipynb",
      "provenance": []
    },
    "kernelspec": {
      "display_name": "Python 3",
      "name": "python3"
    }
  },
  "nbformat": 4,
  "nbformat_minor": 0
}