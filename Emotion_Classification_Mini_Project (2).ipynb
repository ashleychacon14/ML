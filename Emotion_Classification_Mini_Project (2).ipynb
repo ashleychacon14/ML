{
  "cells": [
    {
      "cell_type": "markdown",
      "metadata": {
        "id": "FE7KNzPPVrVV"
      },
      "source": [
        "# Emotion Classification Mini Project\n",
        "By Ashley Chacon"
      ]
    },
    {
      "cell_type": "markdown",
      "metadata": {
        "id": "KwQtSOz0VrVX"
      },
      "source": [
        "<table class=\"tfo-notebook-buttons\" align=\"left\">\n",
        "  <td>\n",
        "    <a target=\"_blank\" href=\"https://www.tensorflow.org/tutorials/images/classification\"><img src=\"https://www.tensorflow.org/images/tf_logo_32px.png\" />View on TensorFlow.org</a>\n",
        "  </td>\n",
        "  <td>\n",
        "    <a target=\"_blank\" href=\"https://colab.research.google.com/github/tensorflow/docs/blob/master/site/en/tutorials/images/classification.ipynb\"><img src=\"https://www.tensorflow.org/images/colab_logo_32px.png\" />Run in Google Colab</a>\n",
        "  </td>\n",
        "  <td>\n",
        "    <a target=\"_blank\" href=\"https://github.com/tensorflow/docs/blob/master/site/en/tutorials/images/classification.ipynb\"><img src=\"https://www.tensorflow.org/images/GitHub-Mark-32px.png\" />View source on GitHub</a>\n",
        "  </td>\n",
        "  <td>\n",
        "    <a href=\"https://storage.googleapis.com/tensorflow_docs/docs/site/en/tutorials/images/classification.ipynb\"><img src=\"https://www.tensorflow.org/images/download_logo_32px.png\" />Download notebook</a>\n",
        "  </td>\n",
        "</table>"
      ]
    },
    {
      "cell_type": "markdown",
      "metadata": {
        "id": "gN7G9GFmVrVY"
      },
      "source": [
        "This Google Collab is inspired by the CNN TensorFlow tutorial It creates an image classifier using a `tf.keras.Sequential` model, and loads data using `tf.keras.utils.image_dataset_from_directory`.\n",
        "\n",
        "This following is conducted in this project:\n",
        "\n",
        "1. Examine and understand data\n",
        "2. Build an input pipeline\n",
        "3. Build the model\n",
        "4. Train the model\n",
        "5. Test the model\n",
        "6. Improve the model and repeat the process\n",
        "\n"
      ]
    },
    {
      "cell_type": "markdown",
      "metadata": {
        "id": "zF9uvbXNVrVY"
      },
      "source": [
        "## Import TensorFlow and other libraries"
      ]
    },
    {
      "cell_type": "code",
      "execution_count": 1,
      "metadata": {
        "id": "L1WtoaOHVrVh"
      },
      "outputs": [],
      "source": [
        "import matplotlib.pyplot as plt\n",
        "import numpy as np\n",
        "import os\n",
        "import PIL\n",
        "import tensorflow as tf\n",
        "import pandas as pd\n",
        "import seaborn as sns\n",
        "import plotly.express as px\n",
        "\n",
        "from tensorflow import keras\n",
        "from tensorflow.keras import layers\n",
        "from tensorflow.keras.models import Sequential\n",
        "from tensorflow.keras.layers import Activation, Conv2D, MaxPooling2D, Dense, Flatten, Dropout, BatchNormalization\n",
        "\n",
        "from tensorflow.keras.preprocessing.image import ImageDataGenerator\n",
        "from tensorflow.keras.utils import to_categorical\n",
        "\n",
        "from sklearn.metrics import confusion_matrix , classification_report \n",
        "from sklearn.preprocessing import LabelBinarizer\n",
        "from sklearn.metrics import roc_curve, auc, roc_auc_score\n",
        "\n",
        "from IPython.display import clear_output\n",
        "import warnings\n",
        "warnings.filterwarnings('ignore')"
      ]
    },
    {
      "cell_type": "markdown",
      "metadata": {
        "id": "UZZI6lNkVrVm"
      },
      "source": [
        "## Download and explore the dataset"
      ]
    },
    {
      "cell_type": "markdown",
      "metadata": {
        "id": "o6k6ndZNuoND"
      },
      "source": [
        "Download the emotion detection dataset from Kaggle.com: https://www.kaggle.com/datasets/ananthu017/emotion-detection-fer\n",
        "\n",
        "After download, you will have to upload the dataset to this Google Collab. Select the files tab on the lefthand tool bar, and upload manually from your computer downloads."
      ]
    },
    {
      "cell_type": "markdown",
      "metadata": {
        "id": "VpmywIlsVrVx"
      },
      "source": [
        "After downloading, you should now have a copy of the dataset available. There are 28709 training images and 7178 testing images:"
      ]
    },
    {
      "cell_type": "code",
      "execution_count": 2,
      "metadata": {
        "id": "SbtTDYhOHZb6"
      },
      "outputs": [],
      "source": [
        "import pathlib\n",
        "import zipfile\n",
        "\n",
        "\n",
        "with zipfile.ZipFile('archive.zip', 'r') as zip_ref:\n",
        "    zip_ref.extractall()\n"
      ]
    },
    {
      "cell_type": "code",
      "execution_count": 3,
      "metadata": {
        "id": "m5feMO0rQcam",
        "colab": {
          "base_uri": "https://localhost:8080/"
        },
        "outputId": "7fad2f68-4b5b-4116-c723-58f070256278"
      },
      "outputs": [
        {
          "output_type": "stream",
          "name": "stdout",
          "text": [
            "Number of training images: 28709\n",
            "Number of testing images: 7178\n"
          ]
        }
      ],
      "source": [
        "data_dir_train = \"./train\"\n",
        "data_dir_test = \"./test\"\n",
        "\n",
        "data_dir_train = pathlib.Path(data_dir_train)\n",
        "data_dir_test = pathlib.Path(data_dir_test)\n",
        "\n",
        "\n",
        "train_image_count = len(list(data_dir_train.glob('*/*.png')))\n",
        "print(\"Number of training images:\", train_image_count)\n",
        "\n",
        "test_image_count = len(list(data_dir_test.glob('*/*.png')))\n",
        "print(\"Number of testing images:\", test_image_count)\n"
      ]
    },
    {
      "cell_type": "markdown",
      "metadata": {
        "id": "PVmwkOSdHZ5A"
      },
      "source": [
        "To test that the data has been read, display images from the dataset folder:"
      ]
    },
    {
      "cell_type": "code",
      "execution_count": 4,
      "metadata": {
        "id": "N1loMlbYHeiJ",
        "colab": {
          "base_uri": "https://localhost:8080/",
          "height": 113
        },
        "outputId": "8bb6c488-3082-4301-9d13-20098916f202"
      },
      "outputs": [
        {
          "output_type": "display_data",
          "data": {
            "text/plain": [
              "<PIL.PngImagePlugin.PngImageFile image mode=L size=48x48 at 0x7F5741950110>"
            ],
            "image/png": "[encoded data removed]"
          },
          "metadata": {}
        },
        {
          "output_type": "display_data",
          "data": {
            "text/plain": [
              "<PIL.PngImagePlugin.PngImageFile image mode=L size=48x48 at 0x7F57418A9CD0>"
            ],
            "image/png": "[encoded data removed]"
          },
          "metadata": {}
        }
      ],
      "source": [
        "happy_images = list(data_dir_train.glob('happy/*'))\n",
        "display(PIL.Image.open(str(happy_images[0])))\n",
        "\n",
        "surprised_images = list(data_dir_train.glob('surprised/*'))\n",
        "display(PIL.Image.open(str(surprised_images[0])))"
      ]
    },
    {
      "cell_type": "code",
      "execution_count": 5,
      "metadata": {
        "id": "RQbZBOTLHiUP",
        "colab": {
          "base_uri": "https://localhost:8080/",
          "height": 64
        },
        "outputId": "482166d7-c929-4d55-be25-2ccc58b7ea51"
      },
      "outputs": [
        {
          "output_type": "display_data",
          "data": {
            "text/plain": [
              "<PIL.PngImagePlugin.PngImageFile image mode=L size=48x48 at 0x7F57418A9FD0>"
            ],
            "image/png": "[encoded data removed]"
          },
          "metadata": {}
        }
      ],
      "source": [
        "display(PIL.Image.open(str(happy_images[73])))"
      ]
    },
    {
      "cell_type": "markdown",
      "metadata": {
        "id": "gIjgz7_JIo_m"
      },
      "source": [
        "# Load data using a Keras utility\n",
        "\n",
        "Let's load these images off disk using the helpful `tf.keras.utils.image_dataset_from_directory` utility. This will take you from a directory of images on disk to a `tf.data.Dataset` in just a couple lines of code."
      ]
    },
    {
      "cell_type": "markdown",
      "metadata": {
        "id": "xyDNn9MbIzfT"
      },
      "source": [
        "## Create a dataset"
      ]
    },
    {
      "cell_type": "markdown",
      "metadata": {
        "id": "anqiK_AGI086"
      },
      "source": [
        "Define some parameters for the loader:"
      ]
    },
    {
      "cell_type": "code",
      "execution_count": 6,
      "metadata": {
        "id": "H74l2DoDI2XD"
      },
      "outputs": [],
      "source": [
        "batch_size = 32\n",
        "img_height = 48\n",
        "img_width = 48"
      ]
    },
    {
      "cell_type": "markdown",
      "metadata": {
        "id": "pFBhRrrEI49z"
      },
      "source": [
        "Split your testing and training data to their designated space. "
      ]
    },
    {
      "cell_type": "code",
      "execution_count": 7,
      "metadata": {
        "id": "fIR0kRZiI_AT",
        "colab": {
          "base_uri": "https://localhost:8080/"
        },
        "outputId": "8d630806-1bdb-492f-fb2f-9842ddc6b271"
      },
      "outputs": [
        {
          "output_type": "stream",
          "name": "stdout",
          "text": [
            "Found 28709 files belonging to 7 classes.\n"
          ]
        }
      ],
      "source": [
        "train_ds = tf.keras.utils.image_dataset_from_directory(\n",
        "  data_dir_train,\n",
        "  image_size=(img_height, img_width),\n",
        "  batch_size=batch_size)"
      ]
    },
    {
      "cell_type": "code",
      "execution_count": 8,
      "metadata": {
        "id": "iscU3UoVJBXj",
        "colab": {
          "base_uri": "https://localhost:8080/"
        },
        "outputId": "eac4312e-6336-4433-9ea2-18ca804bc7a7"
      },
      "outputs": [
        {
          "output_type": "stream",
          "name": "stdout",
          "text": [
            "Found 7178 files belonging to 7 classes.\n"
          ]
        }
      ],
      "source": [
        "val_ds = tf.keras.utils.image_dataset_from_directory(\n",
        "  data_dir_test,\n",
        "  image_size=(img_height, img_width),\n",
        "  batch_size=batch_size)"
      ]
    },
    {
      "cell_type": "markdown",
      "metadata": {
        "id": "WLQULyAvJC3X"
      },
      "source": [
        "You can find the class names in the `class_names` attribute on these datasets. These correspond to the directory names in alphabetical order."
      ]
    },
    {
      "cell_type": "code",
      "execution_count": 9,
      "metadata": {
        "id": "ZHAxkHX5JD3k",
        "colab": {
          "base_uri": "https://localhost:8080/"
        },
        "outputId": "072c42c2-51a3-4401-d4cc-13a074e12f4b"
      },
      "outputs": [
        {
          "output_type": "stream",
          "name": "stdout",
          "text": [
            "['angry', 'disgusted', 'fearful', 'happy', 'neutral', 'sad', 'surprised']\n"
          ]
        }
      ],
      "source": [
        "class_names = train_ds.class_names\n",
        "print(class_names)"
      ]
    },
    {
      "cell_type": "markdown",
      "metadata": {
        "id": "_uoVvxSLJW9m"
      },
      "source": [
        "## Visualize the data\n",
        "\n",
        "Here are the first nine images from the training dataset:"
      ]
    },
    {
      "cell_type": "code",
      "execution_count": 10,
      "metadata": {
        "id": "wBmEA9c0JYes",
        "colab": {
          "base_uri": "https://localhost:8080/",
          "height": 591
        },
        "outputId": "de0b5aee-b776-40d6-c9ed-08508b9566b3"
      },
      "outputs": [
        {
          "output_type": "display_data",
          "data": {
            "text/plain": [
              "<Figure size 720x720 with 9 Axes>"
            ],
            "image/png": "[encoded data removed]"
          },
          "metadata": {
            "needs_background": "light"
          }
        }
      ],
      "source": [
        "import matplotlib.pyplot as plt\n",
        "\n",
        "plt.figure(figsize=(10, 10))\n",
        "for images, labels in train_ds.take(1):\n",
        "  for i in range(9):\n",
        "    ax = plt.subplot(3, 3, i + 1)\n",
        "    plt.imshow(images[i].numpy().astype(\"uint8\"))\n",
        "    plt.title(class_names[labels[i]])\n",
        "    plt.axis(\"off\")"
      ]
    },
    {
      "cell_type": "code",
      "execution_count": 11,
      "metadata": {
        "id": "2-MfMoenJi8s",
        "colab": {
          "base_uri": "https://localhost:8080/"
        },
        "outputId": "2f82deb1-1da3-44b8-a29d-2528fb480bce"
      },
      "outputs": [
        {
          "output_type": "stream",
          "name": "stdout",
          "text": [
            "(32, 48, 48, 3)\n",
            "(32,)\n"
          ]
        }
      ],
      "source": [
        "for image_batch, labels_batch in train_ds:\n",
        "  print(image_batch.shape)\n",
        "  print(labels_batch.shape)\n",
        "  break"
      ]
    },
    {
      "cell_type": "markdown",
      "metadata": {
        "id": "Wj4FrKxxJkoW"
      },
      "source": [
        "The `image_batch` is a tensor of the shape `(32, 48, 48, 3)`. This is a batch of 32 images of shape `48x48x3` (the last dimension refers to color channels RGB). The `label_batch` is a tensor of the shape `(32,)`, these are corresponding labels to the 32 images.\n"
      ]
    },
    {
      "cell_type": "markdown",
      "metadata": {
        "id": "4Dr0at41KcAU"
      },
      "source": [
        "## Configure the dataset for performance\n",
        "These are two important methods you should use when loading data so you can yield data from disk without having I/O become blocking:\n",
        "\n",
        "- `Dataset.cache` keeps the images in memory after they're loaded off disk during the first epoch. This will ensure the dataset does not become a bottleneck while training your model. If your dataset is too large to fit into memory, you can also use this method to create a performant on-disk cache.\n",
        "- `Dataset.prefetch` overlaps data preprocessing and model execution while training."
      ]
    },
    {
      "cell_type": "code",
      "execution_count": 12,
      "metadata": {
        "id": "nOjJSm7DKoZA"
      },
      "outputs": [],
      "source": [
        "AUTOTUNE = tf.data.AUTOTUNE\n",
        "\n",
        "train_ds = train_ds.cache().shuffle(1000).prefetch(buffer_size=AUTOTUNE)\n",
        "val_ds = val_ds.cache().prefetch(buffer_size=AUTOTUNE)"
      ]
    },
    {
      "cell_type": "markdown",
      "metadata": {
        "id": "8GUnmPF4JvEf"
      },
      "source": [
        "## Standardize the data"
      ]
    },
    {
      "cell_type": "markdown",
      "metadata": {
        "id": "e56VXHMWJxYT"
      },
      "source": [
        "The RGB channel values are in the `[0, 255]` range. This is not ideal for a neural network; in general you should seek to make your input values small.\n",
        "\n",
        "Here, you will standardize values to be in the `[0, 1]` range by using `tf.keras.layers.Rescaling`:"
      ]
    },
    {
      "cell_type": "code",
      "execution_count": 13,
      "metadata": {
        "id": "PEYxo2CTJvY9"
      },
      "outputs": [],
      "source": [
        "normalization_layer = layers.Rescaling(1./255)"
      ]
    },
    {
      "cell_type": "markdown",
      "metadata": {
        "id": "Bl4RmanbJ4g0"
      },
      "source": [
        "Applying layer to the dataset by calling `Dataset.map`:"
      ]
    },
    {
      "cell_type": "code",
      "execution_count": 14,
      "metadata": {
        "id": "X9o9ESaJJ502",
        "colab": {
          "base_uri": "https://localhost:8080/"
        },
        "outputId": "aee63458-dd43-4aff-93c8-2654bcb19fcd"
      },
      "outputs": [
        {
          "output_type": "stream",
          "name": "stdout",
          "text": [
            "0.0 0.9607844\n"
          ]
        }
      ],
      "source": [
        "normalized_ds = train_ds.map(lambda x, y: (normalization_layer(x), y))\n",
        "image_batch, labels_batch = next(iter(normalized_ds))\n",
        "first_image = image_batch[0]\n",
        "# Notice the pixel values are now in `[0,1]`.\n",
        "print(np.min(first_image), np.max(first_image)) "
      ]
    },
    {
      "cell_type": "markdown",
      "metadata": {
        "id": "wJRJ9R_I4lQw"
      },
      "source": [
        "# Original Data Findings\n",
        "Following is the exact data findings of SONYD4D."
      ]
    },
    {
      "cell_type": "code",
      "execution_count": 15,
      "metadata": {
        "id": "ItfpongE4wnJ",
        "colab": {
          "base_uri": "https://localhost:8080/"
        },
        "outputId": "8c8218dd-ca73-411d-af03-ab01e4684bfa"
      },
      "outputs": [
        {
          "output_type": "stream",
          "name": "stdout",
          "text": [
            "Model: \"sequential\"\n",
            "_________________________________________________________________\n",
            " Layer (type)                Output Shape              Param #   \n",
            "=================================================================\n",
            " conv2d (Conv2D)             (None, 48, 48, 32)        896       \n",
            "                                                                 \n",
            " activation (Activation)     (None, 48, 48, 32)        0         \n",
            "                                                                 \n",
            " batch_normalization (BatchN  (None, 48, 48, 32)       128       \n",
            " ormalization)                                                   \n",
            "                                                                 \n",
            " conv2d_1 (Conv2D)           (None, 48, 48, 32)        9248      \n",
            "                                                                 \n",
            " activation_1 (Activation)   (None, 48, 48, 32)        0         \n",
            "                                                                 \n",
            " batch_normalization_1 (Batc  (None, 48, 48, 32)       128       \n",
            " hNormalization)                                                 \n",
            "                                                                 \n",
            " max_pooling2d (MaxPooling2D  (None, 24, 24, 32)       0         \n",
            " )                                                               \n",
            "                                                                 \n",
            " dropout (Dropout)           (None, 24, 24, 32)        0         \n",
            "                                                                 \n",
            " conv2d_2 (Conv2D)           (None, 24, 24, 64)        18496     \n",
            "                                                                 \n",
            " activation_2 (Activation)   (None, 24, 24, 64)        0         \n",
            "                                                                 \n",
            " batch_normalization_2 (Batc  (None, 24, 24, 64)       256       \n",
            " hNormalization)                                                 \n",
            "                                                                 \n",
            " conv2d_3 (Conv2D)           (None, 24, 24, 64)        36928     \n",
            "                                                                 \n",
            " activation_3 (Activation)   (None, 24, 24, 64)        0         \n",
            "                                                                 \n",
            " batch_normalization_3 (Batc  (None, 24, 24, 64)       256       \n",
            " hNormalization)                                                 \n",
            "                                                                 \n",
            " max_pooling2d_1 (MaxPooling  (None, 12, 12, 64)       0         \n",
            " 2D)                                                             \n",
            "                                                                 \n",
            " dropout_1 (Dropout)         (None, 12, 12, 64)        0         \n",
            "                                                                 \n",
            " conv2d_4 (Conv2D)           (None, 12, 12, 128)       73856     \n",
            "                                                                 \n",
            " activation_4 (Activation)   (None, 12, 12, 128)       0         \n",
            "                                                                 \n",
            " batch_normalization_4 (Batc  (None, 12, 12, 128)      512       \n",
            " hNormalization)                                                 \n",
            "                                                                 \n",
            " conv2d_5 (Conv2D)           (None, 12, 12, 128)       147584    \n",
            "                                                                 \n",
            " activation_5 (Activation)   (None, 12, 12, 128)       0         \n",
            "                                                                 \n",
            " batch_normalization_5 (Batc  (None, 12, 12, 128)      512       \n",
            " hNormalization)                                                 \n",
            "                                                                 \n",
            " max_pooling2d_2 (MaxPooling  (None, 6, 6, 128)        0         \n",
            " 2D)                                                             \n",
            "                                                                 \n",
            " dropout_2 (Dropout)         (None, 6, 6, 128)         0         \n",
            "                                                                 \n",
            " conv2d_6 (Conv2D)           (None, 6, 6, 256)         295168    \n",
            "                                                                 \n",
            " activation_6 (Activation)   (None, 6, 6, 256)         0         \n",
            "                                                                 \n",
            " batch_normalization_6 (Batc  (None, 6, 6, 256)        1024      \n",
            " hNormalization)                                                 \n",
            "                                                                 \n",
            " conv2d_7 (Conv2D)           (None, 6, 6, 256)         590080    \n",
            "                                                                 \n",
            " activation_7 (Activation)   (None, 6, 6, 256)         0         \n",
            "                                                                 \n",
            " batch_normalization_7 (Batc  (None, 6, 6, 256)        1024      \n",
            " hNormalization)                                                 \n",
            "                                                                 \n",
            " max_pooling2d_3 (MaxPooling  (None, 3, 3, 256)        0         \n",
            " 2D)                                                             \n",
            "                                                                 \n",
            " dropout_3 (Dropout)         (None, 3, 3, 256)         0         \n",
            "                                                                 \n",
            " flatten (Flatten)           (None, 2304)              0         \n",
            "                                                                 \n",
            " dense (Dense)               (None, 64)                147520    \n",
            "                                                                 \n",
            " activation_8 (Activation)   (None, 64)                0         \n",
            "                                                                 \n",
            " batch_normalization_8 (Batc  (None, 64)               256       \n",
            " hNormalization)                                                 \n",
            "                                                                 \n",
            " dropout_4 (Dropout)         (None, 64)                0         \n",
            "                                                                 \n",
            " dense_1 (Dense)             (None, 64)                4160      \n",
            "                                                                 \n",
            " activation_9 (Activation)   (None, 64)                0         \n",
            "                                                                 \n",
            " batch_normalization_9 (Batc  (None, 64)               256       \n",
            " hNormalization)                                                 \n",
            "                                                                 \n",
            " dropout_5 (Dropout)         (None, 64)                0         \n",
            "                                                                 \n",
            " dense_2 (Dense)             (None, 7)                 455       \n",
            "                                                                 \n",
            " activation_10 (Activation)  (None, 7)                 0         \n",
            "                                                                 \n",
            "=================================================================\n",
            "Total params: 1,328,743\n",
            "Trainable params: 1,326,567\n",
            "Non-trainable params: 2,176\n",
            "_________________________________________________________________\n"
          ]
        }
      ],
      "source": [
        "model = tf.keras.Sequential()\n",
        "\n",
        "model.add(Conv2D(32,(3,3),padding='same',kernel_initializer='he_normal',input_shape=(48,48,3)))\n",
        "model.add(Activation('relu'))\n",
        "model.add(BatchNormalization())\n",
        "model.add(Conv2D(32,(3,3),padding='same',kernel_initializer='he_normal',input_shape=(48,48,3)))\n",
        "model.add(Activation('relu'))\n",
        "model.add(BatchNormalization())\n",
        "model.add(MaxPooling2D(pool_size=(2,2)))\n",
        "model.add(Dropout(0.2))\n",
        "\n",
        "\n",
        "model.add(Conv2D(64,(3,3),padding='same',kernel_initializer='he_normal'))\n",
        "model.add(Activation('relu'))\n",
        "model.add(BatchNormalization())\n",
        "model.add(Conv2D(64,(3,3),padding='same',kernel_initializer='he_normal'))\n",
        "model.add(Activation('relu'))\n",
        "model.add(BatchNormalization())\n",
        "model.add(MaxPooling2D(pool_size=(2,2)))\n",
        "model.add(Dropout(0.2))\n",
        "\n",
        "\n",
        "model.add(Conv2D(128,(3,3),padding='same',kernel_initializer='he_normal'))\n",
        "model.add(Activation('relu'))\n",
        "model.add(BatchNormalization())\n",
        "model.add(Conv2D(128,(3,3),padding='same',kernel_initializer='he_normal'))\n",
        "model.add(Activation('relu'))\n",
        "model.add(BatchNormalization())\n",
        "model.add(MaxPooling2D(pool_size=(2,2)))\n",
        "model.add(Dropout(0.2))\n",
        "\n",
        "\n",
        "model.add(Conv2D(256,(3,3),padding='same',kernel_initializer='he_normal'))\n",
        "model.add(Activation('relu'))\n",
        "model.add(BatchNormalization())\n",
        "model.add(Conv2D(256,(3,3),padding='same',kernel_initializer='he_normal'))\n",
        "model.add(Activation('relu'))\n",
        "model.add(BatchNormalization())\n",
        "model.add(MaxPooling2D(pool_size=(2,2)))\n",
        "model.add(Dropout(0.2))\n",
        "\n",
        "model.add(Flatten())\n",
        "model.add(Dense(64,kernel_initializer='he_normal'))\n",
        "model.add(Activation('relu'))\n",
        "model.add(BatchNormalization())\n",
        "model.add(Dropout(0.5))\n",
        "\n",
        "\n",
        "model.add(Dense(64,kernel_initializer='he_normal'))\n",
        "model.add(Activation('relu'))\n",
        "model.add(BatchNormalization())\n",
        "model.add(Dropout(0.5))\n",
        "\n",
        "\n",
        "model.add(Dense(7,kernel_initializer='he_normal'))\n",
        "model.add(Activation('softmax'))\n",
        "\n",
        "model.summary()"
      ]
    },
    {
      "cell_type": "code",
      "execution_count": 16,
      "metadata": {
        "id": "pB5b0ZV-5O1U"
      },
      "outputs": [],
      "source": [
        "optimizer = tf.keras.optimizers.Adam(learning_rate= 0.005)\n",
        "model.compile(optimizer='adam',\n",
        "              loss=tf.keras.losses.SparseCategoricalCrossentropy(from_logits=True),\n",
        "              metrics=['accuracy'])"
      ]
    },
    {
      "cell_type": "code",
      "execution_count": 17,
      "metadata": {
        "id": "r6ipk4btPKNM",
        "colab": {
          "base_uri": "https://localhost:8080/"
        },
        "outputId": "4f3e561d-9e05-4e72-ce75-cb0cd51fcff5"
      },
      "outputs": [
        {
          "output_type": "stream",
          "name": "stdout",
          "text": [
            "Epoch 1/50\n",
            "898/898 [==============================] - 25s 15ms/step - loss: 2.1233 - accuracy: 0.2189 - val_loss: 1.6625 - val_accuracy: 0.3442\n",
            "Epoch 2/50\n",
            "898/898 [==============================] - 11s 13ms/step - loss: 1.5892 - accuracy: 0.3866 - val_loss: 1.4064 - val_accuracy: 0.4526\n",
            "Epoch 3/50\n",
            "898/898 [==============================] - 11s 13ms/step - loss: 1.4028 - accuracy: 0.4585 - val_loss: 1.3163 - val_accuracy: 0.4911\n",
            "Epoch 4/50\n",
            "898/898 [==============================] - 12s 13ms/step - loss: 1.3108 - accuracy: 0.5041 - val_loss: 1.2715 - val_accuracy: 0.5183\n",
            "Epoch 5/50\n",
            "898/898 [==============================] - 12s 13ms/step - loss: 1.2538 - accuracy: 0.5278 - val_loss: 1.1794 - val_accuracy: 0.5500\n",
            "Epoch 6/50\n",
            "898/898 [==============================] - 12s 13ms/step - loss: 1.1957 - accuracy: 0.5566 - val_loss: 1.1795 - val_accuracy: 0.5492\n",
            "Epoch 7/50\n",
            "898/898 [==============================] - 12s 13ms/step - loss: 1.1446 - accuracy: 0.5801 - val_loss: 1.1835 - val_accuracy: 0.5475\n",
            "Epoch 8/50\n",
            "898/898 [==============================] - 12s 13ms/step - loss: 1.0991 - accuracy: 0.5981 - val_loss: 1.1098 - val_accuracy: 0.5814\n",
            "Epoch 9/50\n",
            "898/898 [==============================] - 12s 13ms/step - loss: 1.0483 - accuracy: 0.6197 - val_loss: 1.0851 - val_accuracy: 0.5991\n",
            "Epoch 10/50\n",
            "898/898 [==============================] - 12s 13ms/step - loss: 1.0008 - accuracy: 0.6394 - val_loss: 1.0437 - val_accuracy: 0.6105\n",
            "Epoch 11/50\n",
            "898/898 [==============================] - 12s 13ms/step - loss: 0.9486 - accuracy: 0.6624 - val_loss: 1.0487 - val_accuracy: 0.6199\n",
            "Epoch 12/50\n",
            "898/898 [==============================] - 12s 13ms/step - loss: 0.9050 - accuracy: 0.6769 - val_loss: 1.0725 - val_accuracy: 0.6184\n",
            "Epoch 13/50\n",
            "898/898 [==============================] - 12s 13ms/step - loss: 0.8508 - accuracy: 0.6989 - val_loss: 1.0550 - val_accuracy: 0.6275\n",
            "Epoch 14/50\n",
            "898/898 [==============================] - 12s 13ms/step - loss: 0.7974 - accuracy: 0.7205 - val_loss: 1.0333 - val_accuracy: 0.6346\n",
            "Epoch 15/50\n",
            "898/898 [==============================] - 12s 13ms/step - loss: 0.7540 - accuracy: 0.7413 - val_loss: 1.0924 - val_accuracy: 0.6349\n",
            "Epoch 16/50\n",
            "898/898 [==============================] - 12s 13ms/step - loss: 0.7040 - accuracy: 0.7569 - val_loss: 1.0684 - val_accuracy: 0.6354\n",
            "Epoch 17/50\n",
            "898/898 [==============================] - 12s 13ms/step - loss: 0.6508 - accuracy: 0.7758 - val_loss: 1.1323 - val_accuracy: 0.6323\n",
            "Epoch 18/50\n",
            "898/898 [==============================] - 12s 13ms/step - loss: 0.6162 - accuracy: 0.7894 - val_loss: 1.1659 - val_accuracy: 0.6293\n",
            "Epoch 19/50\n",
            "898/898 [==============================] - 12s 14ms/step - loss: 0.5846 - accuracy: 0.8044 - val_loss: 1.1743 - val_accuracy: 0.6350\n",
            "Epoch 20/50\n",
            "898/898 [==============================] - 12s 13ms/step - loss: 0.5457 - accuracy: 0.8156 - val_loss: 1.2274 - val_accuracy: 0.6335\n",
            "Epoch 21/50\n",
            "898/898 [==============================] - 12s 13ms/step - loss: 0.5046 - accuracy: 0.8318 - val_loss: 1.1862 - val_accuracy: 0.6365\n",
            "Epoch 22/50\n",
            "898/898 [==============================] - 12s 13ms/step - loss: 0.4868 - accuracy: 0.8368 - val_loss: 1.2387 - val_accuracy: 0.6415\n",
            "Epoch 23/50\n",
            "898/898 [==============================] - 12s 13ms/step - loss: 0.4601 - accuracy: 0.8466 - val_loss: 1.2519 - val_accuracy: 0.6353\n",
            "Epoch 24/50\n",
            "898/898 [==============================] - 12s 13ms/step - loss: 0.4368 - accuracy: 0.8557 - val_loss: 1.3050 - val_accuracy: 0.6357\n",
            "Epoch 25/50\n",
            "898/898 [==============================] - 12s 13ms/step - loss: 0.4217 - accuracy: 0.8590 - val_loss: 1.3319 - val_accuracy: 0.6301\n",
            "Epoch 26/50\n",
            "898/898 [==============================] - 12s 13ms/step - loss: 0.3836 - accuracy: 0.8756 - val_loss: 1.3878 - val_accuracy: 0.6402\n",
            "Epoch 27/50\n",
            "898/898 [==============================] - 12s 13ms/step - loss: 0.3670 - accuracy: 0.8782 - val_loss: 1.3718 - val_accuracy: 0.6371\n",
            "Epoch 28/50\n",
            "898/898 [==============================] - 12s 13ms/step - loss: 0.3555 - accuracy: 0.8810 - val_loss: 1.4143 - val_accuracy: 0.6392\n",
            "Epoch 29/50\n",
            "898/898 [==============================] - 12s 13ms/step - loss: 0.3382 - accuracy: 0.8875 - val_loss: 1.5015 - val_accuracy: 0.6326\n",
            "Epoch 30/50\n",
            "898/898 [==============================] - 12s 13ms/step - loss: 0.3260 - accuracy: 0.8938 - val_loss: 1.4422 - val_accuracy: 0.6415\n",
            "Epoch 31/50\n",
            "898/898 [==============================] - 12s 13ms/step - loss: 0.3113 - accuracy: 0.8966 - val_loss: 1.4784 - val_accuracy: 0.6418\n",
            "Epoch 32/50\n",
            "898/898 [==============================] - 12s 13ms/step - loss: 0.3081 - accuracy: 0.8965 - val_loss: 1.5000 - val_accuracy: 0.6436\n",
            "Epoch 33/50\n",
            "898/898 [==============================] - 12s 13ms/step - loss: 0.2905 - accuracy: 0.9046 - val_loss: 1.4791 - val_accuracy: 0.6365\n",
            "Epoch 34/50\n",
            "898/898 [==============================] - 12s 13ms/step - loss: 0.2745 - accuracy: 0.9101 - val_loss: 1.5031 - val_accuracy: 0.6413\n",
            "Epoch 35/50\n",
            "898/898 [==============================] - 12s 13ms/step - loss: 0.2713 - accuracy: 0.9106 - val_loss: 1.5203 - val_accuracy: 0.6503\n",
            "Epoch 36/50\n",
            "898/898 [==============================] - 12s 13ms/step - loss: 0.2589 - accuracy: 0.9165 - val_loss: 1.5574 - val_accuracy: 0.6408\n",
            "Epoch 37/50\n",
            "898/898 [==============================] - 12s 13ms/step - loss: 0.2573 - accuracy: 0.9161 - val_loss: 1.5447 - val_accuracy: 0.6463\n",
            "Epoch 38/50\n",
            "898/898 [==============================] - 12s 13ms/step - loss: 0.2417 - accuracy: 0.9217 - val_loss: 1.5497 - val_accuracy: 0.6421\n",
            "Epoch 39/50\n",
            "898/898 [==============================] - 12s 13ms/step - loss: 0.2471 - accuracy: 0.9202 - val_loss: 1.5977 - val_accuracy: 0.6499\n",
            "Epoch 40/50\n",
            "898/898 [==============================] - 14s 15ms/step - loss: 0.2303 - accuracy: 0.9230 - val_loss: 1.6806 - val_accuracy: 0.6335\n",
            "Epoch 41/50\n",
            "898/898 [==============================] - 12s 13ms/step - loss: 0.2250 - accuracy: 0.9263 - val_loss: 1.6454 - val_accuracy: 0.6439\n",
            "Epoch 42/50\n",
            "898/898 [==============================] - 12s 13ms/step - loss: 0.2246 - accuracy: 0.9271 - val_loss: 1.6598 - val_accuracy: 0.6464\n",
            "Epoch 43/50\n",
            "898/898 [==============================] - 12s 13ms/step - loss: 0.2161 - accuracy: 0.9287 - val_loss: 1.6322 - val_accuracy: 0.6429\n",
            "Epoch 44/50\n",
            "898/898 [==============================] - 12s 13ms/step - loss: 0.2127 - accuracy: 0.9301 - val_loss: 1.6461 - val_accuracy: 0.6439\n",
            "Epoch 45/50\n",
            "898/898 [==============================] - 12s 13ms/step - loss: 0.1988 - accuracy: 0.9365 - val_loss: 1.6920 - val_accuracy: 0.6388\n",
            "Epoch 46/50\n",
            "898/898 [==============================] - 12s 13ms/step - loss: 0.1986 - accuracy: 0.9370 - val_loss: 1.6595 - val_accuracy: 0.6488\n",
            "Epoch 47/50\n",
            "898/898 [==============================] - 12s 13ms/step - loss: 0.1915 - accuracy: 0.9379 - val_loss: 1.8085 - val_accuracy: 0.6410\n",
            "Epoch 48/50\n",
            "898/898 [==============================] - 12s 13ms/step - loss: 0.1941 - accuracy: 0.9376 - val_loss: 1.7196 - val_accuracy: 0.6411\n",
            "Epoch 49/50\n",
            "898/898 [==============================] - 12s 13ms/step - loss: 0.1899 - accuracy: 0.9405 - val_loss: 1.6703 - val_accuracy: 0.6424\n",
            "Epoch 50/50\n",
            "898/898 [==============================] - 12s 13ms/step - loss: 0.1726 - accuracy: 0.9436 - val_loss: 1.7541 - val_accuracy: 0.6463\n"
          ]
        }
      ],
      "source": [
        "epochs = 50\n",
        "history = model.fit(\n",
        "  train_ds,\n",
        "  validation_data=val_ds,\n",
        "  epochs=epochs\n",
        ")"
      ]
    },
    {
      "cell_type": "markdown",
      "metadata": {
        "id": "vduL77ym5a1d"
      },
      "source": [
        "# Evaluation\n",
        "As seen, the data findings created by original code is slightly less efficient that the modified code developed. A reason may be because the modified code also includes data augumentation while the original does not."
      ]
    },
    {
      "cell_type": "code",
      "execution_count": 18,
      "metadata": {
        "id": "P3lE7kdP5Sdv",
        "colab": {
          "base_uri": "https://localhost:8080/",
          "height": 294
        },
        "outputId": "4b238aa7-389f-4d17-d929-44a9dde1238b"
      },
      "outputs": [
        {
          "output_type": "display_data",
          "data": {
            "text/plain": [
              "<Figure size 432x288 with 1 Axes>"
            ],
            "image/png": "[encoded data removed]"
          },
          "metadata": {
            "needs_background": "light"
          }
        }
      ],
      "source": [
        "plt.plot(history.history['accuracy'], label='Accuracy')\n",
        "plt.plot(history.history['val_accuracy'], label='Validation Accuracy')\n",
        "plt.title('CNN Metrices (Accuracy)')\n",
        "plt.ylabel('% value')\n",
        "plt.xlabel('Epoch')\n",
        "plt.legend(loc=\"upper left\")\n",
        "plt.show()"
      ]
    },
    {
      "cell_type": "code",
      "execution_count": 19,
      "metadata": {
        "id": "nRIiAnNc5Uuz",
        "colab": {
          "base_uri": "https://localhost:8080/",
          "height": 294
        },
        "outputId": "e5ff07ba-c4da-48b2-fb79-130252b95656"
      },
      "outputs": [
        {
          "output_type": "display_data",
          "data": {
            "text/plain": [
              "<Figure size 432x288 with 1 Axes>"
            ],
            "image/png": "[encoded data removed]"
          },
          "metadata": {
            "needs_background": "light"
          }
        }
      ],
      "source": [
        "plt.plot(history.history['loss'], label='Loss')\n",
        "plt.plot(history.history['val_loss'], label='Validation loss')\n",
        "plt.title('CNN Metrices(Loss)')\n",
        "plt.ylabel('% value')\n",
        "plt.xlabel('Epoch')\n",
        "plt.legend(loc=\"upper left\")\n",
        "plt.show()"
      ]
    },
    {
      "cell_type": "markdown",
      "metadata": {
        "id": "217UdLI95vMT"
      },
      "source": [
        "\n",
        "\n",
        "-----------------------------------------------------\n"
      ]
    },
    {
      "cell_type": "markdown",
      "metadata": {
        "id": "BDMfYqwmM1C-"
      },
      "source": [
        "## Data augmentation & Dropout"
      ]
    },
    {
      "cell_type": "markdown",
      "metadata": {
        "id": "GxYwix81M2YO"
      },
      "source": [
        "Data augmentation takes the approach of generating additional training data from your existing examples by augmenting them using random transformations that yield believable-looking images. This helps expose the model to more aspects of the data and generalize better. \n",
        "When you apply dropout to a layer, it randomly drops out (by setting the activation to zero) a number of output units from the layer during the training process.\n",
        "\n",
        "Implemented data augmentation and dropout using the following Keras preprocessing layers: `tf.keras.layers.RandomFlip`, `tf.keras.layers.RandomRotation`, and `tf.keras.layers.RandomZoom`, `tf.keras.layers.Dropout`."
      ]
    },
    {
      "cell_type": "code",
      "execution_count": 20,
      "metadata": {
        "id": "9J80BAbIMs21"
      },
      "outputs": [],
      "source": [
        "data_augmentation = keras.Sequential(\n",
        "  [\n",
        "    layers.RandomFlip(\"horizontal\",\n",
        "                      input_shape=(img_height,\n",
        "                                  img_width,\n",
        "                                  3)),\n",
        "    layers.RandomRotation(0.1),\n",
        "    layers.RandomZoom(0.1),\n",
        "  ]\n",
        ")"
      ]
    },
    {
      "cell_type": "markdown",
      "metadata": {
        "id": "PN4k1dK3S6eV"
      },
      "source": [
        "A few augmented examples look like by applying data augmentation to the same image several times:"
      ]
    },
    {
      "cell_type": "code",
      "execution_count": 21,
      "metadata": {
        "id": "7Z90k539S838",
        "colab": {
          "base_uri": "https://localhost:8080/",
          "height": 574
        },
        "outputId": "190012af-f867-422b-b239-5ec061165b4f"
      },
      "outputs": [
        {
          "output_type": "display_data",
          "data": {
            "text/plain": [
              "<Figure size 720x720 with 9 Axes>"
            ],
            "image/png": "[encoded data removed]"
          },
          "metadata": {
            "needs_background": "light"
          }
        }
      ],
      "source": [
        "plt.figure(figsize=(10, 10))\n",
        "for images, _ in train_ds.take(1):\n",
        "  for i in range(9):\n",
        "    augmented_images = data_augmentation(images)\n",
        "    ax = plt.subplot(3, 3, i + 1)\n",
        "    plt.imshow(augmented_images[0].numpy().astype(\"uint8\"))\n",
        "    plt.axis(\"off\")"
      ]
    },
    {
      "cell_type": "markdown",
      "metadata": {
        "id": "kQMrBfIwtIG_"
      },
      "source": [
        "Implemented CNN is credited SONYD4D's post from Kaggle.com: https://www.kaggle.com/code/sonyd4d/cnn-for-emotion-detection\n",
        "\n"
      ]
    },
    {
      "cell_type": "code",
      "execution_count": 22,
      "metadata": {
        "id": "Vur39h6-C0JO"
      },
      "outputs": [],
      "source": [
        "num_classes = len(class_names)\n",
        "\n",
        "model = tf.keras.Sequential()\n",
        "model.add(data_augmentation)\n",
        "model.add(layers.Rescaling(1./255))\n",
        "model.add(Conv2D(32,(3,3),padding='same',kernel_initializer='he_normal',input_shape=(48,48,3)))\n",
        "model.add(Activation('relu'))\n",
        "model.add(BatchNormalization())\n",
        "model.add(Conv2D(32,(3,3),padding='same',kernel_initializer='he_normal',input_shape=(48,48,3)))\n",
        "model.add(Activation('relu'))\n",
        "model.add(BatchNormalization())\n",
        "model.add(MaxPooling2D(pool_size=(2,2)))\n",
        "model.add(Dropout(0.4))\n",
        "\n",
        "\n",
        "model.add(Conv2D(64,(3,3),padding='same',kernel_initializer='he_normal'))\n",
        "model.add(Activation('relu'))\n",
        "model.add(BatchNormalization())\n",
        "model.add(Conv2D(64,(3,3),padding='same',kernel_initializer='he_normal'))\n",
        "model.add(Activation('relu'))\n",
        "model.add(BatchNormalization())\n",
        "model.add(MaxPooling2D(pool_size=(2,2)))\n",
        "model.add(Dropout(0.4))\n",
        "\n",
        "\n",
        "model.add(Conv2D(128,(3,3),padding='same',kernel_initializer='he_normal'))\n",
        "model.add(Activation('relu'))\n",
        "model.add(BatchNormalization())\n",
        "model.add(Conv2D(128,(3,3),padding='same',kernel_initializer='he_normal'))\n",
        "model.add(Activation('relu'))\n",
        "model.add(BatchNormalization())\n",
        "model.add(MaxPooling2D(pool_size=(2,2)))\n",
        "model.add(Dropout(0.4))\n",
        "\n",
        "\n",
        "model.add(Conv2D(256,(3,3),padding='same',kernel_initializer='he_normal'))\n",
        "model.add(Activation('relu'))\n",
        "model.add(BatchNormalization())\n",
        "model.add(Conv2D(256,(3,3),padding='same',kernel_initializer='he_normal'))\n",
        "model.add(Activation('relu'))\n",
        "model.add(BatchNormalization())\n",
        "model.add(MaxPooling2D(pool_size=(2,2)))\n",
        "model.add(Dropout(0.4))\n",
        "\n",
        "\n",
        "model.add(Flatten())\n",
        "model.add(Dense(64,kernel_initializer='he_normal'))\n",
        "model.add(Activation('relu'))\n",
        "model.add(BatchNormalization())\n",
        "model.add(Dropout(0.4))\n",
        "\n",
        "\n",
        "model.add(Dense(64,kernel_initializer='he_normal'))\n",
        "model.add(Activation('relu'))\n",
        "model.add(BatchNormalization())\n",
        "model.add(Dropout(0.4))\n",
        "model.add(Dense(num_classes))"
      ]
    },
    {
      "cell_type": "markdown",
      "metadata": {
        "id": "L4nEcuqgZLbi"
      },
      "source": [
        "## Compile and train the model"
      ]
    },
    {
      "cell_type": "code",
      "execution_count": 23,
      "metadata": {
        "id": "EvyAINs9ZOmJ"
      },
      "outputs": [],
      "source": [
        "optimizer = tf.keras.optimizers.Adam(learning_rate= 0.005)\n",
        "model.compile(optimizer='adam',\n",
        "              loss=tf.keras.losses.SparseCategoricalCrossentropy(from_logits=True),\n",
        "              metrics=['accuracy'])"
      ]
    },
    {
      "cell_type": "code",
      "execution_count": 24,
      "metadata": {
        "id": "wWLkKoKjZSoC",
        "colab": {
          "base_uri": "https://localhost:8080/"
        },
        "outputId": "44e21a99-bbca-48b7-9c11-68703db793c0"
      },
      "outputs": [
        {
          "output_type": "stream",
          "name": "stdout",
          "text": [
            "Model: \"sequential_2\"\n",
            "_________________________________________________________________\n",
            " Layer (type)                Output Shape              Param #   \n",
            "=================================================================\n",
            " sequential_1 (Sequential)   (None, 48, 48, 3)         0         \n",
            "                                                                 \n",
            " rescaling_1 (Rescaling)     (None, 48, 48, 3)         0         \n",
            "                                                                 \n",
            " conv2d_8 (Conv2D)           (None, 48, 48, 32)        896       \n",
            "                                                                 \n",
            " activation_11 (Activation)  (None, 48, 48, 32)        0         \n",
            "                                                                 \n",
            " batch_normalization_10 (Bat  (None, 48, 48, 32)       128       \n",
            " chNormalization)                                                \n",
            "                                                                 \n",
            " conv2d_9 (Conv2D)           (None, 48, 48, 32)        9248      \n",
            "                                                                 \n",
            " activation_12 (Activation)  (None, 48, 48, 32)        0         \n",
            "                                                                 \n",
            " batch_normalization_11 (Bat  (None, 48, 48, 32)       128       \n",
            " chNormalization)                                                \n",
            "                                                                 \n",
            " max_pooling2d_4 (MaxPooling  (None, 24, 24, 32)       0         \n",
            " 2D)                                                             \n",
            "                                                                 \n",
            " dropout_6 (Dropout)         (None, 24, 24, 32)        0         \n",
            "                                                                 \n",
            " conv2d_10 (Conv2D)          (None, 24, 24, 64)        18496     \n",
            "                                                                 \n",
            " activation_13 (Activation)  (None, 24, 24, 64)        0         \n",
            "                                                                 \n",
            " batch_normalization_12 (Bat  (None, 24, 24, 64)       256       \n",
            " chNormalization)                                                \n",
            "                                                                 \n",
            " conv2d_11 (Conv2D)          (None, 24, 24, 64)        36928     \n",
            "                                                                 \n",
            " activation_14 (Activation)  (None, 24, 24, 64)        0         \n",
            "                                                                 \n",
            " batch_normalization_13 (Bat  (None, 24, 24, 64)       256       \n",
            " chNormalization)                                                \n",
            "                                                                 \n",
            " max_pooling2d_5 (MaxPooling  (None, 12, 12, 64)       0         \n",
            " 2D)                                                             \n",
            "                                                                 \n",
            " dropout_7 (Dropout)         (None, 12, 12, 64)        0         \n",
            "                                                                 \n",
            " conv2d_12 (Conv2D)          (None, 12, 12, 128)       73856     \n",
            "                                                                 \n",
            " activation_15 (Activation)  (None, 12, 12, 128)       0         \n",
            "                                                                 \n",
            " batch_normalization_14 (Bat  (None, 12, 12, 128)      512       \n",
            " chNormalization)                                                \n",
            "                                                                 \n",
            " conv2d_13 (Conv2D)          (None, 12, 12, 128)       147584    \n",
            "                                                                 \n",
            " activation_16 (Activation)  (None, 12, 12, 128)       0         \n",
            "                                                                 \n",
            " batch_normalization_15 (Bat  (None, 12, 12, 128)      512       \n",
            " chNormalization)                                                \n",
            "                                                                 \n",
            " max_pooling2d_6 (MaxPooling  (None, 6, 6, 128)        0         \n",
            " 2D)                                                             \n",
            "                                                                 \n",
            " dropout_8 (Dropout)         (None, 6, 6, 128)         0         \n",
            "                                                                 \n",
            " conv2d_14 (Conv2D)          (None, 6, 6, 256)         295168    \n",
            "                                                                 \n",
            " activation_17 (Activation)  (None, 6, 6, 256)         0         \n",
            "                                                                 \n",
            " batch_normalization_16 (Bat  (None, 6, 6, 256)        1024      \n",
            " chNormalization)                                                \n",
            "                                                                 \n",
            " conv2d_15 (Conv2D)          (None, 6, 6, 256)         590080    \n",
            "                                                                 \n",
            " activation_18 (Activation)  (None, 6, 6, 256)         0         \n",
            "                                                                 \n",
            " batch_normalization_17 (Bat  (None, 6, 6, 256)        1024      \n",
            " chNormalization)                                                \n",
            "                                                                 \n",
            " max_pooling2d_7 (MaxPooling  (None, 3, 3, 256)        0         \n",
            " 2D)                                                             \n",
            "                                                                 \n",
            " dropout_9 (Dropout)         (None, 3, 3, 256)         0         \n",
            "                                                                 \n",
            " flatten_1 (Flatten)         (None, 2304)              0         \n",
            "                                                                 \n",
            " dense_3 (Dense)             (None, 64)                147520    \n",
            "                                                                 \n",
            " activation_19 (Activation)  (None, 64)                0         \n",
            "                                                                 \n",
            " batch_normalization_18 (Bat  (None, 64)               256       \n",
            " chNormalization)                                                \n",
            "                                                                 \n",
            " dropout_10 (Dropout)        (None, 64)                0         \n",
            "                                                                 \n",
            " dense_4 (Dense)             (None, 64)                4160      \n",
            "                                                                 \n",
            " activation_20 (Activation)  (None, 64)                0         \n",
            "                                                                 \n",
            " batch_normalization_19 (Bat  (None, 64)               256       \n",
            " chNormalization)                                                \n",
            "                                                                 \n",
            " dropout_11 (Dropout)        (None, 64)                0         \n",
            "                                                                 \n",
            " dense_5 (Dense)             (None, 7)                 455       \n",
            "                                                                 \n",
            "=================================================================\n",
            "Total params: 1,328,743\n",
            "Trainable params: 1,326,567\n",
            "Non-trainable params: 2,176\n",
            "_________________________________________________________________\n"
          ]
        }
      ],
      "source": [
        "model.summary()"
      ]
    },
    {
      "cell_type": "code",
      "execution_count": 25,
      "metadata": {
        "id": "LWS-vvNaZDag",
        "colab": {
          "base_uri": "https://localhost:8080/"
        },
        "outputId": "90bdc6ad-595c-4feb-e1c2-f5129dd9caae"
      },
      "outputs": [
        {
          "output_type": "stream",
          "name": "stdout",
          "text": [
            "Epoch 1/150\n",
            "898/898 [==============================] - 16s 15ms/step - loss: 2.0451 - accuracy: 0.2170 - val_loss: 1.7557 - val_accuracy: 0.2665\n",
            "Epoch 2/150\n",
            "898/898 [==============================] - 13s 15ms/step - loss: 1.7718 - accuracy: 0.2654 - val_loss: 1.7046 - val_accuracy: 0.2855\n",
            "Epoch 3/150\n",
            "898/898 [==============================] - 13s 15ms/step - loss: 1.6805 - accuracy: 0.3188 - val_loss: 1.5496 - val_accuracy: 0.3828\n",
            "Epoch 4/150\n",
            "898/898 [==============================] - 13s 15ms/step - loss: 1.5503 - accuracy: 0.3955 - val_loss: 1.4575 - val_accuracy: 0.4430\n",
            "Epoch 5/150\n",
            "898/898 [==============================] - 13s 15ms/step - loss: 1.4635 - accuracy: 0.4366 - val_loss: 1.3414 - val_accuracy: 0.4756\n",
            "Epoch 6/150\n",
            "898/898 [==============================] - 13s 15ms/step - loss: 1.4048 - accuracy: 0.4634 - val_loss: 1.2964 - val_accuracy: 0.5047\n",
            "Epoch 7/150\n",
            "898/898 [==============================] - 13s 15ms/step - loss: 1.3618 - accuracy: 0.4816 - val_loss: 1.2407 - val_accuracy: 0.5198\n",
            "Epoch 8/150\n",
            "898/898 [==============================] - 13s 15ms/step - loss: 1.3278 - accuracy: 0.4980 - val_loss: 1.2388 - val_accuracy: 0.5258\n",
            "Epoch 9/150\n",
            "898/898 [==============================] - 13s 15ms/step - loss: 1.3047 - accuracy: 0.5089 - val_loss: 1.1836 - val_accuracy: 0.5502\n",
            "Epoch 10/150\n",
            "898/898 [==============================] - 13s 15ms/step - loss: 1.2755 - accuracy: 0.5200 - val_loss: 1.1321 - val_accuracy: 0.5655\n",
            "Epoch 11/150\n",
            "898/898 [==============================] - 13s 15ms/step - loss: 1.2606 - accuracy: 0.5242 - val_loss: 1.1474 - val_accuracy: 0.5632\n",
            "Epoch 12/150\n",
            "898/898 [==============================] - 13s 15ms/step - loss: 1.2402 - accuracy: 0.5365 - val_loss: 1.1053 - val_accuracy: 0.5794\n",
            "Epoch 13/150\n",
            "898/898 [==============================] - 13s 15ms/step - loss: 1.2253 - accuracy: 0.5439 - val_loss: 1.0982 - val_accuracy: 0.5865\n",
            "Epoch 14/150\n",
            "898/898 [==============================] - 13s 15ms/step - loss: 1.2148 - accuracy: 0.5483 - val_loss: 1.1242 - val_accuracy: 0.5737\n",
            "Epoch 15/150\n",
            "898/898 [==============================] - 13s 15ms/step - loss: 1.2025 - accuracy: 0.5509 - val_loss: 1.1185 - val_accuracy: 0.5752\n",
            "Epoch 16/150\n",
            "898/898 [==============================] - 13s 15ms/step - loss: 1.1908 - accuracy: 0.5557 - val_loss: 1.1145 - val_accuracy: 0.5740\n",
            "Epoch 17/150\n",
            "898/898 [==============================] - 13s 15ms/step - loss: 1.1762 - accuracy: 0.5637 - val_loss: 1.0735 - val_accuracy: 0.5943\n",
            "Epoch 18/150\n",
            "898/898 [==============================] - 13s 15ms/step - loss: 1.1650 - accuracy: 0.5655 - val_loss: 1.0906 - val_accuracy: 0.5821\n",
            "Epoch 19/150\n",
            "898/898 [==============================] - 13s 15ms/step - loss: 1.1558 - accuracy: 0.5715 - val_loss: 1.0724 - val_accuracy: 0.5946\n",
            "Epoch 20/150\n",
            "898/898 [==============================] - 13s 15ms/step - loss: 1.1528 - accuracy: 0.5721 - val_loss: 1.0696 - val_accuracy: 0.5957\n",
            "Epoch 21/150\n",
            "898/898 [==============================] - 13s 15ms/step - loss: 1.1510 - accuracy: 0.5744 - val_loss: 1.0504 - val_accuracy: 0.6007\n",
            "Epoch 22/150\n",
            "898/898 [==============================] - 13s 15ms/step - loss: 1.1313 - accuracy: 0.5775 - val_loss: 1.0399 - val_accuracy: 0.6056\n",
            "Epoch 23/150\n",
            "898/898 [==============================] - 13s 15ms/step - loss: 1.1345 - accuracy: 0.5812 - val_loss: 1.0729 - val_accuracy: 0.5917\n",
            "Epoch 24/150\n",
            "898/898 [==============================] - 13s 15ms/step - loss: 1.1281 - accuracy: 0.5849 - val_loss: 1.0650 - val_accuracy: 0.5952\n",
            "Epoch 25/150\n",
            "898/898 [==============================] - 13s 15ms/step - loss: 1.1176 - accuracy: 0.5850 - val_loss: 1.0409 - val_accuracy: 0.6048\n",
            "Epoch 26/150\n",
            "898/898 [==============================] - 13s 15ms/step - loss: 1.1081 - accuracy: 0.5899 - val_loss: 1.0826 - val_accuracy: 0.5985\n",
            "Epoch 27/150\n",
            "898/898 [==============================] - 13s 15ms/step - loss: 1.1055 - accuracy: 0.5884 - val_loss: 1.0252 - val_accuracy: 0.6140\n",
            "Epoch 28/150\n",
            "898/898 [==============================] - 13s 15ms/step - loss: 1.1045 - accuracy: 0.5904 - val_loss: 1.0444 - val_accuracy: 0.6053\n",
            "Epoch 29/150\n",
            "898/898 [==============================] - 13s 15ms/step - loss: 1.0984 - accuracy: 0.5926 - val_loss: 1.0187 - val_accuracy: 0.6144\n",
            "Epoch 30/150\n",
            "898/898 [==============================] - 13s 15ms/step - loss: 1.0930 - accuracy: 0.5945 - val_loss: 1.0161 - val_accuracy: 0.6184\n",
            "Epoch 31/150\n",
            "898/898 [==============================] - 13s 15ms/step - loss: 1.0893 - accuracy: 0.5988 - val_loss: 1.0116 - val_accuracy: 0.6251\n",
            "Epoch 32/150\n",
            "898/898 [==============================] - 13s 15ms/step - loss: 1.0799 - accuracy: 0.6011 - val_loss: 1.0220 - val_accuracy: 0.6156\n",
            "Epoch 33/150\n",
            "898/898 [==============================] - 13s 15ms/step - loss: 1.0818 - accuracy: 0.6011 - val_loss: 0.9899 - val_accuracy: 0.6279\n",
            "Epoch 34/150\n",
            "898/898 [==============================] - 13s 15ms/step - loss: 1.0794 - accuracy: 0.6001 - val_loss: 1.0102 - val_accuracy: 0.6152\n",
            "Epoch 35/150\n",
            "898/898 [==============================] - 13s 15ms/step - loss: 1.0697 - accuracy: 0.6062 - val_loss: 0.9923 - val_accuracy: 0.6293\n",
            "Epoch 36/150\n",
            "898/898 [==============================] - 13s 15ms/step - loss: 1.0639 - accuracy: 0.6050 - val_loss: 0.9915 - val_accuracy: 0.6229\n",
            "Epoch 37/150\n",
            "898/898 [==============================] - 13s 15ms/step - loss: 1.0628 - accuracy: 0.6080 - val_loss: 1.0004 - val_accuracy: 0.6252\n",
            "Epoch 38/150\n",
            "898/898 [==============================] - 13s 15ms/step - loss: 1.0614 - accuracy: 0.6098 - val_loss: 0.9936 - val_accuracy: 0.6240\n",
            "Epoch 39/150\n",
            "898/898 [==============================] - 13s 15ms/step - loss: 1.0596 - accuracy: 0.6086 - val_loss: 0.9916 - val_accuracy: 0.6287\n",
            "Epoch 40/150\n",
            "898/898 [==============================] - 13s 15ms/step - loss: 1.0494 - accuracy: 0.6132 - val_loss: 1.0125 - val_accuracy: 0.6212\n",
            "Epoch 41/150\n",
            "898/898 [==============================] - 13s 15ms/step - loss: 1.0494 - accuracy: 0.6089 - val_loss: 0.9976 - val_accuracy: 0.6266\n",
            "Epoch 42/150\n",
            "898/898 [==============================] - 13s 15ms/step - loss: 1.0409 - accuracy: 0.6155 - val_loss: 0.9719 - val_accuracy: 0.6321\n",
            "Epoch 43/150\n",
            "898/898 [==============================] - 13s 15ms/step - loss: 1.0357 - accuracy: 0.6186 - val_loss: 0.9929 - val_accuracy: 0.6305\n",
            "Epoch 44/150\n",
            "898/898 [==============================] - 13s 15ms/step - loss: 1.0387 - accuracy: 0.6165 - val_loss: 0.9857 - val_accuracy: 0.6283\n",
            "Epoch 45/150\n",
            "898/898 [==============================] - 13s 15ms/step - loss: 1.0362 - accuracy: 0.6194 - val_loss: 0.9794 - val_accuracy: 0.6304\n",
            "Epoch 46/150\n",
            "898/898 [==============================] - 13s 15ms/step - loss: 1.0298 - accuracy: 0.6227 - val_loss: 0.9832 - val_accuracy: 0.6304\n",
            "Epoch 47/150\n",
            "898/898 [==============================] - 13s 15ms/step - loss: 1.0319 - accuracy: 0.6186 - val_loss: 1.0073 - val_accuracy: 0.6241\n",
            "Epoch 48/150\n",
            "898/898 [==============================] - 13s 15ms/step - loss: 1.0244 - accuracy: 0.6283 - val_loss: 0.9619 - val_accuracy: 0.6424\n",
            "Epoch 49/150\n",
            "898/898 [==============================] - 13s 15ms/step - loss: 1.0184 - accuracy: 0.6277 - val_loss: 0.9850 - val_accuracy: 0.6336\n",
            "Epoch 50/150\n",
            "898/898 [==============================] - 13s 15ms/step - loss: 1.0215 - accuracy: 0.6249 - val_loss: 0.9804 - val_accuracy: 0.6328\n",
            "Epoch 51/150\n",
            "898/898 [==============================] - 13s 15ms/step - loss: 1.0168 - accuracy: 0.6263 - val_loss: 0.9680 - val_accuracy: 0.6393\n",
            "Epoch 52/150\n",
            "898/898 [==============================] - 13s 15ms/step - loss: 1.0123 - accuracy: 0.6301 - val_loss: 0.9577 - val_accuracy: 0.6403\n",
            "Epoch 53/150\n",
            "898/898 [==============================] - 13s 15ms/step - loss: 1.0078 - accuracy: 0.6320 - val_loss: 0.9604 - val_accuracy: 0.6449\n",
            "Epoch 54/150\n",
            "898/898 [==============================] - 13s 15ms/step - loss: 1.0129 - accuracy: 0.6289 - val_loss: 0.9633 - val_accuracy: 0.6467\n",
            "Epoch 55/150\n",
            "898/898 [==============================] - 13s 15ms/step - loss: 1.0025 - accuracy: 0.6323 - val_loss: 0.9769 - val_accuracy: 0.6335\n",
            "Epoch 56/150\n",
            "898/898 [==============================] - 13s 15ms/step - loss: 1.0045 - accuracy: 0.6325 - val_loss: 0.9628 - val_accuracy: 0.6379\n",
            "Epoch 57/150\n",
            "898/898 [==============================] - 13s 15ms/step - loss: 1.0037 - accuracy: 0.6331 - val_loss: 0.9566 - val_accuracy: 0.6407\n",
            "Epoch 58/150\n",
            "898/898 [==============================] - 13s 15ms/step - loss: 1.0022 - accuracy: 0.6297 - val_loss: 0.9937 - val_accuracy: 0.6266\n",
            "Epoch 59/150\n",
            "898/898 [==============================] - 13s 15ms/step - loss: 0.9905 - accuracy: 0.6357 - val_loss: 0.9867 - val_accuracy: 0.6312\n",
            "Epoch 60/150\n",
            "898/898 [==============================] - 13s 15ms/step - loss: 0.9917 - accuracy: 0.6363 - val_loss: 0.9772 - val_accuracy: 0.6375\n",
            "Epoch 61/150\n",
            "898/898 [==============================] - 13s 15ms/step - loss: 0.9920 - accuracy: 0.6313 - val_loss: 0.9877 - val_accuracy: 0.6315\n",
            "Epoch 62/150\n",
            "898/898 [==============================] - 13s 15ms/step - loss: 0.9893 - accuracy: 0.6399 - val_loss: 0.9653 - val_accuracy: 0.6397\n",
            "Epoch 63/150\n",
            "898/898 [==============================] - 13s 15ms/step - loss: 0.9872 - accuracy: 0.6368 - val_loss: 0.9866 - val_accuracy: 0.6297\n",
            "Epoch 64/150\n",
            "898/898 [==============================] - 13s 15ms/step - loss: 0.9816 - accuracy: 0.6414 - val_loss: 0.9589 - val_accuracy: 0.6473\n",
            "Epoch 65/150\n",
            "898/898 [==============================] - 13s 15ms/step - loss: 0.9804 - accuracy: 0.6430 - val_loss: 0.9571 - val_accuracy: 0.6464\n",
            "Epoch 66/150\n",
            "898/898 [==============================] - 13s 15ms/step - loss: 0.9721 - accuracy: 0.6437 - val_loss: 0.9697 - val_accuracy: 0.6414\n",
            "Epoch 67/150\n",
            "898/898 [==============================] - 13s 15ms/step - loss: 0.9735 - accuracy: 0.6421 - val_loss: 0.9749 - val_accuracy: 0.6356\n",
            "Epoch 68/150\n",
            "898/898 [==============================] - 13s 15ms/step - loss: 0.9742 - accuracy: 0.6431 - val_loss: 0.9566 - val_accuracy: 0.6493\n",
            "Epoch 69/150\n",
            "898/898 [==============================] - 13s 15ms/step - loss: 0.9716 - accuracy: 0.6452 - val_loss: 0.9664 - val_accuracy: 0.6425\n",
            "Epoch 70/150\n",
            "898/898 [==============================] - 13s 15ms/step - loss: 0.9729 - accuracy: 0.6454 - val_loss: 0.9834 - val_accuracy: 0.6296\n",
            "Epoch 71/150\n",
            "898/898 [==============================] - 13s 15ms/step - loss: 0.9694 - accuracy: 0.6466 - val_loss: 0.9695 - val_accuracy: 0.6362\n",
            "Epoch 72/150\n",
            "898/898 [==============================] - 13s 15ms/step - loss: 0.9681 - accuracy: 0.6471 - val_loss: 0.9637 - val_accuracy: 0.6438\n",
            "Epoch 73/150\n",
            "898/898 [==============================] - 13s 15ms/step - loss: 0.9648 - accuracy: 0.6476 - val_loss: 0.9768 - val_accuracy: 0.6443\n",
            "Epoch 74/150\n",
            "898/898 [==============================] - 13s 15ms/step - loss: 0.9631 - accuracy: 0.6475 - val_loss: 0.9478 - val_accuracy: 0.6524\n",
            "Epoch 75/150\n",
            "898/898 [==============================] - 13s 15ms/step - loss: 0.9617 - accuracy: 0.6491 - val_loss: 0.9617 - val_accuracy: 0.6422\n",
            "Epoch 76/150\n",
            "898/898 [==============================] - 13s 15ms/step - loss: 0.9548 - accuracy: 0.6509 - val_loss: 0.9692 - val_accuracy: 0.6415\n",
            "Epoch 77/150\n",
            "898/898 [==============================] - 13s 15ms/step - loss: 0.9614 - accuracy: 0.6487 - val_loss: 0.9663 - val_accuracy: 0.6381\n",
            "Epoch 78/150\n",
            "898/898 [==============================] - 13s 15ms/step - loss: 0.9577 - accuracy: 0.6523 - val_loss: 0.9688 - val_accuracy: 0.6402\n",
            "Epoch 79/150\n",
            "898/898 [==============================] - 13s 15ms/step - loss: 0.9570 - accuracy: 0.6516 - val_loss: 0.9467 - val_accuracy: 0.6512\n",
            "Epoch 80/150\n",
            "898/898 [==============================] - 13s 15ms/step - loss: 0.9499 - accuracy: 0.6520 - val_loss: 0.9540 - val_accuracy: 0.6446\n",
            "Epoch 81/150\n",
            "898/898 [==============================] - 13s 15ms/step - loss: 0.9458 - accuracy: 0.6522 - val_loss: 0.9851 - val_accuracy: 0.6354\n",
            "Epoch 82/150\n",
            "898/898 [==============================] - 13s 15ms/step - loss: 0.9471 - accuracy: 0.6537 - val_loss: 0.9491 - val_accuracy: 0.6530\n",
            "Epoch 83/150\n",
            "898/898 [==============================] - 13s 15ms/step - loss: 0.9472 - accuracy: 0.6535 - val_loss: 0.9588 - val_accuracy: 0.6470\n",
            "Epoch 84/150\n",
            "898/898 [==============================] - 13s 15ms/step - loss: 0.9401 - accuracy: 0.6536 - val_loss: 0.9585 - val_accuracy: 0.6492\n",
            "Epoch 85/150\n",
            "898/898 [==============================] - 13s 15ms/step - loss: 0.9357 - accuracy: 0.6562 - val_loss: 0.9496 - val_accuracy: 0.6538\n",
            "Epoch 86/150\n",
            "898/898 [==============================] - 13s 15ms/step - loss: 0.9412 - accuracy: 0.6558 - val_loss: 0.9591 - val_accuracy: 0.6486\n",
            "Epoch 87/150\n",
            "898/898 [==============================] - 13s 15ms/step - loss: 0.9352 - accuracy: 0.6580 - val_loss: 0.9461 - val_accuracy: 0.6570\n",
            "Epoch 88/150\n",
            "898/898 [==============================] - 13s 15ms/step - loss: 0.9338 - accuracy: 0.6597 - val_loss: 0.9516 - val_accuracy: 0.6534\n",
            "Epoch 89/150\n",
            "898/898 [==============================] - 13s 15ms/step - loss: 0.9318 - accuracy: 0.6607 - val_loss: 0.9637 - val_accuracy: 0.6514\n",
            "Epoch 90/150\n",
            "898/898 [==============================] - 13s 15ms/step - loss: 0.9378 - accuracy: 0.6578 - val_loss: 0.9522 - val_accuracy: 0.6527\n",
            "Epoch 91/150\n",
            "898/898 [==============================] - 13s 15ms/step - loss: 0.9296 - accuracy: 0.6617 - val_loss: 0.9628 - val_accuracy: 0.6464\n",
            "Epoch 92/150\n",
            "898/898 [==============================] - 13s 15ms/step - loss: 0.9271 - accuracy: 0.6590 - val_loss: 0.9754 - val_accuracy: 0.6456\n",
            "Epoch 93/150\n",
            "898/898 [==============================] - 13s 15ms/step - loss: 0.9345 - accuracy: 0.6580 - val_loss: 0.9618 - val_accuracy: 0.6475\n",
            "Epoch 94/150\n",
            "898/898 [==============================] - 13s 15ms/step - loss: 0.9233 - accuracy: 0.6630 - val_loss: 0.9684 - val_accuracy: 0.6473\n",
            "Epoch 95/150\n",
            "898/898 [==============================] - 13s 15ms/step - loss: 0.9277 - accuracy: 0.6630 - val_loss: 0.9779 - val_accuracy: 0.6474\n",
            "Epoch 96/150\n",
            "898/898 [==============================] - 13s 15ms/step - loss: 0.9198 - accuracy: 0.6637 - val_loss: 0.9576 - val_accuracy: 0.6452\n",
            "Epoch 97/150\n",
            "898/898 [==============================] - 13s 15ms/step - loss: 0.9216 - accuracy: 0.6629 - val_loss: 0.9467 - val_accuracy: 0.6466\n",
            "Epoch 98/150\n",
            "898/898 [==============================] - 13s 15ms/step - loss: 0.9149 - accuracy: 0.6654 - val_loss: 0.9430 - val_accuracy: 0.6513\n",
            "Epoch 99/150\n",
            "898/898 [==============================] - 13s 15ms/step - loss: 0.9122 - accuracy: 0.6686 - val_loss: 0.9311 - val_accuracy: 0.6538\n",
            "Epoch 100/150\n",
            "898/898 [==============================] - 13s 15ms/step - loss: 0.9168 - accuracy: 0.6689 - val_loss: 0.9584 - val_accuracy: 0.6489\n",
            "Epoch 101/150\n",
            "898/898 [==============================] - 13s 15ms/step - loss: 0.9078 - accuracy: 0.6678 - val_loss: 0.9535 - val_accuracy: 0.6480\n",
            "Epoch 102/150\n",
            "898/898 [==============================] - 13s 15ms/step - loss: 0.9066 - accuracy: 0.6677 - val_loss: 0.9389 - val_accuracy: 0.6555\n",
            "Epoch 103/150\n",
            "898/898 [==============================] - 13s 15ms/step - loss: 0.9064 - accuracy: 0.6684 - val_loss: 0.9420 - val_accuracy: 0.6551\n",
            "Epoch 104/150\n",
            "898/898 [==============================] - 13s 15ms/step - loss: 0.9089 - accuracy: 0.6672 - val_loss: 0.9548 - val_accuracy: 0.6510\n",
            "Epoch 105/150\n",
            "898/898 [==============================] - 13s 15ms/step - loss: 0.9030 - accuracy: 0.6725 - val_loss: 0.9465 - val_accuracy: 0.6578\n",
            "Epoch 106/150\n",
            "898/898 [==============================] - 14s 15ms/step - loss: 0.9114 - accuracy: 0.6660 - val_loss: 0.9456 - val_accuracy: 0.6535\n",
            "Epoch 107/150\n",
            "898/898 [==============================] - 13s 15ms/step - loss: 0.9021 - accuracy: 0.6717 - val_loss: 0.9398 - val_accuracy: 0.6580\n",
            "Epoch 108/150\n",
            "898/898 [==============================] - 14s 15ms/step - loss: 0.8989 - accuracy: 0.6708 - val_loss: 0.9397 - val_accuracy: 0.6555\n",
            "Epoch 109/150\n",
            "898/898 [==============================] - 13s 15ms/step - loss: 0.9046 - accuracy: 0.6693 - val_loss: 0.9466 - val_accuracy: 0.6580\n",
            "Epoch 110/150\n",
            "898/898 [==============================] - 13s 15ms/step - loss: 0.8990 - accuracy: 0.6750 - val_loss: 0.9510 - val_accuracy: 0.6585\n",
            "Epoch 111/150\n",
            "898/898 [==============================] - 13s 15ms/step - loss: 0.8965 - accuracy: 0.6757 - val_loss: 0.9485 - val_accuracy: 0.6594\n",
            "Epoch 112/150\n",
            "898/898 [==============================] - 13s 15ms/step - loss: 0.8977 - accuracy: 0.6740 - val_loss: 0.9729 - val_accuracy: 0.6517\n",
            "Epoch 113/150\n",
            "898/898 [==============================] - 13s 15ms/step - loss: 0.8960 - accuracy: 0.6747 - val_loss: 0.9944 - val_accuracy: 0.6386\n",
            "Epoch 114/150\n",
            "898/898 [==============================] - 14s 15ms/step - loss: 0.8940 - accuracy: 0.6739 - val_loss: 0.9238 - val_accuracy: 0.6594\n",
            "Epoch 115/150\n",
            "898/898 [==============================] - 14s 15ms/step - loss: 0.8888 - accuracy: 0.6770 - val_loss: 0.9427 - val_accuracy: 0.6598\n",
            "Epoch 116/150\n",
            "898/898 [==============================] - 14s 15ms/step - loss: 0.8932 - accuracy: 0.6753 - val_loss: 0.9510 - val_accuracy: 0.6549\n",
            "Epoch 117/150\n",
            "898/898 [==============================] - 14s 15ms/step - loss: 0.8857 - accuracy: 0.6768 - val_loss: 0.9459 - val_accuracy: 0.6538\n",
            "Epoch 118/150\n",
            "898/898 [==============================] - 14s 15ms/step - loss: 0.8908 - accuracy: 0.6743 - val_loss: 0.9422 - val_accuracy: 0.6576\n",
            "Epoch 119/150\n",
            "898/898 [==============================] - 14s 15ms/step - loss: 0.8870 - accuracy: 0.6772 - val_loss: 0.9555 - val_accuracy: 0.6555\n",
            "Epoch 120/150\n",
            "898/898 [==============================] - 14s 15ms/step - loss: 0.8832 - accuracy: 0.6760 - val_loss: 0.9594 - val_accuracy: 0.6525\n",
            "Epoch 121/150\n",
            "898/898 [==============================] - 14s 15ms/step - loss: 0.8889 - accuracy: 0.6759 - val_loss: 0.9464 - val_accuracy: 0.6565\n",
            "Epoch 122/150\n",
            "898/898 [==============================] - 14s 15ms/step - loss: 0.8838 - accuracy: 0.6812 - val_loss: 0.9364 - val_accuracy: 0.6599\n",
            "Epoch 123/150\n",
            "898/898 [==============================] - 14s 15ms/step - loss: 0.8800 - accuracy: 0.6801 - val_loss: 0.9375 - val_accuracy: 0.6598\n",
            "Epoch 124/150\n",
            "898/898 [==============================] - 14s 15ms/step - loss: 0.8761 - accuracy: 0.6810 - val_loss: 0.9336 - val_accuracy: 0.6615\n",
            "Epoch 125/150\n",
            "898/898 [==============================] - 14s 15ms/step - loss: 0.8725 - accuracy: 0.6837 - val_loss: 0.9510 - val_accuracy: 0.6567\n",
            "Epoch 126/150\n",
            "898/898 [==============================] - 14s 15ms/step - loss: 0.8723 - accuracy: 0.6840 - val_loss: 0.9581 - val_accuracy: 0.6519\n",
            "Epoch 127/150\n",
            "898/898 [==============================] - 14s 15ms/step - loss: 0.8740 - accuracy: 0.6823 - val_loss: 0.9556 - val_accuracy: 0.6552\n",
            "Epoch 128/150\n",
            "898/898 [==============================] - 14s 15ms/step - loss: 0.8815 - accuracy: 0.6775 - val_loss: 0.9537 - val_accuracy: 0.6556\n",
            "Epoch 129/150\n",
            "898/898 [==============================] - 14s 15ms/step - loss: 0.8720 - accuracy: 0.6831 - val_loss: 0.9543 - val_accuracy: 0.6587\n",
            "Epoch 130/150\n",
            "898/898 [==============================] - 14s 15ms/step - loss: 0.8723 - accuracy: 0.6816 - val_loss: 0.9447 - val_accuracy: 0.6588\n",
            "Epoch 131/150\n",
            "898/898 [==============================] - 13s 15ms/step - loss: 0.8691 - accuracy: 0.6844 - val_loss: 0.9440 - val_accuracy: 0.6610\n",
            "Epoch 132/150\n",
            "898/898 [==============================] - 13s 15ms/step - loss: 0.8703 - accuracy: 0.6834 - val_loss: 0.9382 - val_accuracy: 0.6594\n",
            "Epoch 133/150\n",
            "898/898 [==============================] - 13s 15ms/step - loss: 0.8658 - accuracy: 0.6839 - val_loss: 0.9593 - val_accuracy: 0.6506\n",
            "Epoch 134/150\n",
            "898/898 [==============================] - 13s 15ms/step - loss: 0.8654 - accuracy: 0.6848 - val_loss: 0.9455 - val_accuracy: 0.6585\n",
            "Epoch 135/150\n",
            "898/898 [==============================] - 14s 15ms/step - loss: 0.8630 - accuracy: 0.6846 - val_loss: 0.9479 - val_accuracy: 0.6567\n",
            "Epoch 136/150\n",
            "898/898 [==============================] - 13s 15ms/step - loss: 0.8678 - accuracy: 0.6837 - val_loss: 0.9494 - val_accuracy: 0.6576\n",
            "Epoch 137/150\n",
            "898/898 [==============================] - 13s 15ms/step - loss: 0.8658 - accuracy: 0.6878 - val_loss: 0.9590 - val_accuracy: 0.6587\n",
            "Epoch 138/150\n",
            "898/898 [==============================] - 13s 15ms/step - loss: 0.8667 - accuracy: 0.6852 - val_loss: 0.9475 - val_accuracy: 0.6623\n",
            "Epoch 139/150\n",
            "898/898 [==============================] - 13s 15ms/step - loss: 0.8601 - accuracy: 0.6856 - val_loss: 0.9481 - val_accuracy: 0.6571\n",
            "Epoch 140/150\n",
            "898/898 [==============================] - 13s 15ms/step - loss: 0.8538 - accuracy: 0.6888 - val_loss: 0.9665 - val_accuracy: 0.6484\n",
            "Epoch 141/150\n",
            "898/898 [==============================] - 13s 15ms/step - loss: 0.8594 - accuracy: 0.6862 - val_loss: 0.9528 - val_accuracy: 0.6609\n",
            "Epoch 142/150\n",
            "898/898 [==============================] - 13s 15ms/step - loss: 0.8541 - accuracy: 0.6892 - val_loss: 0.9376 - val_accuracy: 0.6658\n",
            "Epoch 143/150\n",
            "898/898 [==============================] - 13s 15ms/step - loss: 0.8562 - accuracy: 0.6869 - val_loss: 0.9541 - val_accuracy: 0.6630\n",
            "Epoch 144/150\n",
            "898/898 [==============================] - 13s 15ms/step - loss: 0.8495 - accuracy: 0.6934 - val_loss: 0.9491 - val_accuracy: 0.6626\n",
            "Epoch 145/150\n",
            "898/898 [==============================] - 13s 15ms/step - loss: 0.8487 - accuracy: 0.6921 - val_loss: 0.9577 - val_accuracy: 0.6597\n",
            "Epoch 146/150\n",
            "898/898 [==============================] - 13s 15ms/step - loss: 0.8488 - accuracy: 0.6916 - val_loss: 0.9454 - val_accuracy: 0.6656\n",
            "Epoch 147/150\n",
            "898/898 [==============================] - 13s 15ms/step - loss: 0.8490 - accuracy: 0.6906 - val_loss: 0.9599 - val_accuracy: 0.6581\n",
            "Epoch 148/150\n",
            "898/898 [==============================] - 13s 15ms/step - loss: 0.8557 - accuracy: 0.6883 - val_loss: 0.9472 - val_accuracy: 0.6588\n",
            "Epoch 149/150\n",
            "898/898 [==============================] - 13s 15ms/step - loss: 0.8449 - accuracy: 0.6939 - val_loss: 0.9691 - val_accuracy: 0.6576\n",
            "Epoch 150/150\n",
            "898/898 [==============================] - 13s 15ms/step - loss: 0.8419 - accuracy: 0.6949 - val_loss: 0.9519 - val_accuracy: 0.6666\n"
          ]
        }
      ],
      "source": [
        "epochs = 150\n",
        "history = model.fit(\n",
        "  train_ds,\n",
        "  validation_data=val_ds,\n",
        "  epochs=epochs\n",
        ")"
      ]
    },
    {
      "cell_type": "markdown",
      "metadata": {
        "id": "Lkdl8VsBbZOu"
      },
      "source": [
        "## Visualize training results\n",
        "\n",
        "After applying data augmentation and dropout, here is a visual of how our test and training data did:"
      ]
    },
    {
      "cell_type": "code",
      "execution_count": 26,
      "metadata": {
        "id": "dduoLfKsZVIA",
        "colab": {
          "base_uri": "https://localhost:8080/",
          "height": 498
        },
        "outputId": "6867c12e-709c-4938-8c5a-40c2697850d7"
      },
      "outputs": [
        {
          "output_type": "display_data",
          "data": {
            "text/plain": [
              "<Figure size 576x576 with 2 Axes>"
            ],
            "image/png": "[encoded data removed]"
          },
          "metadata": {
            "needs_background": "light"
          }
        }
      ],
      "source": [
        "acc = history.history['accuracy']\n",
        "val_acc = history.history['val_accuracy']\n",
        "\n",
        "loss = history.history['loss']\n",
        "val_loss = history.history['val_loss']\n",
        "\n",
        "epochs_range = range(epochs)\n",
        "\n",
        "plt.figure(figsize=(8, 8))\n",
        "plt.subplot(1, 2, 1)\n",
        "plt.plot(epochs_range, acc, label='Training Accuracy')\n",
        "plt.plot(epochs_range, val_acc, label='Validation Accuracy')\n",
        "plt.legend(loc='lower right')\n",
        "plt.title('Training and Validation Accuracy')\n",
        "\n",
        "plt.subplot(1, 2, 2)\n",
        "plt.plot(epochs_range, loss, label='Training Loss')\n",
        "plt.plot(epochs_range, val_loss, label='Validation Loss')\n",
        "plt.legend(loc='upper right')\n",
        "plt.title('Training and Validation Loss')\n",
        "plt.show()"
      ]
    },
    {
      "cell_type": "markdown",
      "source": [
        "# Another implementation\n",
        "\n",
        "The following is another implementation from Shurui Wang on Kaggle.com. The following is a link to the source code: https://www.kaggle.com/code/jadenwsr/emotion-detection-with-inceptionv3.\n",
        "\n",
        "Wang uses inceptionV3 to pre-train the data to recognize emotion in facial expression. This implementation did slightly better than the above implementation."
      ],
      "metadata": {
        "id": "PHF8Q-KG_rrU"
      }
    },
    {
      "cell_type": "markdown",
      "source": [
        "Following hyper parameters are specific to this implementation of an InceptioV3 CNN. "
      ],
      "metadata": {
        "id": "gRFIscZLFJiM"
      }
    },
    {
      "cell_type": "code",
      "source": [
        "batch_size = 64 #?\n",
        "img_height = 139\n",
        "img_width = 139\n",
        "num_classes = 7\n",
        "EARLY_STOPPING_CRITERIA=3\n",
        "EPOCHS = 39\n",
        "FINE_TUNING_EPOCHS = 20\n",
        "CLASS_LABELS  = ['Anger', 'Disgust', 'Fear', 'Happy', 'Neutral', 'Sadness', \"Surprise\"]"
      ],
      "metadata": {
        "id": "3sFiNnvhB1iu"
      },
      "execution_count": 27,
      "outputs": []
    },
    {
      "cell_type": "markdown",
      "source": [
        "# Data Loading and Preproccessing Data "
      ],
      "metadata": {
        "id": "vJMbTovDFqGs"
      }
    },
    {
      "cell_type": "code",
      "source": [
        "preprocess_fun = tf.keras.applications.inception_v3.preprocess_input\n",
        "\n",
        "train_datagen = ImageDataGenerator(horizontal_flip=True,\n",
        "                                   width_shift_range=0.1,\n",
        "                                   height_shift_range=0.05,\n",
        "                                   rescale = 1./255,\n",
        "                                   validation_split = 0.2,\n",
        "                                   preprocessing_function=preprocess_fun\n",
        "                                  )\n",
        "test_datagen = ImageDataGenerator(rescale = 1./255,\n",
        "                                  validation_split = 0.2,\n",
        "                                  preprocessing_function=preprocess_fun)\n",
        "\n",
        "train_generator = train_datagen.flow_from_directory(directory = data_dir_train,\n",
        "                                                    target_size = (img_height ,img_width),\n",
        "                                                    batch_size = batch_size,\n",
        "                                                    shuffle  = True , \n",
        "                                                    color_mode = \"rgb\",\n",
        "                                                    class_mode = \"categorical\",\n",
        "                                                    subset = \"training\",\n",
        "                                                    seed = 125\n",
        "                                                   )\n",
        "\n",
        "validation_generator = test_datagen.flow_from_directory(directory = data_dir_train,\n",
        "                                                         target_size = (img_height ,img_width),\n",
        "                                                         batch_size = batch_size,\n",
        "                                                         shuffle  = True , \n",
        "                                                         color_mode = \"rgb\",\n",
        "                                                         class_mode = \"categorical\",\n",
        "                                                         subset = \"validation\",\n",
        "                                                         seed = 125\n",
        "                                                        )\n",
        "\n",
        "test_generator = test_datagen.flow_from_directory(directory = data_dir_test,\n",
        "                                                   target_size = (img_height ,img_width),\n",
        "                                                    batch_size = batch_size,\n",
        "                                                    shuffle  = False , \n",
        "                                                    color_mode = \"rgb\",\n",
        "                                                    class_mode = \"categorical\",\n",
        "                                                    seed = 125\n",
        "                                                  )"
      ],
      "metadata": {
        "id": "uSIR6_zRCeNx",
        "colab": {
          "base_uri": "https://localhost:8080/"
        },
        "outputId": "9d7d35a2-29db-4439-d8a4-1e808b91aaac"
      },
      "execution_count": 28,
      "outputs": [
        {
          "output_type": "stream",
          "name": "stdout",
          "text": [
            "Found 22968 images belonging to 7 classes.\n",
            "Found 5741 images belonging to 7 classes.\n",
            "Found 7178 images belonging to 7 classes.\n"
          ]
        }
      ]
    },
    {
      "cell_type": "markdown",
      "source": [
        "# Splitting data into a training and validation dataset "
      ],
      "metadata": {
        "id": "j90W1lHNFxdZ"
      }
    },
    {
      "cell_type": "code",
      "source": [
        "train_ds = tf.keras.utils.image_dataset_from_directory(\n",
        "  data_dir_train,\n",
        "  image_size=(img_height, img_width),\n",
        "  batch_size=batch_size)"
      ],
      "metadata": {
        "id": "iKmBS5FsCiby",
        "colab": {
          "base_uri": "https://localhost:8080/"
        },
        "outputId": "d336e8f8-11f1-4308-db08-5c5224cfa531"
      },
      "execution_count": 29,
      "outputs": [
        {
          "output_type": "stream",
          "name": "stdout",
          "text": [
            "Found 28709 files belonging to 7 classes.\n"
          ]
        }
      ]
    },
    {
      "cell_type": "code",
      "source": [
        "val_ds = tf.keras.utils.image_dataset_from_directory(\n",
        "  data_dir_test,\n",
        "  image_size=(img_height, img_width),\n",
        "  batch_size=batch_size)"
      ],
      "metadata": {
        "id": "uWXbHUz9Cnqc",
        "colab": {
          "base_uri": "https://localhost:8080/"
        },
        "outputId": "a71df215-6e6e-447d-c567-ad7810d98ff7"
      },
      "execution_count": 30,
      "outputs": [
        {
          "output_type": "stream",
          "name": "stdout",
          "text": [
            "Found 7178 files belonging to 7 classes.\n"
          ]
        }
      ]
    },
    {
      "cell_type": "markdown",
      "source": [
        "# Configure the dataset for performance\n",
        "\n",
        "As mentioned earlier, the following two important methods are used when loading data so you can yield data from disk without having I/O blocking."
      ],
      "metadata": {
        "id": "F95nX3x0GDj5"
      }
    },
    {
      "cell_type": "code",
      "source": [
        "AUTOTUNE = tf.data.AUTOTUNE\n",
        "\n",
        "train_ds = train_ds.cache().shuffle(1000).prefetch(buffer_size=AUTOTUNE)\n",
        "val_ds = val_ds.cache().prefetch(buffer_size=AUTOTUNE)"
      ],
      "metadata": {
        "id": "yKCDjGcSC6jC"
      },
      "execution_count": 31,
      "outputs": []
    },
    {
      "cell_type": "markdown",
      "source": [
        "# Standardize the data\n",
        "\n",
        "Again, as mentioned earlier, we standarize the data to be in the [0,1] range by using `tf.keras.layers.Rescaling`:"
      ],
      "metadata": {
        "id": "oO66h8LaGetg"
      }
    },
    {
      "cell_type": "code",
      "source": [
        "normalization_layer = layers.Rescaling(1./255)"
      ],
      "metadata": {
        "id": "f7iEYHV1C8ls"
      },
      "execution_count": 32,
      "outputs": []
    },
    {
      "cell_type": "markdown",
      "source": [
        "Applying layer to the dataset by calling `Dataset.map`:"
      ],
      "metadata": {
        "id": "Br_jQp1HGual"
      }
    },
    {
      "cell_type": "code",
      "source": [
        "normalized_ds = train_ds.map(lambda x, y: (normalization_layer(x), y))\n",
        "image_batch, labels_batch = next(iter(normalized_ds))\n",
        "first_image = image_batch[0]\n",
        "# Notice the pixel values are now in `[0,1]`.\n",
        "print(np.min(first_image), np.max(first_image))"
      ],
      "metadata": {
        "id": "4eqRq0-NDALi",
        "colab": {
          "base_uri": "https://localhost:8080/"
        },
        "outputId": "63e01b74-e353-487c-c331-6dd64a75145c"
      },
      "execution_count": 33,
      "outputs": [
        {
          "output_type": "stream",
          "name": "stdout",
          "text": [
            "0.0680773 1.0\n"
          ]
        }
      ]
    },
    {
      "cell_type": "markdown",
      "source": [
        "# InceptionV3 Transfer Learning"
      ],
      "metadata": {
        "id": "Ma4E5WJgG_Zi"
      }
    },
    {
      "cell_type": "code",
      "source": [
        "def feature_extractor(inputs):\n",
        "    feature_extractor = tf.keras.applications.InceptionV3(input_shape=(img_height,img_width, 3),\n",
        "                                               include_top=False,\n",
        "                                               weights=\"imagenet\")(inputs)\n",
        "    \n",
        "    return feature_extractor\n",
        "\n",
        "def classifier(inputs):\n",
        "    x = tf.keras.layers.GlobalAveragePooling2D()(inputs)\n",
        "    x = tf.keras.layers.Dense(1024, activation=\"relu\")(x)\n",
        "    x = tf.keras.layers.Dense(num_classes, activation=\"softmax\", name=\"classification\")(x)\n",
        "    \n",
        "    return x\n",
        "\n",
        "def final_model(inputs):\n",
        "    densenet_feature_extractor = feature_extractor(inputs)\n",
        "    classification_output = classifier(densenet_feature_extractor)\n",
        "    \n",
        "    return classification_output\n",
        "\n",
        "def define_compile_model():\n",
        "    \n",
        "    inputs = tf.keras.layers.Input(shape=(img_height ,img_width,3))\n",
        "    classification_output = final_model(inputs) \n",
        "    model = tf.keras.Model(inputs=inputs, outputs = classification_output)\n",
        "     \n",
        "    model.compile(optimizer=tf.keras.optimizers.SGD(0.1), \n",
        "                loss='categorical_crossentropy',\n",
        "                metrics = ['accuracy'])\n",
        "  \n",
        "    return model"
      ],
      "metadata": {
        "id": "Pgcad3jHDEbO"
      },
      "execution_count": 34,
      "outputs": []
    },
    {
      "cell_type": "code",
      "source": [
        "model = define_compile_model()\n",
        "clear_output()\n",
        "\n",
        "# Feezing the feature extraction layers\n",
        "model.layers[1].trainable = False\n",
        "\n",
        "model.summary()"
      ],
      "metadata": {
        "id": "PnQJvTN9DHfY",
        "colab": {
          "base_uri": "https://localhost:8080/"
        },
        "outputId": "d0614ebd-5285-4d62-f321-3d712258adba"
      },
      "execution_count": 35,
      "outputs": [
        {
          "output_type": "stream",
          "name": "stdout",
          "text": [
            "Model: \"model\"\n",
            "_________________________________________________________________\n",
            " Layer (type)                Output Shape              Param #   \n",
            "=================================================================\n",
            " input_1 (InputLayer)        [(None, 139, 139, 3)]     0         \n",
            "                                                                 \n",
            " inception_v3 (Functional)   (None, 3, 3, 2048)        21802784  \n",
            "                                                                 \n",
            " global_average_pooling2d (G  (None, 2048)             0         \n",
            " lobalAveragePooling2D)                                          \n",
            "                                                                 \n",
            " dense_6 (Dense)             (None, 1024)              2098176   \n",
            "                                                                 \n",
            " classification (Dense)      (None, 7)                 7175      \n",
            "                                                                 \n",
            "=================================================================\n",
            "Total params: 23,908,135\n",
            "Trainable params: 2,105,351\n",
            "Non-trainable params: 21,802,784\n",
            "_________________________________________________________________\n"
          ]
        }
      ]
    },
    {
      "cell_type": "markdown",
      "source": [
        "# Training and Fine-Tuning\n",
        "\n",
        "Training model with freezed layers of InceptionV3."
      ],
      "metadata": {
        "id": "b-dj12u0He5K"
      }
    },
    {
      "cell_type": "code",
      "source": [
        "earlyStoppingCallback = tf.keras.callbacks.EarlyStopping(monitor='val_loss', \n",
        "                                                         patience=EARLY_STOPPING_CRITERIA,\n",
        "                                                         verbose= 1 ,\n",
        "                                                         restore_best_weights=True\n",
        "                                                        )\n",
        "history = model.fit(x = train_generator,\n",
        "                    epochs = EPOCHS ,\n",
        "                    validation_data = validation_generator , \n",
        "                    callbacks= [earlyStoppingCallback])\n",
        "\n",
        "history = pd.DataFrame(history.history)"
      ],
      "metadata": {
        "id": "v7L0W2M1DKbU",
        "colab": {
          "base_uri": "https://localhost:8080/"
        },
        "outputId": "c6adf752-3df8-4201-914b-eba8254b7611"
      },
      "execution_count": 36,
      "outputs": [
        {
          "output_type": "stream",
          "name": "stdout",
          "text": [
            "Epoch 1/39\n",
            "359/359 [==============================] - 142s 370ms/step - loss: 1.3331 - accuracy: 0.4944 - val_loss: 1.7526 - val_accuracy: 0.3174\n",
            "Epoch 2/39\n",
            "359/359 [==============================] - 123s 343ms/step - loss: 1.0312 - accuracy: 0.6130 - val_loss: 1.2427 - val_accuracy: 0.5424\n",
            "Epoch 3/39\n",
            "359/359 [==============================] - 123s 343ms/step - loss: 0.9108 - accuracy: 0.6564 - val_loss: 1.4273 - val_accuracy: 0.4652\n",
            "Epoch 4/39\n",
            "359/359 [==============================] - 123s 343ms/step - loss: 0.8272 - accuracy: 0.6956 - val_loss: 1.2369 - val_accuracy: 0.5529\n",
            "Epoch 5/39\n",
            "359/359 [==============================] - 123s 343ms/step - loss: 0.7576 - accuracy: 0.7196 - val_loss: 1.8077 - val_accuracy: 0.2496\n",
            "Epoch 6/39\n",
            "359/359 [==============================] - 123s 343ms/step - loss: 0.7023 - accuracy: 0.7375 - val_loss: 1.2740 - val_accuracy: 0.5377\n",
            "Epoch 7/39\n",
            "359/359 [==============================] - ETA: 0s - loss: 0.6372 - accuracy: 0.7632Restoring model weights from the end of the best epoch: 4.\n",
            "359/359 [==============================] - 124s 344ms/step - loss: 0.6372 - accuracy: 0.7632 - val_loss: 1.3008 - val_accuracy: 0.5623\n",
            "Epoch 7: early stopping\n"
          ]
        }
      ]
    },
    {
      "cell_type": "markdown",
      "source": [
        "# Fine Tuning"
      ],
      "metadata": {
        "id": "EeqBs6pxHn7r"
      }
    },
    {
      "cell_type": "code",
      "source": [
        "# Un-Freezing the feature extraction layers for fine tuning \n",
        "model.layers[1].trainable = True\n",
        "\n",
        "model.compile(optimizer=tf.keras.optimizers.SGD(0.001), #lower learning rate\n",
        "                loss='categorical_crossentropy',\n",
        "                metrics = ['accuracy'])\n",
        "\n",
        "history_ = model.fit(x = train_generator,epochs = FINE_TUNING_EPOCHS ,validation_data = validation_generator)\n",
        "history = history.append(pd.DataFrame(history_.history) , ignore_index=True)"
      ],
      "metadata": {
        "id": "wA42ChRsDMwm",
        "colab": {
          "base_uri": "https://localhost:8080/"
        },
        "outputId": "ac948255-0b87-473c-c4e7-a7a97c1b6b86"
      },
      "execution_count": 37,
      "outputs": [
        {
          "output_type": "stream",
          "name": "stdout",
          "text": [
            "Epoch 1/20\n",
            "359/359 [==============================] - 129s 345ms/step - loss: 0.7104 - accuracy: 0.7399 - val_loss: 0.9081 - val_accuracy: 0.6685\n",
            "Epoch 2/20\n",
            "359/359 [==============================] - 123s 344ms/step - loss: 0.6757 - accuracy: 0.7516 - val_loss: 0.9010 - val_accuracy: 0.6697\n",
            "Epoch 3/20\n",
            "359/359 [==============================] - 123s 343ms/step - loss: 0.6586 - accuracy: 0.7586 - val_loss: 0.8961 - val_accuracy: 0.6748\n",
            "Epoch 4/20\n",
            "359/359 [==============================] - 123s 342ms/step - loss: 0.6368 - accuracy: 0.7669 - val_loss: 0.8953 - val_accuracy: 0.6774\n",
            "Epoch 5/20\n",
            "359/359 [==============================] - 123s 343ms/step - loss: 0.6294 - accuracy: 0.7676 - val_loss: 0.8953 - val_accuracy: 0.6814\n",
            "Epoch 6/20\n",
            "359/359 [==============================] - 124s 345ms/step - loss: 0.6207 - accuracy: 0.7705 - val_loss: 0.8964 - val_accuracy: 0.6795\n",
            "Epoch 7/20\n",
            "359/359 [==============================] - 124s 344ms/step - loss: 0.6100 - accuracy: 0.7779 - val_loss: 0.8954 - val_accuracy: 0.6830\n",
            "Epoch 8/20\n",
            "359/359 [==============================] - 124s 344ms/step - loss: 0.5990 - accuracy: 0.7823 - val_loss: 0.8964 - val_accuracy: 0.6854\n",
            "Epoch 9/20\n",
            "359/359 [==============================] - 123s 342ms/step - loss: 0.5878 - accuracy: 0.7850 - val_loss: 0.8989 - val_accuracy: 0.6849\n",
            "Epoch 10/20\n",
            "359/359 [==============================] - 123s 343ms/step - loss: 0.5818 - accuracy: 0.7861 - val_loss: 0.9018 - val_accuracy: 0.6858\n",
            "Epoch 11/20\n",
            "359/359 [==============================] - 123s 343ms/step - loss: 0.5722 - accuracy: 0.7888 - val_loss: 0.9027 - val_accuracy: 0.6859\n",
            "Epoch 12/20\n",
            "359/359 [==============================] - 123s 343ms/step - loss: 0.5733 - accuracy: 0.7899 - val_loss: 0.9043 - val_accuracy: 0.6865\n",
            "Epoch 13/20\n",
            "359/359 [==============================] - 124s 344ms/step - loss: 0.5650 - accuracy: 0.7935 - val_loss: 0.9051 - val_accuracy: 0.6870\n",
            "Epoch 14/20\n",
            "359/359 [==============================] - 123s 343ms/step - loss: 0.5579 - accuracy: 0.7964 - val_loss: 0.9072 - val_accuracy: 0.6851\n",
            "Epoch 15/20\n",
            "359/359 [==============================] - 123s 343ms/step - loss: 0.5490 - accuracy: 0.7989 - val_loss: 0.9090 - val_accuracy: 0.6858\n",
            "Epoch 16/20\n",
            "359/359 [==============================] - 123s 343ms/step - loss: 0.5390 - accuracy: 0.8009 - val_loss: 0.9120 - val_accuracy: 0.6852\n",
            "Epoch 17/20\n",
            "359/359 [==============================] - 124s 345ms/step - loss: 0.5455 - accuracy: 0.8009 - val_loss: 0.9119 - val_accuracy: 0.6865\n",
            "Epoch 18/20\n",
            "359/359 [==============================] - 123s 344ms/step - loss: 0.5325 - accuracy: 0.8048 - val_loss: 0.9180 - val_accuracy: 0.6840\n",
            "Epoch 19/20\n",
            "359/359 [==============================] - 124s 344ms/step - loss: 0.5241 - accuracy: 0.8069 - val_loss: 0.9196 - val_accuracy: 0.6870\n",
            "Epoch 20/20\n",
            "359/359 [==============================] - 124s 344ms/step - loss: 0.5210 - accuracy: 0.8099 - val_loss: 0.9197 - val_accuracy: 0.6875\n"
          ]
        }
      ]
    },
    {
      "cell_type": "markdown",
      "source": [
        "# Visualizing results"
      ],
      "metadata": {
        "id": "40zTVxBAHshR"
      }
    },
    {
      "cell_type": "code",
      "source": [
        "plt.plot(history_.history['accuracy'], label='Accuracy')\n",
        "plt.plot(history_.history['val_accuracy'], label='Validation Accuracy')\n",
        "plt.title('CNN Metrices (Accuracy)')\n",
        "plt.ylabel('% value')\n",
        "plt.xlabel('Epoch')\n",
        "plt.legend(loc=\"upper left\")\n",
        "plt.show()"
      ],
      "metadata": {
        "id": "adjbgKAbDVSg",
        "colab": {
          "base_uri": "https://localhost:8080/",
          "height": 294
        },
        "outputId": "d8491004-e2f2-4dbc-e38e-35f97be5866f"
      },
      "execution_count": 42,
      "outputs": [
        {
          "output_type": "display_data",
          "data": {
            "text/plain": [
              "<Figure size 432x288 with 1 Axes>"
            ],
            "image/png": "[encoded data removed]"
          },
          "metadata": {
            "needs_background": "light"
          }
        }
      ]
    },
    {
      "cell_type": "code",
      "source": [
        "plt.plot(history_.history['loss'], label='Loss')\n",
        "plt.plot(history_.history['val_loss'], label='Validation loss')\n",
        "plt.title('CNN Metrices(Loss)')\n",
        "plt.ylabel('% value')\n",
        "plt.xlabel('Epoch')\n",
        "plt.legend(loc=\"upper left\")\n",
        "plt.show()"
      ],
      "metadata": {
        "id": "tdf7x89-DbEt",
        "colab": {
          "base_uri": "https://localhost:8080/",
          "height": 294
        },
        "outputId": "b3801499-aa51-41bc-c4c1-75b279cf0643"
      },
      "execution_count": 41,
      "outputs": [
        {
          "output_type": "display_data",
          "data": {
            "text/plain": [
              "<Figure size 432x288 with 1 Axes>"
            ],
            "image/png": "[encoded data removed]"
          },
          "metadata": {
            "needs_background": "light"
          }
        }
      ]
    },
    {
      "cell_type": "markdown",
      "metadata": {
        "id": "dtv5VbaVb-3W"
      },
      "source": [
        "## Predict on new data"
      ]
    },
    {
      "cell_type": "markdown",
      "metadata": {
        "id": "10buWpJbcCQz"
      },
      "source": [
        "Finally, let's use our model to classify an image that wasn't included in the training or validation sets."
      ]
    },
    {
      "cell_type": "markdown",
      "metadata": {
        "id": "NKgMZ4bDcHf7"
      },
      "source": [
        "Note: Data augmentation and dropout layers are inactive at inference time."
      ]
    },
    {
      "cell_type": "code",
      "execution_count": 43,
      "metadata": {
        "id": "dC40sRITBSsQ",
        "colab": {
          "base_uri": "https://localhost:8080/"
        },
        "outputId": "d363874f-057a-4ebb-9885-fe43ba1387dd"
      },
      "outputs": [
        {
          "output_type": "stream",
          "name": "stdout",
          "text": [
            "Downloading data from https://storage.googleapis.com/download.tensorflow.org/example_images/grace_hopper.jpg\n",
            "65536/61306 [================================] - 0s 0us/step\n",
            "73728/61306 [====================================] - 0s 0us/step\n",
            "This image most likely belongs to neutral with a 31.18 percent confidence.\n"
          ]
        }
      ],
      "source": [
        "neutral_url = \"https://storage.googleapis.com/download.tensorflow.org/example_images/grace_hopper.jpg\"\n",
        "neutral_path = tf.keras.utils.get_file('grace_hopper', origin=neutral_url)\n",
        "\n",
        "img = tf.keras.utils.load_img(\n",
        "    neutral_path, target_size=(img_height, img_width)\n",
        ")\n",
        "img_array = tf.keras.utils.img_to_array(img)\n",
        "img_array = tf.expand_dims(img_array, 0) # Create a batch\n",
        "\n",
        "predictions = model.predict(img_array)\n",
        "score = tf.nn.softmax(predictions[0])\n",
        "\n",
        "print(\n",
        "    \"This image most likely belongs to {} with a {:.2f} percent confidence.\"\n",
        "    .format(class_names[np.argmax(score)], 100 * np.max(score))\n",
        ")"
      ]
    }
  ],
  "metadata": {
    "accelerator": "GPU",
    "colab": {
      "collapsed_sections": [],
      "machine_shape": "hm",
      "name": "Emotion Classification Mini Project.ipynb",
      "provenance": []
    },
    "kernelspec": {
      "display_name": "Python 3",
      "name": "python3"
    }
  },
  "nbformat": 4,
  "nbformat_minor": 0
}