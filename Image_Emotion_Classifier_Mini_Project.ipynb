{
  "cells": [
    {
      "cell_type": "markdown",
      "metadata": {
        "id": "FE7KNzPPVrVV"
      },
      "source": [
        "# Image Emotion Classifier Mini Project\n",
        "By Ashley Chacon"
      ]
    },
    {
      "cell_type": "markdown",
      "metadata": {
        "id": "gN7G9GFmVrVY"
      },
      "source": [
        "This Google Collab is inspired by the [CNN Image TensorFlow tutorial](https://www.tensorflow.org/tutorials/images/classification) It creates an image classifier using a `tf.keras.Sequential` model, and loads data using `tf.keras.utils.image_dataset_from_directory`. The dataset used for training and testing is the [FER-2013 dataset](https://www.kaggle.com/datasets/ananthu017/emotion-detection-fer) found on [Kaggle.com](https://kaggle.com).\n",
        "\n"
      ]
    },
    {
      "cell_type": "markdown",
      "metadata": {
        "id": "zF9uvbXNVrVY"
      },
      "source": [
        "## Import TensorFlow and other libraries"
      ]
    },
    {
      "cell_type": "code",
      "execution_count": 4,
      "metadata": {
        "id": "L1WtoaOHVrVh"
      },
      "outputs": [],
      "source": [
        "import matplotlib.pyplot as plt\n",
        "import numpy as np\n",
        "import os\n",
        "import PIL\n",
        "import tensorflow as tf\n",
        "\n",
        "from tensorflow.keras.layers import Activation, Conv2D, MaxPooling2D, Dense, Flatten, Dropout, BatchNormalization\n",
        "\n",
        "\n",
        "from tensorflow import keras\n",
        "from tensorflow.keras import layers\n",
        "from tensorflow.keras.models import Sequential"
      ]
    },
    {
      "cell_type": "markdown",
      "metadata": {
        "id": "UZZI6lNkVrVm"
      },
      "source": [
        "## Download and explore the dataset"
      ]
    },
    {
      "cell_type": "markdown",
      "metadata": {
        "id": "o6k6ndZNuoND"
      },
      "source": [
        "Download the emotion detection dataset from Kaggle.com: https://www.kaggle.com/datasets/ananthu017/emotion-detection-fer\n",
        "\n",
        "After download, you will have to upload the dataset to this Google Collab. Select the files tab on the lefthand tool bar, and upload manually from your computer downloads."
      ]
    },
    {
      "cell_type": "markdown",
      "metadata": {
        "id": "VpmywIlsVrVx"
      },
      "source": [
        "After downloading, you should now have a copy of the dataset available. There are 28709 training images and 7178 testing images:"
      ]
    },
    {
      "cell_type": "code",
      "execution_count": 5,
      "metadata": {
        "id": "SbtTDYhOHZb6"
      },
      "outputs": [],
      "source": [
        "import pathlib\n",
        "import zipfile\n",
        "\n",
        "\n",
        "with zipfile.ZipFile('images-classification.zip', 'r') as zip_ref:\n",
        "    zip_ref.extractall()\n"
      ]
    },
    {
      "cell_type": "code",
      "execution_count": 6,
      "metadata": {
        "id": "m5feMO0rQcam",
        "colab": {
          "base_uri": "https://localhost:8080/"
        },
        "outputId": "0f3d4b4a-b1d7-4c2e-8c5b-ac34796e2cd0"
      },
      "outputs": [
        {
          "output_type": "stream",
          "name": "stdout",
          "text": [
            "Number of training images: 28709\n",
            "Number of testing images: 7178\n"
          ]
        }
      ],
      "source": [
        "data_dir_train = \"./train\"\n",
        "data_dir_test = \"./test\"\n",
        "\n",
        "data_dir_train = pathlib.Path(data_dir_train)\n",
        "data_dir_test = pathlib.Path(data_dir_test)\n",
        "\n",
        "\n",
        "train_image_count = len(list(data_dir_train.glob('*/*.png')))\n",
        "print(\"Number of training images:\", train_image_count)\n",
        "\n",
        "test_image_count = len(list(data_dir_test.glob('*/*.png')))\n",
        "print(\"Number of testing images:\", test_image_count)\n"
      ]
    },
    {
      "cell_type": "markdown",
      "metadata": {
        "id": "PVmwkOSdHZ5A"
      },
      "source": [
        "To test that the data has been read, display images from the dataset folder:"
      ]
    },
    {
      "cell_type": "code",
      "execution_count": 7,
      "metadata": {
        "id": "N1loMlbYHeiJ",
        "colab": {
          "base_uri": "https://localhost:8080/",
          "height": 113
        },
        "outputId": "7ceb3f80-e4a8-4c01-de31-64bc1d70c7ab"
      },
      "outputs": [
        {
          "output_type": "display_data",
          "data": {
            "text/plain": [
              "<PIL.PngImagePlugin.PngImageFile image mode=L size=48x48 at 0x7F5B099E8310>"
            ],
            "image/png": "[encoded data removed]"
          },
          "metadata": {}
        },
        {
          "output_type": "display_data",
          "data": {
            "text/plain": [
              "<PIL.PngImagePlugin.PngImageFile image mode=L size=48x48 at 0x7F5B08C65590>"
            ],
            "image/png": "[encoded data removed]"
          },
          "metadata": {}
        }
      ],
      "source": [
        "happy_images = list(data_dir_train.glob('happy/*'))\n",
        "display(PIL.Image.open(str(happy_images[0])))\n",
        "\n",
        "surprised_images = list(data_dir_train.glob('surprised/*'))\n",
        "display(PIL.Image.open(str(surprised_images[0])))"
      ]
    },
    {
      "cell_type": "code",
      "execution_count": 8,
      "metadata": {
        "id": "RQbZBOTLHiUP",
        "colab": {
          "base_uri": "https://localhost:8080/",
          "height": 65
        },
        "outputId": "6d163507-855f-45eb-87a0-9d5b0c5bad65"
      },
      "outputs": [
        {
          "output_type": "display_data",
          "data": {
            "text/plain": [
              "<PIL.PngImagePlugin.PngImageFile image mode=L size=48x48 at 0x7F5B08C58B50>"
            ],
            "image/png": "[encoded data removed]"
          },
          "metadata": {}
        }
      ],
      "source": [
        "display(PIL.Image.open(str(happy_images[73])))"
      ]
    },
    {
      "cell_type": "markdown",
      "metadata": {
        "id": "gIjgz7_JIo_m"
      },
      "source": [
        "# Load data using a Keras utility\n",
        "\n",
        "Let's load these images off disk using the helpful `tf.keras.utils.image_dataset_from_directory` utility. This will take you from a directory of images on disk to a `tf.data.Dataset` in just a couple lines of code."
      ]
    },
    {
      "cell_type": "markdown",
      "metadata": {
        "id": "xyDNn9MbIzfT"
      },
      "source": [
        "## Create a dataset"
      ]
    },
    {
      "cell_type": "markdown",
      "metadata": {
        "id": "anqiK_AGI086"
      },
      "source": [
        "Define some parameters for the loader:"
      ]
    },
    {
      "cell_type": "code",
      "execution_count": 9,
      "metadata": {
        "id": "H74l2DoDI2XD"
      },
      "outputs": [],
      "source": [
        "batch_size = 32\n",
        "img_height = 48\n",
        "img_width = 48"
      ]
    },
    {
      "cell_type": "markdown",
      "metadata": {
        "id": "pFBhRrrEI49z"
      },
      "source": [
        "Split your testing and training data to their designated space. "
      ]
    },
    {
      "cell_type": "code",
      "execution_count": 10,
      "metadata": {
        "id": "fIR0kRZiI_AT",
        "colab": {
          "base_uri": "https://localhost:8080/"
        },
        "outputId": "a9fc4d62-5e04-4465-95db-36a2916317fc"
      },
      "outputs": [
        {
          "output_type": "stream",
          "name": "stdout",
          "text": [
            "Found 28709 files belonging to 7 classes.\n"
          ]
        }
      ],
      "source": [
        "train_ds = tf.keras.utils.image_dataset_from_directory(\n",
        "  data_dir_train,\n",
        "  image_size=(img_height, img_width),\n",
        "  batch_size=batch_size)"
      ]
    },
    {
      "cell_type": "code",
      "execution_count": 11,
      "metadata": {
        "id": "iscU3UoVJBXj",
        "colab": {
          "base_uri": "https://localhost:8080/"
        },
        "outputId": "2502a270-7ca9-4e95-cd03-c8053c1eab26"
      },
      "outputs": [
        {
          "output_type": "stream",
          "name": "stdout",
          "text": [
            "Found 7178 files belonging to 7 classes.\n"
          ]
        }
      ],
      "source": [
        "val_ds = tf.keras.utils.image_dataset_from_directory(\n",
        "  data_dir_test,\n",
        "  image_size=(img_height, img_width),\n",
        "  batch_size=batch_size)"
      ]
    },
    {
      "cell_type": "markdown",
      "metadata": {
        "id": "WLQULyAvJC3X"
      },
      "source": [
        "You can find the class names in the `class_names` attribute on these datasets. These correspond to the directory names in alphabetical order."
      ]
    },
    {
      "cell_type": "code",
      "execution_count": 12,
      "metadata": {
        "id": "ZHAxkHX5JD3k",
        "colab": {
          "base_uri": "https://localhost:8080/"
        },
        "outputId": "ba60c10b-9b8d-499b-eafc-4f12347434e1"
      },
      "outputs": [
        {
          "output_type": "stream",
          "name": "stdout",
          "text": [
            "['angry', 'disgusted', 'fearful', 'happy', 'neutral', 'sad', 'surprised']\n"
          ]
        }
      ],
      "source": [
        "class_names = train_ds.class_names\n",
        "print(class_names)"
      ]
    },
    {
      "cell_type": "markdown",
      "metadata": {
        "id": "_uoVvxSLJW9m"
      },
      "source": [
        "## Visualize the data\n",
        "\n",
        "Here are the first nine images from the training dataset:"
      ]
    },
    {
      "cell_type": "code",
      "execution_count": 13,
      "metadata": {
        "id": "wBmEA9c0JYes",
        "colab": {
          "base_uri": "https://localhost:8080/",
          "height": 591
        },
        "outputId": "7ed055ef-e24a-4539-df59-055599059f34"
      },
      "outputs": [
        {
          "output_type": "display_data",
          "data": {
            "text/plain": [
              "<Figure size 720x720 with 9 Axes>"
            ],
            "image/png": "[encoded data removed]"
          },
          "metadata": {
            "needs_background": "light"
          }
        }
      ],
      "source": [
        "import matplotlib.pyplot as plt\n",
        "\n",
        "plt.figure(figsize=(10, 10))\n",
        "for images, labels in train_ds.take(1):\n",
        "  for i in range(9):\n",
        "    ax = plt.subplot(3, 3, i + 1)\n",
        "    plt.imshow(images[i].numpy().astype(\"uint8\"))\n",
        "    plt.title(class_names[labels[i]])\n",
        "    plt.axis(\"off\")"
      ]
    },
    {
      "cell_type": "code",
      "execution_count": 14,
      "metadata": {
        "id": "2-MfMoenJi8s",
        "colab": {
          "base_uri": "https://localhost:8080/"
        },
        "outputId": "28317b31-919b-402c-b72a-b4e191256b76"
      },
      "outputs": [
        {
          "output_type": "stream",
          "name": "stdout",
          "text": [
            "(32, 48, 48, 3)\n",
            "(32,)\n"
          ]
        }
      ],
      "source": [
        "for image_batch, labels_batch in train_ds:\n",
        "  print(image_batch.shape)\n",
        "  print(labels_batch.shape)\n",
        "  break"
      ]
    },
    {
      "cell_type": "markdown",
      "metadata": {
        "id": "Wj4FrKxxJkoW"
      },
      "source": [
        "The `image_batch` is a tensor of the shape `(32, 48, 48, 3)`. This is a batch of 32 images of shape `48x48x3` (the last dimension refers to color channels RGB). The `label_batch` is a tensor of the shape `(32,)`, these are corresponding labels to the 32 images.\n"
      ]
    },
    {
      "cell_type": "markdown",
      "metadata": {
        "id": "4Dr0at41KcAU"
      },
      "source": [
        "## Configure the dataset for performance\n",
        "These are two important methods you should use when loading data so you can yield data from disk without having I/O become blocking:\n",
        "\n",
        "- `Dataset.cache` keeps the images in memory after they're loaded off disk during the first epoch. This will ensure the dataset does not become a bottleneck while training your model. If your dataset is too large to fit into memory, you can also use this method to create a performant on-disk cache.\n",
        "- `Dataset.prefetch` overlaps data preprocessing and model execution while training."
      ]
    },
    {
      "cell_type": "code",
      "execution_count": 15,
      "metadata": {
        "id": "nOjJSm7DKoZA"
      },
      "outputs": [],
      "source": [
        "AUTOTUNE = tf.data.AUTOTUNE\n",
        "\n",
        "train_ds = train_ds.cache().shuffle(1000).prefetch(buffer_size=AUTOTUNE)\n",
        "val_ds = val_ds.cache().prefetch(buffer_size=AUTOTUNE)"
      ]
    },
    {
      "cell_type": "markdown",
      "metadata": {
        "id": "8GUnmPF4JvEf"
      },
      "source": [
        "## Standardize the data"
      ]
    },
    {
      "cell_type": "markdown",
      "metadata": {
        "id": "e56VXHMWJxYT"
      },
      "source": [
        "The RGB channel values are in the `[0, 255]` range. This is not ideal for a neural network; in general you should seek to make your input values small.\n",
        "\n",
        "Here, you will standardize values to be in the `[0, 1]` range by using `tf.keras.layers.Rescaling`:"
      ]
    },
    {
      "cell_type": "code",
      "execution_count": 16,
      "metadata": {
        "id": "PEYxo2CTJvY9"
      },
      "outputs": [],
      "source": [
        "normalization_layer = layers.Rescaling(1./255)"
      ]
    },
    {
      "cell_type": "markdown",
      "metadata": {
        "id": "Bl4RmanbJ4g0"
      },
      "source": [
        "Applying layer to the dataset by calling `Dataset.map`:"
      ]
    },
    {
      "cell_type": "code",
      "execution_count": 17,
      "metadata": {
        "id": "X9o9ESaJJ502",
        "colab": {
          "base_uri": "https://localhost:8080/"
        },
        "outputId": "a463e00c-6176-4eab-bda4-44565c623336"
      },
      "outputs": [
        {
          "output_type": "stream",
          "name": "stdout",
          "text": [
            "0.011764707 0.9568628\n"
          ]
        }
      ],
      "source": [
        "normalized_ds = train_ds.map(lambda x, y: (normalization_layer(x), y))\n",
        "image_batch, labels_batch = next(iter(normalized_ds))\n",
        "first_image = image_batch[0]\n",
        "# Notice the pixel values are now in `[0,1]`.\n",
        "print(np.min(first_image), np.max(first_image)) "
      ]
    },
    {
      "cell_type": "markdown",
      "metadata": {
        "id": "wJRJ9R_I4lQw"
      },
      "source": [
        "# Implemented CNN\n",
        "Implemented CNN is credited [SONYD4D's notebook](https://www.kaggle.com/code/sonyd4d/cnn-for-emotion-detection) from Kaggle.com\n",
        "\n"
      ]
    },
    {
      "cell_type": "code",
      "execution_count": 18,
      "metadata": {
        "id": "ItfpongE4wnJ",
        "colab": {
          "base_uri": "https://localhost:8080/"
        },
        "outputId": "3434d429-e8d5-418c-a261-358ce81d4cd3"
      },
      "outputs": [
        {
          "output_type": "stream",
          "name": "stdout",
          "text": [
            "Model: \"sequential\"\n",
            "_________________________________________________________________\n",
            " Layer (type)                Output Shape              Param #   \n",
            "=================================================================\n",
            " conv2d (Conv2D)             (None, 48, 48, 32)        896       \n",
            "                                                                 \n",
            " activation (Activation)     (None, 48, 48, 32)        0         \n",
            "                                                                 \n",
            " batch_normalization (BatchN  (None, 48, 48, 32)       128       \n",
            " ormalization)                                                   \n",
            "                                                                 \n",
            " conv2d_1 (Conv2D)           (None, 48, 48, 32)        9248      \n",
            "                                                                 \n",
            " activation_1 (Activation)   (None, 48, 48, 32)        0         \n",
            "                                                                 \n",
            " batch_normalization_1 (Batc  (None, 48, 48, 32)       128       \n",
            " hNormalization)                                                 \n",
            "                                                                 \n",
            " max_pooling2d (MaxPooling2D  (None, 24, 24, 32)       0         \n",
            " )                                                               \n",
            "                                                                 \n",
            " dropout (Dropout)           (None, 24, 24, 32)        0         \n",
            "                                                                 \n",
            " conv2d_2 (Conv2D)           (None, 24, 24, 64)        18496     \n",
            "                                                                 \n",
            " activation_2 (Activation)   (None, 24, 24, 64)        0         \n",
            "                                                                 \n",
            " batch_normalization_2 (Batc  (None, 24, 24, 64)       256       \n",
            " hNormalization)                                                 \n",
            "                                                                 \n",
            " conv2d_3 (Conv2D)           (None, 24, 24, 64)        36928     \n",
            "                                                                 \n",
            " activation_3 (Activation)   (None, 24, 24, 64)        0         \n",
            "                                                                 \n",
            " batch_normalization_3 (Batc  (None, 24, 24, 64)       256       \n",
            " hNormalization)                                                 \n",
            "                                                                 \n",
            " max_pooling2d_1 (MaxPooling  (None, 12, 12, 64)       0         \n",
            " 2D)                                                             \n",
            "                                                                 \n",
            " dropout_1 (Dropout)         (None, 12, 12, 64)        0         \n",
            "                                                                 \n",
            " conv2d_4 (Conv2D)           (None, 12, 12, 128)       73856     \n",
            "                                                                 \n",
            " activation_4 (Activation)   (None, 12, 12, 128)       0         \n",
            "                                                                 \n",
            " batch_normalization_4 (Batc  (None, 12, 12, 128)      512       \n",
            " hNormalization)                                                 \n",
            "                                                                 \n",
            " conv2d_5 (Conv2D)           (None, 12, 12, 128)       147584    \n",
            "                                                                 \n",
            " activation_5 (Activation)   (None, 12, 12, 128)       0         \n",
            "                                                                 \n",
            " batch_normalization_5 (Batc  (None, 12, 12, 128)      512       \n",
            " hNormalization)                                                 \n",
            "                                                                 \n",
            " max_pooling2d_2 (MaxPooling  (None, 6, 6, 128)        0         \n",
            " 2D)                                                             \n",
            "                                                                 \n",
            " dropout_2 (Dropout)         (None, 6, 6, 128)         0         \n",
            "                                                                 \n",
            " conv2d_6 (Conv2D)           (None, 6, 6, 256)         295168    \n",
            "                                                                 \n",
            " activation_6 (Activation)   (None, 6, 6, 256)         0         \n",
            "                                                                 \n",
            " batch_normalization_6 (Batc  (None, 6, 6, 256)        1024      \n",
            " hNormalization)                                                 \n",
            "                                                                 \n",
            " conv2d_7 (Conv2D)           (None, 6, 6, 256)         590080    \n",
            "                                                                 \n",
            " activation_7 (Activation)   (None, 6, 6, 256)         0         \n",
            "                                                                 \n",
            " batch_normalization_7 (Batc  (None, 6, 6, 256)        1024      \n",
            " hNormalization)                                                 \n",
            "                                                                 \n",
            " max_pooling2d_3 (MaxPooling  (None, 3, 3, 256)        0         \n",
            " 2D)                                                             \n",
            "                                                                 \n",
            " dropout_3 (Dropout)         (None, 3, 3, 256)         0         \n",
            "                                                                 \n",
            " flatten (Flatten)           (None, 2304)              0         \n",
            "                                                                 \n",
            " dense (Dense)               (None, 64)                147520    \n",
            "                                                                 \n",
            " activation_8 (Activation)   (None, 64)                0         \n",
            "                                                                 \n",
            " batch_normalization_8 (Batc  (None, 64)               256       \n",
            " hNormalization)                                                 \n",
            "                                                                 \n",
            " dropout_4 (Dropout)         (None, 64)                0         \n",
            "                                                                 \n",
            " dense_1 (Dense)             (None, 64)                4160      \n",
            "                                                                 \n",
            " activation_9 (Activation)   (None, 64)                0         \n",
            "                                                                 \n",
            " batch_normalization_9 (Batc  (None, 64)               256       \n",
            " hNormalization)                                                 \n",
            "                                                                 \n",
            " dropout_5 (Dropout)         (None, 64)                0         \n",
            "                                                                 \n",
            " dense_2 (Dense)             (None, 7)                 455       \n",
            "                                                                 \n",
            " activation_10 (Activation)  (None, 7)                 0         \n",
            "                                                                 \n",
            "=================================================================\n",
            "Total params: 1,328,743\n",
            "Trainable params: 1,326,567\n",
            "Non-trainable params: 2,176\n",
            "_________________________________________________________________\n"
          ]
        }
      ],
      "source": [
        "model = tf.keras.Sequential()\n",
        "\n",
        "model.add(Conv2D(32,(3,3),padding='same',kernel_initializer='he_normal',input_shape=(48,48,3)))\n",
        "model.add(Activation('relu'))\n",
        "model.add(BatchNormalization())\n",
        "model.add(Conv2D(32,(3,3),padding='same',kernel_initializer='he_normal',input_shape=(48,48,3)))\n",
        "model.add(Activation('relu'))\n",
        "model.add(BatchNormalization())\n",
        "model.add(MaxPooling2D(pool_size=(2,2)))\n",
        "model.add(Dropout(0.2))\n",
        "\n",
        "\n",
        "model.add(Conv2D(64,(3,3),padding='same',kernel_initializer='he_normal'))\n",
        "model.add(Activation('relu'))\n",
        "model.add(BatchNormalization())\n",
        "model.add(Conv2D(64,(3,3),padding='same',kernel_initializer='he_normal'))\n",
        "model.add(Activation('relu'))\n",
        "model.add(BatchNormalization())\n",
        "model.add(MaxPooling2D(pool_size=(2,2)))\n",
        "model.add(Dropout(0.2))\n",
        "\n",
        "\n",
        "model.add(Conv2D(128,(3,3),padding='same',kernel_initializer='he_normal'))\n",
        "model.add(Activation('relu'))\n",
        "model.add(BatchNormalization())\n",
        "model.add(Conv2D(128,(3,3),padding='same',kernel_initializer='he_normal'))\n",
        "model.add(Activation('relu'))\n",
        "model.add(BatchNormalization())\n",
        "model.add(MaxPooling2D(pool_size=(2,2)))\n",
        "model.add(Dropout(0.2))\n",
        "\n",
        "\n",
        "model.add(Conv2D(256,(3,3),padding='same',kernel_initializer='he_normal'))\n",
        "model.add(Activation('relu'))\n",
        "model.add(BatchNormalization())\n",
        "model.add(Conv2D(256,(3,3),padding='same',kernel_initializer='he_normal'))\n",
        "model.add(Activation('relu'))\n",
        "model.add(BatchNormalization())\n",
        "model.add(MaxPooling2D(pool_size=(2,2)))\n",
        "model.add(Dropout(0.2))\n",
        "\n",
        "model.add(Flatten())\n",
        "model.add(Dense(64,kernel_initializer='he_normal'))\n",
        "model.add(Activation('relu'))\n",
        "model.add(BatchNormalization())\n",
        "model.add(Dropout(0.5))\n",
        "\n",
        "\n",
        "model.add(Dense(64,kernel_initializer='he_normal'))\n",
        "model.add(Activation('relu'))\n",
        "model.add(BatchNormalization())\n",
        "model.add(Dropout(0.5))\n",
        "\n",
        "\n",
        "model.add(Dense(7,kernel_initializer='he_normal'))\n",
        "model.add(Activation('softmax'))\n",
        "\n",
        "model.summary()"
      ]
    },
    {
      "cell_type": "code",
      "execution_count": 19,
      "metadata": {
        "id": "pB5b0ZV-5O1U"
      },
      "outputs": [],
      "source": [
        "optimizer = tf.keras.optimizers.Adam(learning_rate= 0.005)\n",
        "model.compile(optimizer='adam',\n",
        "              loss=tf.keras.losses.SparseCategoricalCrossentropy(from_logits=True),\n",
        "              metrics=['accuracy'])"
      ]
    },
    {
      "cell_type": "code",
      "execution_count": 20,
      "metadata": {
        "id": "r6ipk4btPKNM",
        "colab": {
          "base_uri": "https://localhost:8080/"
        },
        "outputId": "99963940-fa28-4392-b03e-c5d3ecb376d2"
      },
      "outputs": [
        {
          "output_type": "stream",
          "name": "stdout",
          "text": [
            "Epoch 1/50\n"
          ]
        },
        {
          "output_type": "stream",
          "name": "stderr",
          "text": [
            "/usr/local/lib/python3.7/dist-packages/tensorflow/python/util/dispatch.py:1082: UserWarning: \"`sparse_categorical_crossentropy` received `from_logits=True`, but the `output` argument was produced by a sigmoid or softmax activation and thus does not represent logits. Was this intended?\"\n",
            "  return dispatch_target(*args, **kwargs)\n"
          ]
        },
        {
          "output_type": "stream",
          "name": "stdout",
          "text": [
            "898/898 [==============================] - 27s 15ms/step - loss: 2.0986 - accuracy: 0.2263 - val_loss: 1.6587 - val_accuracy: 0.3444\n",
            "Epoch 2/50\n",
            "898/898 [==============================] - 12s 13ms/step - loss: 1.6104 - accuracy: 0.3709 - val_loss: 1.5927 - val_accuracy: 0.4175\n",
            "Epoch 3/50\n",
            "898/898 [==============================] - 12s 13ms/step - loss: 1.4100 - accuracy: 0.4570 - val_loss: 1.2884 - val_accuracy: 0.4993\n",
            "Epoch 4/50\n",
            "898/898 [==============================] - 12s 13ms/step - loss: 1.3184 - accuracy: 0.5001 - val_loss: 1.3174 - val_accuracy: 0.4940\n",
            "Epoch 5/50\n",
            "898/898 [==============================] - 12s 13ms/step - loss: 1.2505 - accuracy: 0.5322 - val_loss: 1.1938 - val_accuracy: 0.5364\n",
            "Epoch 6/50\n",
            "898/898 [==============================] - 12s 13ms/step - loss: 1.2088 - accuracy: 0.5486 - val_loss: 1.1550 - val_accuracy: 0.5653\n",
            "Epoch 7/50\n",
            "898/898 [==============================] - 12s 13ms/step - loss: 1.1472 - accuracy: 0.5743 - val_loss: 1.1298 - val_accuracy: 0.5786\n",
            "Epoch 8/50\n",
            "898/898 [==============================] - 12s 13ms/step - loss: 1.0998 - accuracy: 0.5949 - val_loss: 1.1124 - val_accuracy: 0.5860\n",
            "Epoch 9/50\n",
            "898/898 [==============================] - 12s 13ms/step - loss: 1.0478 - accuracy: 0.6157 - val_loss: 1.0373 - val_accuracy: 0.6059\n",
            "Epoch 10/50\n",
            "898/898 [==============================] - 12s 13ms/step - loss: 1.0012 - accuracy: 0.6399 - val_loss: 1.0615 - val_accuracy: 0.6089\n",
            "Epoch 11/50\n",
            "898/898 [==============================] - 12s 13ms/step - loss: 0.9506 - accuracy: 0.6601 - val_loss: 1.0594 - val_accuracy: 0.6082\n",
            "Epoch 12/50\n",
            "898/898 [==============================] - 12s 13ms/step - loss: 0.8977 - accuracy: 0.6762 - val_loss: 1.1003 - val_accuracy: 0.5906\n",
            "Epoch 13/50\n",
            "898/898 [==============================] - 12s 14ms/step - loss: 0.8393 - accuracy: 0.7010 - val_loss: 1.0502 - val_accuracy: 0.6276\n",
            "Epoch 14/50\n",
            "898/898 [==============================] - 12s 14ms/step - loss: 0.7988 - accuracy: 0.7195 - val_loss: 1.0620 - val_accuracy: 0.6243\n",
            "Epoch 15/50\n",
            "898/898 [==============================] - 12s 13ms/step - loss: 0.7370 - accuracy: 0.7391 - val_loss: 1.0945 - val_accuracy: 0.6280\n",
            "Epoch 16/50\n",
            "898/898 [==============================] - 12s 13ms/step - loss: 0.6966 - accuracy: 0.7580 - val_loss: 1.1057 - val_accuracy: 0.6230\n",
            "Epoch 17/50\n",
            "898/898 [==============================] - 12s 14ms/step - loss: 0.6426 - accuracy: 0.7782 - val_loss: 1.1635 - val_accuracy: 0.6261\n",
            "Epoch 18/50\n",
            "898/898 [==============================] - 12s 14ms/step - loss: 0.6113 - accuracy: 0.7899 - val_loss: 1.1521 - val_accuracy: 0.6321\n",
            "Epoch 19/50\n",
            "898/898 [==============================] - 12s 13ms/step - loss: 0.5735 - accuracy: 0.8025 - val_loss: 1.2084 - val_accuracy: 0.6286\n",
            "Epoch 20/50\n",
            "898/898 [==============================] - 12s 13ms/step - loss: 0.5416 - accuracy: 0.8158 - val_loss: 1.2213 - val_accuracy: 0.6261\n",
            "Epoch 21/50\n",
            "898/898 [==============================] - 12s 14ms/step - loss: 0.5140 - accuracy: 0.8267 - val_loss: 1.2699 - val_accuracy: 0.6289\n",
            "Epoch 22/50\n",
            "898/898 [==============================] - 12s 14ms/step - loss: 0.4784 - accuracy: 0.8399 - val_loss: 1.2791 - val_accuracy: 0.6343\n",
            "Epoch 23/50\n",
            "898/898 [==============================] - 12s 13ms/step - loss: 0.4561 - accuracy: 0.8455 - val_loss: 1.2946 - val_accuracy: 0.6188\n",
            "Epoch 24/50\n",
            "898/898 [==============================] - 12s 14ms/step - loss: 0.4326 - accuracy: 0.8560 - val_loss: 1.2868 - val_accuracy: 0.6333\n",
            "Epoch 25/50\n",
            "898/898 [==============================] - 12s 13ms/step - loss: 0.4111 - accuracy: 0.8625 - val_loss: 1.3711 - val_accuracy: 0.6286\n",
            "Epoch 26/50\n",
            "898/898 [==============================] - 12s 13ms/step - loss: 0.3833 - accuracy: 0.8720 - val_loss: 1.4107 - val_accuracy: 0.6350\n",
            "Epoch 27/50\n",
            "898/898 [==============================] - 12s 13ms/step - loss: 0.3747 - accuracy: 0.8752 - val_loss: 1.3623 - val_accuracy: 0.6425\n",
            "Epoch 28/50\n",
            "898/898 [==============================] - 12s 13ms/step - loss: 0.3412 - accuracy: 0.8867 - val_loss: 1.4500 - val_accuracy: 0.6383\n",
            "Epoch 29/50\n",
            "898/898 [==============================] - 12s 14ms/step - loss: 0.3446 - accuracy: 0.8836 - val_loss: 1.4497 - val_accuracy: 0.6375\n",
            "Epoch 30/50\n",
            "898/898 [==============================] - 12s 13ms/step - loss: 0.3307 - accuracy: 0.8889 - val_loss: 1.5299 - val_accuracy: 0.6325\n",
            "Epoch 31/50\n",
            "898/898 [==============================] - 12s 13ms/step - loss: 0.3175 - accuracy: 0.8957 - val_loss: 1.5544 - val_accuracy: 0.6273\n",
            "Epoch 32/50\n",
            "898/898 [==============================] - 12s 13ms/step - loss: 0.3075 - accuracy: 0.8963 - val_loss: 1.5416 - val_accuracy: 0.6361\n",
            "Epoch 33/50\n",
            "898/898 [==============================] - 12s 13ms/step - loss: 0.2935 - accuracy: 0.9044 - val_loss: 1.5665 - val_accuracy: 0.6318\n",
            "Epoch 34/50\n",
            "898/898 [==============================] - 12s 13ms/step - loss: 0.2745 - accuracy: 0.9103 - val_loss: 1.5983 - val_accuracy: 0.6347\n",
            "Epoch 35/50\n",
            "898/898 [==============================] - 12s 13ms/step - loss: 0.2736 - accuracy: 0.9102 - val_loss: 1.5488 - val_accuracy: 0.6340\n",
            "Epoch 36/50\n",
            "898/898 [==============================] - 12s 13ms/step - loss: 0.2626 - accuracy: 0.9125 - val_loss: 1.6093 - val_accuracy: 0.6337\n",
            "Epoch 37/50\n",
            "898/898 [==============================] - 12s 13ms/step - loss: 0.2550 - accuracy: 0.9179 - val_loss: 1.6687 - val_accuracy: 0.6321\n",
            "Epoch 38/50\n",
            "898/898 [==============================] - 12s 13ms/step - loss: 0.2471 - accuracy: 0.9176 - val_loss: 1.6344 - val_accuracy: 0.6283\n",
            "Epoch 39/50\n",
            "898/898 [==============================] - 12s 13ms/step - loss: 0.2459 - accuracy: 0.9206 - val_loss: 1.6657 - val_accuracy: 0.6350\n",
            "Epoch 40/50\n",
            "898/898 [==============================] - 12s 13ms/step - loss: 0.2308 - accuracy: 0.9244 - val_loss: 1.7135 - val_accuracy: 0.6403\n",
            "Epoch 41/50\n",
            "898/898 [==============================] - 12s 14ms/step - loss: 0.2254 - accuracy: 0.9258 - val_loss: 1.7247 - val_accuracy: 0.6312\n",
            "Epoch 42/50\n",
            "898/898 [==============================] - 12s 14ms/step - loss: 0.2266 - accuracy: 0.9261 - val_loss: 1.6687 - val_accuracy: 0.6399\n",
            "Epoch 43/50\n",
            "898/898 [==============================] - 12s 14ms/step - loss: 0.2110 - accuracy: 0.9303 - val_loss: 1.6950 - val_accuracy: 0.6383\n",
            "Epoch 44/50\n",
            "898/898 [==============================] - 12s 14ms/step - loss: 0.2083 - accuracy: 0.9329 - val_loss: 1.6682 - val_accuracy: 0.6287\n",
            "Epoch 45/50\n",
            "898/898 [==============================] - 12s 14ms/step - loss: 0.2082 - accuracy: 0.9331 - val_loss: 1.6814 - val_accuracy: 0.6418\n",
            "Epoch 46/50\n",
            "898/898 [==============================] - 12s 14ms/step - loss: 0.1988 - accuracy: 0.9362 - val_loss: 1.7685 - val_accuracy: 0.6400\n",
            "Epoch 47/50\n",
            "898/898 [==============================] - 12s 14ms/step - loss: 0.2001 - accuracy: 0.9352 - val_loss: 1.6818 - val_accuracy: 0.6382\n",
            "Epoch 48/50\n",
            "898/898 [==============================] - 12s 14ms/step - loss: 0.1915 - accuracy: 0.9376 - val_loss: 1.7445 - val_accuracy: 0.6379\n",
            "Epoch 49/50\n",
            "898/898 [==============================] - 12s 14ms/step - loss: 0.1870 - accuracy: 0.9398 - val_loss: 1.7413 - val_accuracy: 0.6364\n",
            "Epoch 50/50\n",
            "898/898 [==============================] - 12s 13ms/step - loss: 0.1803 - accuracy: 0.9410 - val_loss: 1.8248 - val_accuracy: 0.6314\n"
          ]
        }
      ],
      "source": [
        "epochs = 50\n",
        "history = model.fit(\n",
        "  train_ds,\n",
        "  validation_data=val_ds,\n",
        "  epochs=epochs\n",
        ")"
      ]
    },
    {
      "cell_type": "markdown",
      "metadata": {
        "id": "vduL77ym5a1d"
      },
      "source": [
        "# Evaluation\n",
        "As seen, the data findings created by original code is slightly less efficient that the modified code developed. A reason may be because the modified code also includes data augumentation while the original does not."
      ]
    },
    {
      "cell_type": "code",
      "execution_count": 21,
      "metadata": {
        "id": "P3lE7kdP5Sdv",
        "colab": {
          "base_uri": "https://localhost:8080/",
          "height": 295
        },
        "outputId": "6bdf25ac-89b7-462a-e289-feef96ff9f3b"
      },
      "outputs": [
        {
          "output_type": "display_data",
          "data": {
            "text/plain": [
              "<Figure size 432x288 with 1 Axes>"
            ],
            "image/png": "[encoded data removed]"
          },
          "metadata": {
            "needs_background": "light"
          }
        }
      ],
      "source": [
        "plt.plot(history.history['accuracy'], label='Accuracy')\n",
        "plt.plot(history.history['val_accuracy'], label='Validation Accuracy')\n",
        "plt.title('CNN Metrices (Accuracy)')\n",
        "plt.ylabel('% value')\n",
        "plt.xlabel('Epoch')\n",
        "plt.legend(loc=\"upper left\")\n",
        "plt.show()"
      ]
    },
    {
      "cell_type": "code",
      "execution_count": 22,
      "metadata": {
        "id": "nRIiAnNc5Uuz",
        "colab": {
          "base_uri": "https://localhost:8080/",
          "height": 295
        },
        "outputId": "1a77d1d9-50f2-45b3-a95c-21d68f1346f3"
      },
      "outputs": [
        {
          "output_type": "display_data",
          "data": {
            "text/plain": [
              "<Figure size 432x288 with 1 Axes>"
            ],
            "image/png": "[encoded data removed]"
          },
          "metadata": {
            "needs_background": "light"
          }
        }
      ],
      "source": [
        "plt.plot(history.history['loss'], label='Loss')\n",
        "plt.plot(history.history['val_loss'], label='Validation loss')\n",
        "plt.title('CNN Metrices(Loss)')\n",
        "plt.ylabel('% value')\n",
        "plt.xlabel('Epoch')\n",
        "plt.legend(loc=\"upper left\")\n",
        "plt.show()"
      ]
    },
    {
      "cell_type": "markdown",
      "metadata": {
        "id": "217UdLI95vMT"
      },
      "source": [
        "\n",
        "\n",
        "-----------------------------------------------------\n"
      ]
    },
    {
      "cell_type": "markdown",
      "metadata": {
        "id": "BDMfYqwmM1C-"
      },
      "source": [
        "## Data augmentation & Dropout"
      ]
    },
    {
      "cell_type": "markdown",
      "metadata": {
        "id": "GxYwix81M2YO"
      },
      "source": [
        "Data augmentation takes the approach of generating additional training data from your existing examples by augmenting them using random transformations that yield believable-looking images. This helps expose the model to more aspects of the data and generalize better. \n",
        "When you apply dropout to a layer, it randomly drops out (by setting the activation to zero) a number of output units from the layer during the training process.\n",
        "\n",
        "Implemented data augmentation and dropout using the following Keras preprocessing layers: `tf.keras.layers.RandomFlip`, `tf.keras.layers.RandomRotation`, and `tf.keras.layers.RandomZoom`, `tf.keras.layers.Dropout`."
      ]
    },
    {
      "cell_type": "code",
      "execution_count": 23,
      "metadata": {
        "id": "9J80BAbIMs21"
      },
      "outputs": [],
      "source": [
        "data_augmentation = keras.Sequential(\n",
        "  [\n",
        "    layers.RandomFlip(\"horizontal\",\n",
        "                      input_shape=(img_height,\n",
        "                                  img_width,\n",
        "                                  3)),\n",
        "    layers.RandomRotation(0.1),\n",
        "    layers.RandomZoom(0.1),\n",
        "  ]\n",
        ")"
      ]
    },
    {
      "cell_type": "markdown",
      "metadata": {
        "id": "PN4k1dK3S6eV"
      },
      "source": [
        "A few augmented examples look like by applying data augmentation to the same image several times:"
      ]
    },
    {
      "cell_type": "code",
      "execution_count": 24,
      "metadata": {
        "id": "7Z90k539S838",
        "colab": {
          "base_uri": "https://localhost:8080/",
          "height": 575
        },
        "outputId": "b182b039-47d4-4dc6-e482-c16fd3cd29bf"
      },
      "outputs": [
        {
          "output_type": "display_data",
          "data": {
            "text/plain": [
              "<Figure size 720x720 with 9 Axes>"
            ],
            "image/png": "[encoded data removed]"
          },
          "metadata": {
            "needs_background": "light"
          }
        }
      ],
      "source": [
        "plt.figure(figsize=(10, 10))\n",
        "for images, _ in train_ds.take(1):\n",
        "  for i in range(9):\n",
        "    augmented_images = data_augmentation(images)\n",
        "    ax = plt.subplot(3, 3, i + 1)\n",
        "    plt.imshow(augmented_images[0].numpy().astype(\"uint8\"))\n",
        "    plt.axis(\"off\")"
      ]
    },
    {
      "cell_type": "markdown",
      "metadata": {
        "id": "kQMrBfIwtIG_"
      },
      "source": [
        "Implemented CNN is credited [SONYD4D's notebook](https://www.kaggle.com/code/sonyd4d/cnn-for-emotion-detection) from Kaggle.com\n",
        "\n"
      ]
    },
    {
      "cell_type": "code",
      "execution_count": 25,
      "metadata": {
        "id": "Vur39h6-C0JO"
      },
      "outputs": [],
      "source": [
        "num_classes = len(class_names)\n",
        "\n",
        "model = tf.keras.Sequential()\n",
        "model.add(data_augmentation)\n",
        "model.add(layers.Rescaling(1./255))\n",
        "model.add(Conv2D(32,(3,3),padding='same',kernel_initializer='he_normal',input_shape=(48,48,3)))\n",
        "model.add(Activation('relu'))\n",
        "model.add(BatchNormalization())\n",
        "model.add(Conv2D(32,(3,3),padding='same',kernel_initializer='he_normal',input_shape=(48,48,3)))\n",
        "model.add(Activation('relu'))\n",
        "model.add(BatchNormalization())\n",
        "model.add(MaxPooling2D(pool_size=(2,2)))\n",
        "model.add(Dropout(0.4))\n",
        "\n",
        "\n",
        "model.add(Conv2D(64,(3,3),padding='same',kernel_initializer='he_normal'))\n",
        "model.add(Activation('relu'))\n",
        "model.add(BatchNormalization())\n",
        "model.add(Conv2D(64,(3,3),padding='same',kernel_initializer='he_normal'))\n",
        "model.add(Activation('relu'))\n",
        "model.add(BatchNormalization())\n",
        "model.add(MaxPooling2D(pool_size=(2,2)))\n",
        "model.add(Dropout(0.4))\n",
        "\n",
        "\n",
        "model.add(Conv2D(128,(3,3),padding='same',kernel_initializer='he_normal'))\n",
        "model.add(Activation('relu'))\n",
        "model.add(BatchNormalization())\n",
        "model.add(Conv2D(128,(3,3),padding='same',kernel_initializer='he_normal'))\n",
        "model.add(Activation('relu'))\n",
        "model.add(BatchNormalization())\n",
        "model.add(MaxPooling2D(pool_size=(2,2)))\n",
        "model.add(Dropout(0.4))\n",
        "\n",
        "\n",
        "model.add(Conv2D(256,(3,3),padding='same',kernel_initializer='he_normal'))\n",
        "model.add(Activation('relu'))\n",
        "model.add(BatchNormalization())\n",
        "model.add(Conv2D(256,(3,3),padding='same',kernel_initializer='he_normal'))\n",
        "model.add(Activation('relu'))\n",
        "model.add(BatchNormalization())\n",
        "model.add(MaxPooling2D(pool_size=(2,2)))\n",
        "model.add(Dropout(0.4))\n",
        "\n",
        "\n",
        "model.add(Flatten())\n",
        "model.add(Dense(64,kernel_initializer='he_normal'))\n",
        "model.add(Activation('relu'))\n",
        "model.add(BatchNormalization())\n",
        "model.add(Dropout(0.4))\n",
        "\n",
        "\n",
        "model.add(Dense(64,kernel_initializer='he_normal'))\n",
        "model.add(Activation('relu'))\n",
        "model.add(BatchNormalization())\n",
        "model.add(Dropout(0.4))\n",
        "model.add(Dense(num_classes))"
      ]
    },
    {
      "cell_type": "markdown",
      "metadata": {
        "id": "L4nEcuqgZLbi"
      },
      "source": [
        "## Compile and train the model"
      ]
    },
    {
      "cell_type": "code",
      "execution_count": 26,
      "metadata": {
        "id": "EvyAINs9ZOmJ"
      },
      "outputs": [],
      "source": [
        "optimizer = tf.keras.optimizers.Adam(learning_rate= 0.005)\n",
        "model.compile(optimizer='adam',\n",
        "              loss=tf.keras.losses.SparseCategoricalCrossentropy(from_logits=True),\n",
        "              metrics=['accuracy'])"
      ]
    },
    {
      "cell_type": "code",
      "execution_count": 27,
      "metadata": {
        "id": "wWLkKoKjZSoC",
        "colab": {
          "base_uri": "https://localhost:8080/"
        },
        "outputId": "3ebe1f79-74a0-40cf-fa31-cbf026c1fd32"
      },
      "outputs": [
        {
          "output_type": "stream",
          "name": "stdout",
          "text": [
            "Model: \"sequential_2\"\n",
            "_________________________________________________________________\n",
            " Layer (type)                Output Shape              Param #   \n",
            "=================================================================\n",
            " sequential_1 (Sequential)   (None, 48, 48, 3)         0         \n",
            "                                                                 \n",
            " rescaling_1 (Rescaling)     (None, 48, 48, 3)         0         \n",
            "                                                                 \n",
            " conv2d_8 (Conv2D)           (None, 48, 48, 32)        896       \n",
            "                                                                 \n",
            " activation_11 (Activation)  (None, 48, 48, 32)        0         \n",
            "                                                                 \n",
            " batch_normalization_10 (Bat  (None, 48, 48, 32)       128       \n",
            " chNormalization)                                                \n",
            "                                                                 \n",
            " conv2d_9 (Conv2D)           (None, 48, 48, 32)        9248      \n",
            "                                                                 \n",
            " activation_12 (Activation)  (None, 48, 48, 32)        0         \n",
            "                                                                 \n",
            " batch_normalization_11 (Bat  (None, 48, 48, 32)       128       \n",
            " chNormalization)                                                \n",
            "                                                                 \n",
            " max_pooling2d_4 (MaxPooling  (None, 24, 24, 32)       0         \n",
            " 2D)                                                             \n",
            "                                                                 \n",
            " dropout_6 (Dropout)         (None, 24, 24, 32)        0         \n",
            "                                                                 \n",
            " conv2d_10 (Conv2D)          (None, 24, 24, 64)        18496     \n",
            "                                                                 \n",
            " activation_13 (Activation)  (None, 24, 24, 64)        0         \n",
            "                                                                 \n",
            " batch_normalization_12 (Bat  (None, 24, 24, 64)       256       \n",
            " chNormalization)                                                \n",
            "                                                                 \n",
            " conv2d_11 (Conv2D)          (None, 24, 24, 64)        36928     \n",
            "                                                                 \n",
            " activation_14 (Activation)  (None, 24, 24, 64)        0         \n",
            "                                                                 \n",
            " batch_normalization_13 (Bat  (None, 24, 24, 64)       256       \n",
            " chNormalization)                                                \n",
            "                                                                 \n",
            " max_pooling2d_5 (MaxPooling  (None, 12, 12, 64)       0         \n",
            " 2D)                                                             \n",
            "                                                                 \n",
            " dropout_7 (Dropout)         (None, 12, 12, 64)        0         \n",
            "                                                                 \n",
            " conv2d_12 (Conv2D)          (None, 12, 12, 128)       73856     \n",
            "                                                                 \n",
            " activation_15 (Activation)  (None, 12, 12, 128)       0         \n",
            "                                                                 \n",
            " batch_normalization_14 (Bat  (None, 12, 12, 128)      512       \n",
            " chNormalization)                                                \n",
            "                                                                 \n",
            " conv2d_13 (Conv2D)          (None, 12, 12, 128)       147584    \n",
            "                                                                 \n",
            " activation_16 (Activation)  (None, 12, 12, 128)       0         \n",
            "                                                                 \n",
            " batch_normalization_15 (Bat  (None, 12, 12, 128)      512       \n",
            " chNormalization)                                                \n",
            "                                                                 \n",
            " max_pooling2d_6 (MaxPooling  (None, 6, 6, 128)        0         \n",
            " 2D)                                                             \n",
            "                                                                 \n",
            " dropout_8 (Dropout)         (None, 6, 6, 128)         0         \n",
            "                                                                 \n",
            " conv2d_14 (Conv2D)          (None, 6, 6, 256)         295168    \n",
            "                                                                 \n",
            " activation_17 (Activation)  (None, 6, 6, 256)         0         \n",
            "                                                                 \n",
            " batch_normalization_16 (Bat  (None, 6, 6, 256)        1024      \n",
            " chNormalization)                                                \n",
            "                                                                 \n",
            " conv2d_15 (Conv2D)          (None, 6, 6, 256)         590080    \n",
            "                                                                 \n",
            " activation_18 (Activation)  (None, 6, 6, 256)         0         \n",
            "                                                                 \n",
            " batch_normalization_17 (Bat  (None, 6, 6, 256)        1024      \n",
            " chNormalization)                                                \n",
            "                                                                 \n",
            " max_pooling2d_7 (MaxPooling  (None, 3, 3, 256)        0         \n",
            " 2D)                                                             \n",
            "                                                                 \n",
            " dropout_9 (Dropout)         (None, 3, 3, 256)         0         \n",
            "                                                                 \n",
            " flatten_1 (Flatten)         (None, 2304)              0         \n",
            "                                                                 \n",
            " dense_3 (Dense)             (None, 64)                147520    \n",
            "                                                                 \n",
            " activation_19 (Activation)  (None, 64)                0         \n",
            "                                                                 \n",
            " batch_normalization_18 (Bat  (None, 64)               256       \n",
            " chNormalization)                                                \n",
            "                                                                 \n",
            " dropout_10 (Dropout)        (None, 64)                0         \n",
            "                                                                 \n",
            " dense_4 (Dense)             (None, 64)                4160      \n",
            "                                                                 \n",
            " activation_20 (Activation)  (None, 64)                0         \n",
            "                                                                 \n",
            " batch_normalization_19 (Bat  (None, 64)               256       \n",
            " chNormalization)                                                \n",
            "                                                                 \n",
            " dropout_11 (Dropout)        (None, 64)                0         \n",
            "                                                                 \n",
            " dense_5 (Dense)             (None, 7)                 455       \n",
            "                                                                 \n",
            "=================================================================\n",
            "Total params: 1,328,743\n",
            "Trainable params: 1,326,567\n",
            "Non-trainable params: 2,176\n",
            "_________________________________________________________________\n"
          ]
        }
      ],
      "source": [
        "model.summary()"
      ]
    },
    {
      "cell_type": "code",
      "execution_count": 28,
      "metadata": {
        "id": "LWS-vvNaZDag",
        "colab": {
          "base_uri": "https://localhost:8080/"
        },
        "outputId": "dc348ebe-c5e3-4d4a-96ea-08e566c2f32e"
      },
      "outputs": [
        {
          "output_type": "stream",
          "name": "stdout",
          "text": [
            "Epoch 1/50\n",
            "898/898 [==============================] - 16s 15ms/step - loss: 2.0182 - accuracy: 0.2134 - val_loss: 1.8115 - val_accuracy: 0.2515\n",
            "Epoch 2/50\n",
            "898/898 [==============================] - 13s 15ms/step - loss: 1.7601 - accuracy: 0.2747 - val_loss: 1.7208 - val_accuracy: 0.3108\n",
            "Epoch 3/50\n",
            "898/898 [==============================] - 13s 15ms/step - loss: 1.6469 - accuracy: 0.3469 - val_loss: 1.5255 - val_accuracy: 0.3984\n",
            "Epoch 4/50\n",
            "898/898 [==============================] - 13s 15ms/step - loss: 1.5308 - accuracy: 0.4068 - val_loss: 1.4186 - val_accuracy: 0.4551\n",
            "Epoch 5/50\n",
            "898/898 [==============================] - 13s 15ms/step - loss: 1.4478 - accuracy: 0.4462 - val_loss: 1.4127 - val_accuracy: 0.4620\n",
            "Epoch 6/50\n",
            "898/898 [==============================] - 13s 15ms/step - loss: 1.3928 - accuracy: 0.4664 - val_loss: 1.2458 - val_accuracy: 0.5258\n",
            "Epoch 7/50\n",
            "898/898 [==============================] - 13s 15ms/step - loss: 1.3537 - accuracy: 0.4856 - val_loss: 1.2208 - val_accuracy: 0.5354\n",
            "Epoch 8/50\n",
            "898/898 [==============================] - 13s 15ms/step - loss: 1.3189 - accuracy: 0.5009 - val_loss: 1.1898 - val_accuracy: 0.5447\n",
            "Epoch 9/50\n",
            "898/898 [==============================] - 14s 15ms/step - loss: 1.2952 - accuracy: 0.5161 - val_loss: 1.2404 - val_accuracy: 0.5199\n",
            "Epoch 10/50\n",
            "898/898 [==============================] - 13s 15ms/step - loss: 1.2699 - accuracy: 0.5261 - val_loss: 1.1752 - val_accuracy: 0.5449\n",
            "Epoch 11/50\n",
            "898/898 [==============================] - 13s 15ms/step - loss: 1.2560 - accuracy: 0.5273 - val_loss: 1.1129 - val_accuracy: 0.5719\n",
            "Epoch 12/50\n",
            "898/898 [==============================] - 13s 15ms/step - loss: 1.2291 - accuracy: 0.5368 - val_loss: 1.2251 - val_accuracy: 0.5280\n",
            "Epoch 13/50\n",
            "898/898 [==============================] - 13s 15ms/step - loss: 1.2217 - accuracy: 0.5435 - val_loss: 1.1392 - val_accuracy: 0.5574\n",
            "Epoch 14/50\n",
            "898/898 [==============================] - 13s 15ms/step - loss: 1.2024 - accuracy: 0.5512 - val_loss: 1.1274 - val_accuracy: 0.5612\n",
            "Epoch 15/50\n",
            "898/898 [==============================] - 13s 15ms/step - loss: 1.1931 - accuracy: 0.5564 - val_loss: 1.1057 - val_accuracy: 0.5729\n",
            "Epoch 16/50\n",
            "898/898 [==============================] - 14s 15ms/step - loss: 1.1823 - accuracy: 0.5603 - val_loss: 1.0827 - val_accuracy: 0.5851\n",
            "Epoch 17/50\n",
            "898/898 [==============================] - 13s 15ms/step - loss: 1.1758 - accuracy: 0.5643 - val_loss: 1.0769 - val_accuracy: 0.5946\n",
            "Epoch 18/50\n",
            "898/898 [==============================] - 13s 15ms/step - loss: 1.1583 - accuracy: 0.5691 - val_loss: 1.0807 - val_accuracy: 0.5883\n",
            "Epoch 19/50\n",
            "898/898 [==============================] - 13s 15ms/step - loss: 1.1501 - accuracy: 0.5732 - val_loss: 1.0813 - val_accuracy: 0.5900\n",
            "Epoch 20/50\n",
            "898/898 [==============================] - 13s 15ms/step - loss: 1.1452 - accuracy: 0.5755 - val_loss: 1.0444 - val_accuracy: 0.6032\n",
            "Epoch 21/50\n",
            "898/898 [==============================] - 13s 15ms/step - loss: 1.1330 - accuracy: 0.5802 - val_loss: 1.0389 - val_accuracy: 0.6060\n",
            "Epoch 22/50\n",
            "898/898 [==============================] - 13s 15ms/step - loss: 1.1346 - accuracy: 0.5794 - val_loss: 1.0457 - val_accuracy: 0.6037\n",
            "Epoch 23/50\n",
            "898/898 [==============================] - 13s 15ms/step - loss: 1.1198 - accuracy: 0.5883 - val_loss: 1.0428 - val_accuracy: 0.6027\n",
            "Epoch 24/50\n",
            "898/898 [==============================] - 13s 15ms/step - loss: 1.1147 - accuracy: 0.5845 - val_loss: 1.0308 - val_accuracy: 0.6052\n",
            "Epoch 25/50\n",
            "898/898 [==============================] - 15s 17ms/step - loss: 1.1089 - accuracy: 0.5839 - val_loss: 1.0588 - val_accuracy: 0.6014\n",
            "Epoch 26/50\n",
            "898/898 [==============================] - 13s 15ms/step - loss: 1.1021 - accuracy: 0.5912 - val_loss: 1.0315 - val_accuracy: 0.6120\n",
            "Epoch 27/50\n",
            "898/898 [==============================] - 13s 15ms/step - loss: 1.1005 - accuracy: 0.5921 - val_loss: 1.0324 - val_accuracy: 0.6046\n",
            "Epoch 28/50\n",
            "898/898 [==============================] - 13s 15ms/step - loss: 1.0939 - accuracy: 0.5967 - val_loss: 1.0188 - val_accuracy: 0.6215\n",
            "Epoch 29/50\n",
            "898/898 [==============================] - 13s 15ms/step - loss: 1.0895 - accuracy: 0.6001 - val_loss: 1.0667 - val_accuracy: 0.5950\n",
            "Epoch 30/50\n",
            "898/898 [==============================] - 13s 15ms/step - loss: 1.0854 - accuracy: 0.5990 - val_loss: 1.0038 - val_accuracy: 0.6174\n",
            "Epoch 31/50\n",
            "898/898 [==============================] - 13s 15ms/step - loss: 1.0790 - accuracy: 0.6009 - val_loss: 1.0083 - val_accuracy: 0.6202\n",
            "Epoch 32/50\n",
            "898/898 [==============================] - 13s 15ms/step - loss: 1.0766 - accuracy: 0.6028 - val_loss: 1.0125 - val_accuracy: 0.6145\n",
            "Epoch 33/50\n",
            "898/898 [==============================] - 13s 15ms/step - loss: 1.0698 - accuracy: 0.6055 - val_loss: 1.0046 - val_accuracy: 0.6206\n",
            "Epoch 34/50\n",
            "898/898 [==============================] - 13s 15ms/step - loss: 1.0654 - accuracy: 0.6062 - val_loss: 0.9960 - val_accuracy: 0.6241\n",
            "Epoch 35/50\n",
            "898/898 [==============================] - 13s 15ms/step - loss: 1.0642 - accuracy: 0.6096 - val_loss: 0.9983 - val_accuracy: 0.6155\n",
            "Epoch 36/50\n",
            "898/898 [==============================] - 14s 15ms/step - loss: 1.0533 - accuracy: 0.6134 - val_loss: 1.0183 - val_accuracy: 0.6108\n",
            "Epoch 37/50\n",
            "898/898 [==============================] - 13s 15ms/step - loss: 1.0536 - accuracy: 0.6103 - val_loss: 0.9970 - val_accuracy: 0.6255\n",
            "Epoch 38/50\n",
            "898/898 [==============================] - 13s 15ms/step - loss: 1.0506 - accuracy: 0.6118 - val_loss: 0.9981 - val_accuracy: 0.6269\n",
            "Epoch 39/50\n",
            "898/898 [==============================] - 13s 15ms/step - loss: 1.0486 - accuracy: 0.6127 - val_loss: 0.9764 - val_accuracy: 0.6328\n",
            "Epoch 40/50\n",
            "898/898 [==============================] - 13s 15ms/step - loss: 1.0497 - accuracy: 0.6163 - val_loss: 0.9815 - val_accuracy: 0.6301\n",
            "Epoch 41/50\n",
            "898/898 [==============================] - 13s 15ms/step - loss: 1.0436 - accuracy: 0.6148 - val_loss: 0.9737 - val_accuracy: 0.6319\n",
            "Epoch 42/50\n",
            "898/898 [==============================] - 13s 15ms/step - loss: 1.0321 - accuracy: 0.6164 - val_loss: 0.9620 - val_accuracy: 0.6395\n",
            "Epoch 43/50\n",
            "898/898 [==============================] - 14s 15ms/step - loss: 1.0238 - accuracy: 0.6237 - val_loss: 1.0011 - val_accuracy: 0.6208\n",
            "Epoch 44/50\n",
            "898/898 [==============================] - 13s 15ms/step - loss: 1.0260 - accuracy: 0.6219 - val_loss: 0.9788 - val_accuracy: 0.6297\n",
            "Epoch 45/50\n",
            "898/898 [==============================] - 13s 15ms/step - loss: 1.0250 - accuracy: 0.6243 - val_loss: 0.9712 - val_accuracy: 0.6342\n",
            "Epoch 46/50\n",
            "898/898 [==============================] - 13s 15ms/step - loss: 1.0245 - accuracy: 0.6240 - val_loss: 0.9852 - val_accuracy: 0.6264\n",
            "Epoch 47/50\n",
            "898/898 [==============================] - 13s 15ms/step - loss: 1.0225 - accuracy: 0.6275 - val_loss: 0.9709 - val_accuracy: 0.6365\n",
            "Epoch 48/50\n",
            "898/898 [==============================] - 13s 15ms/step - loss: 1.0137 - accuracy: 0.6269 - val_loss: 0.9627 - val_accuracy: 0.6385\n",
            "Epoch 49/50\n",
            "898/898 [==============================] - 13s 15ms/step - loss: 1.0148 - accuracy: 0.6279 - val_loss: 0.9769 - val_accuracy: 0.6358\n",
            "Epoch 50/50\n",
            "898/898 [==============================] - 14s 15ms/step - loss: 1.0111 - accuracy: 0.6273 - val_loss: 0.9788 - val_accuracy: 0.6342\n"
          ]
        }
      ],
      "source": [
        "epochs = 50\n",
        "history = model.fit(\n",
        "  train_ds,\n",
        "  validation_data=val_ds,\n",
        "  epochs=epochs\n",
        ")"
      ]
    },
    {
      "cell_type": "markdown",
      "metadata": {
        "id": "Lkdl8VsBbZOu"
      },
      "source": [
        "## Visualize training results\n",
        "\n",
        "After applying data augmentation and dropout, here is a visual of how our test and training data did:"
      ]
    },
    {
      "cell_type": "code",
      "execution_count": 29,
      "metadata": {
        "id": "dduoLfKsZVIA",
        "colab": {
          "base_uri": "https://localhost:8080/",
          "height": 499
        },
        "outputId": "5b610975-dabb-4c07-bf6e-00dd3b92c242"
      },
      "outputs": [
        {
          "output_type": "display_data",
          "data": {
            "text/plain": [
              "<Figure size 576x576 with 2 Axes>"
            ],
            "image/png": "[encoded data removed]"
          },
          "metadata": {
            "needs_background": "light"
          }
        }
      ],
      "source": [
        "acc = history.history['accuracy']\n",
        "val_acc = history.history['val_accuracy']\n",
        "\n",
        "loss = history.history['loss']\n",
        "val_loss = history.history['val_loss']\n",
        "\n",
        "epochs_range = range(epochs)\n",
        "\n",
        "plt.figure(figsize=(8, 8))\n",
        "plt.subplot(1, 2, 1)\n",
        "plt.plot(epochs_range, acc, label='Training Accuracy')\n",
        "plt.plot(epochs_range, val_acc, label='Validation Accuracy')\n",
        "plt.legend(loc='lower right')\n",
        "plt.title('Training and Validation Accuracy')\n",
        "\n",
        "plt.subplot(1, 2, 2)\n",
        "plt.plot(epochs_range, loss, label='Training Loss')\n",
        "plt.plot(epochs_range, val_loss, label='Validation Loss')\n",
        "plt.legend(loc='upper right')\n",
        "plt.title('Training and Validation Loss')\n",
        "plt.show()"
      ]
    }
  ],
  "metadata": {
    "accelerator": "GPU",
    "colab": {
      "collapsed_sections": [],
      "machine_shape": "hm",
      "name": "Image Emotion Classifier Mini Project.ipynb",
      "provenance": []
    },
    "kernelspec": {
      "display_name": "Python 3",
      "name": "python3"
    }
  },
  "nbformat": 4,
  "nbformat_minor": 0
}